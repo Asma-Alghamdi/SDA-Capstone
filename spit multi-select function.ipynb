{
 "cells": [
  {
   "cell_type": "code",
   "execution_count": null,
   "metadata": {},
   "outputs": [],
   "source": [
    "import pandas as pd\n",
    "import numpy as np\n"
   ]
  },
  {
   "cell_type": "markdown",
   "metadata": {},
   "source": [
    "# Loading Dataset"
   ]
  },
  {
   "cell_type": "code",
   "execution_count": null,
   "metadata": {},
   "outputs": [],
   "source": [
    "dfs = pd.read_csv('./Cleaned data.csv')\n",
    "dfs"
   ]
  },
  {
   "cell_type": "markdown",
   "metadata": {},
   "source": [
    "# Get Select Options of a Column"
   ]
  },
  {
   "cell_type": "code",
   "execution_count": null,
   "metadata": {},
   "outputs": [],
   "source": [
    "def getSelectOptions(column):\n",
    "    selectOptions = ','.join(column.unique())\n",
    "    selectOptions = selectOptions.split(',')\n",
    "    selectOptions = [x.strip() for x in selectOptions]\n",
    "    selectOptions = pd.DataFrame(selectOptions)[0].unique()\n",
    "    selectOptions = [x for x in selectOptions if x] # check and remove any empty elements\n",
    "    return selectOptions"
   ]
  },
  {
   "cell_type": "markdown",
   "metadata": {},
   "source": [
    "# Create a function to spit multi-select value columns"
   ]
  },
  {
   "cell_type": "code",
   "execution_count": null,
   "metadata": {},
   "outputs": [],
   "source": [
    "def multiSelectSplitColumn(column, removeCols = [], selections = []):\n",
    "    \n",
    "    # get all selection optins if selection is Null\n",
    "    if (selections == []):\n",
    "        selections = getSelectOptions(column)\n",
    "\n",
    "    # initializing empty dataframe\n",
    "    dfs = pd.DataFrame({})\n",
    "\n",
    "    # trip spaces for each elements\n",
    "    selectionList = [x.strip() for x in selections]\n",
    "\n",
    "    # initializing columns\n",
    "    for columnName in selectionList:\n",
    "        dfs[columnName] = np.repeat(0, len(column))\n",
    "\n",
    "    for rowIndex in range(len(column)):\n",
    "        # cleaning value and convert row into array of selection value\n",
    "        optionsList = column[rowIndex].strip().split(\",\")\n",
    "        optionsList = [x.strip() for x in optionsList]\n",
    "        optionsList = [i for i in optionsList if i] # remove any empty elements\n",
    "\n",
    "        # loading the data to each column \n",
    "        for value in optionsList:\n",
    "            #if (not isinstance(selectNan, selectionList)):\n",
    "            dfs[value].iloc[[rowIndex]] = 1\n",
    "            #print(rowIndex, \": \",value)\n",
    "\n",
    "    if (removeCols != ''):\n",
    "        dfs.drop(removeCols, axis=1, inplace=True)\n",
    "        \n",
    "\n",
    "    return dfs"
   ]
  },
  {
   "cell_type": "markdown",
   "metadata": {},
   "source": [
    "#  ✅ Testing Functions"
   ]
  },
  {
   "cell_type": "code",
   "execution_count": null,
   "metadata": {},
   "outputs": [],
   "source": [
    "# remove multi-column [\"I don't know\", \"None of the above\"] option\n",
    "\n",
    "#multiSelectSplitColumn(column = dfs['Digital devices with Internet security tool'], removeCols=[\"I don't know\", \"None of the above\"])"
   ]
  },
  {
   "cell_type": "code",
   "execution_count": null,
   "metadata": {},
   "outputs": [],
   "source": [
    "# remove singal column [\"I don't know\", \"None of the above\"] option\n",
    "\n",
    "#multiSelectSplitColumn(dfs['Digital devices with Internet security tool'], [\"None of the above\"])\n"
   ]
  },
  {
   "cell_type": "code",
   "execution_count": null,
   "metadata": {},
   "outputs": [],
   "source": [
    "# run all columns need spliting\n",
    "\n",
    "#multiSelectSplitColumn(dfs['Type of connectivity'])\n",
    "#multiSelectSplitColumn(dfs['Purpose of using internet'])\n",
    "#multiSelectSplitColumn(dfs['Operating system of desktop or laptop'])\n",
    "#multiSelectSplitColumn(dfs['Operating system of smartphone or tablet'])\n",
    "#multiSelectSplitColumn(dfs['Common security tools'])\n",
    "#multiSelectSplitColumn(dfs['Digital devices with Internet security tool'])\n",
    "#multiSelectSplitColumn(dfs['To who report cybercrime'])\n",
    "#multiSelectSplitColumn(dfs['Digital devices type'])\n"
   ]
  }
 ],
 "metadata": {
  "interpreter": {
   "hash": "b53c3a37e441508ace578b6688a967cd76727ea9e436bd07fe44915c74bc3245"
  },
  "kernelspec": {
   "display_name": "Python 3.8.8 64-bit ('base': conda)",
   "language": "python",
   "name": "python3"
  },
  "language_info": {
   "codemirror_mode": {
    "name": "ipython",
    "version": 3
   },
   "file_extension": ".py",
   "mimetype": "text/x-python",
   "name": "python",
   "nbconvert_exporter": "python",
   "pygments_lexer": "ipython3",
   "version": "3.8.8"
  },
  "orig_nbformat": 4
 },
 "nbformat": 4,
 "nbformat_minor": 2
}
