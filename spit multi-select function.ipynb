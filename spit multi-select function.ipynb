{
 "cells": [
  {
   "cell_type": "code",
   "execution_count": null,
   "metadata": {},
   "outputs": [],
   "source": [
    "import pandas as pd\n",
    "import numpy as np\n"
   ]
  },
  {
   "cell_type": "markdown",
   "metadata": {},
   "source": [
    "# Loading Dataset"
   ]
  },
  {
   "cell_type": "code",
   "execution_count": null,
   "metadata": {},
   "outputs": [],
   "source": [
    "df = pd.read_csv('./Cleaned data.csv')\n",
    "df"
   ]
  },
  {
   "cell_type": "markdown",
   "metadata": {},
   "source": [
    "# Get Select Options of a Column"
   ]
  },
  {
   "cell_type": "code",
   "execution_count": null,
   "metadata": {},
   "outputs": [],
   "source": [
    "def getSelectOptions(column):\n",
    "    selectOptions = ','.join(column.unique())\n",
    "    selectOptions = selectOptions.split(',')\n",
    "    selectOptions = [x.strip() for x in selectOptions]\n",
    "    selectOptions = pd.DataFrame(selectOptions)[0].unique()\n",
    "    selectOptions = [x for x in selectOptions if x] # check and remove any empty elements\n",
    "    return selectOptions"
   ]
  },
  {
   "cell_type": "markdown",
   "metadata": {},
   "source": [
    "# Create a function to spit multi-select value columns"
   ]
  },
  {
   "cell_type": "code",
   "execution_count": null,
   "metadata": {},
   "outputs": [],
   "source": [
    "def multiSelectSplitColumn(column, removeCols = [], selections = []):\n",
    "    \n",
    "    # get all selection optins if selection is Null\n",
    "    if (selections == []):\n",
    "        selections = getSelectOptions(column)\n",
    "\n",
    "    # initializing empty dataframe\n",
    "    df = pd.DataFrame({})\n",
    "\n",
    "    # trip spaces for each elements\n",
    "    selectionList = [x.strip() for x in selections]\n",
    "\n",
    "    # initializing columns\n",
    "    for columnName in selectionList:\n",
    "        df[columnName] = np.repeat(0, len(column))\n",
    "\n",
    "    for rowIndex in range(len(column)):\n",
    "        # cleaning value and convert row into array of selection value\n",
    "        optionsList = column[rowIndex].strip().split(\",\")\n",
    "        optionsList = [x.strip() for x in optionsList]\n",
    "        optionsList = [i for i in optionsList if i] # remove any empty elements\n",
    "\n",
    "        # loading the data to each column \n",
    "        for value in optionsList:\n",
    "            #if (not isinstance(selectNan, selectionList)):\n",
    "            df[value].iloc[[rowIndex]] = 1\n",
    "            #print(rowIndex, \": \",value)\n",
    "\n",
    "    if (removeCols != ''):\n",
    "        df.drop(removeCols, axis=1, inplace=True)\n",
    "        \n",
    "\n",
    "    return df"
   ]
  },
  {
   "cell_type": "markdown",
   "metadata": {},
   "source": [
    "#  ✅ Testing Functions"
   ]
  },
  {
   "cell_type": "code",
   "execution_count": null,
   "metadata": {},
   "outputs": [],
   "source": [
    "# remove multi-column [\"I don't know\", \"None of the above\"] option\n",
    "multiSelectSplitColumn(column = df['Digital devices with Internet security tool'], \n",
    "                       removeCols=[\"I don't know\", \"None of the above\"])"
   ]
  },
  {
   "cell_type": "code",
   "execution_count": null,
   "metadata": {},
   "outputs": [],
   "source": [
    "# remove singal column [\"I don't know\", \"None of the above\"] option\n",
    "multiSelectSplitColumn(df['Digital devices with Internet security tool'], [\"None of the above\"])\n"
   ]
  },
  {
   "cell_type": "code",
   "execution_count": null,
   "metadata": {},
   "outputs": [],
   "source": [
    "# run all columns need spliting\n",
    "multiSelectSplitColumn(df['Digital devices type'])\n",
    "multiSelectSplitColumn(df['Type of connectivity'])\n",
    "multiSelectSplitColumn(df['Purpose of using internet'])\n",
    "multiSelectSplitColumn(df['Operating system of desktop/laptop'])\n",
    "multiSelectSplitColumn(df['Operating system of smartphone/tablet'])\n",
    "multiSelectSplitColumn(df['Common security tools'])\n",
    "multiSelectSplitColumn(df['Digital devices with Internet security tool'])\n",
    "#multiSelectSplitColumn(df['To who report cybercrime'])"
   ]
  }
 ],
 "metadata": {
  "interpreter": {
   "hash": "b53c3a37e441508ace578b6688a967cd76727ea9e436bd07fe44915c74bc3245"
  },
  "kernelspec": {
   "display_name": "Python 3.8.8 64-bit ('base': conda)",
   "language": "python",
   "name": "python3"
  },
  "language_info": {
   "codemirror_mode": {
    "name": "ipython",
    "version": 3
   },
   "file_extension": ".py",
   "mimetype": "text/x-python",
   "name": "python",
   "nbconvert_exporter": "python",
   "pygments_lexer": "ipython3",
   "version": "3.8.8"
  },
  "orig_nbformat": 4
 },
 "nbformat": 4,
 "nbformat_minor": 2
}
