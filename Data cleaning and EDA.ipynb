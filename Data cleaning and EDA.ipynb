{
 "cells": [
  {
   "cell_type": "code",
   "execution_count": null,
   "metadata": {},
   "outputs": [],
   "source": [
    "import pandas as pd\n",
    "import numpy as np\n"
   ]
  },
  {
   "cell_type": "code",
   "execution_count": null,
   "metadata": {},
   "outputs": [],
   "source": [
    "df = pd.read_csv('./Cleaned data.csv')\n",
    "df"
   ]
  },
  {
   "cell_type": "code",
   "execution_count": null,
   "metadata": {},
   "outputs": [],
   "source": [
    "df.iloc[:,7].unique()"
   ]
  },
  {
   "cell_type": "markdown",
   "metadata": {},
   "source": [
    "# Create a function to spit multi-select value columns"
   ]
  },
  {
   "cell_type": "code",
   "execution_count": null,
   "metadata": {},
   "outputs": [],
   "source": [
    "# col = df.iloc[:, 7]\n",
    "col = {'col': ['Desktop, Laptop, Smartphone',\n",
    "               'Laptop, Smartphone',\n",
    "               'Smartphone',\n",
    "               'Desktop, Laptop, Smartphone',]}\n",
    "\n",
    "col = pd.DataFrame(['Desktop, Laptop, Smartphone',\n",
    "                    'Laptop, Smartphone',\n",
    "                    'Smartphone',\n",
    "                    'Desktop, Laptop, Smartphone'])\n",
    "col[0].unique()"
   ]
  },
  {
   "cell_type": "code",
   "execution_count": null,
   "metadata": {},
   "outputs": [],
   "source": [
    "col = df.iloc[:, 7]\n",
    "col"
   ]
  },
  {
   "cell_type": "code",
   "execution_count": null,
   "metadata": {},
   "outputs": [],
   "source": [
    "len(col)"
   ]
  },
  {
   "cell_type": "code",
   "execution_count": null,
   "metadata": {},
   "outputs": [],
   "source": [
    "lengths = col.str.len()\n",
    "argmax = np.where(lengths == lengths.max())[0]\n",
    "longSelection = col.iloc[argmax].values\n",
    "longSelection"
   ]
  },
  {
   "cell_type": "code",
   "execution_count": null,
   "metadata": {},
   "outputs": [],
   "source": [
    "for row in col:\n",
    "    currentRow = row\n",
    "    print(currentRow)"
   ]
  },
  {
   "cell_type": "code",
   "execution_count": null,
   "metadata": {},
   "outputs": [],
   "source": [
    "def multiSelectSplitColumn(column, selections = [], selectNan = ''):\n",
    "    \n",
    "    # find all selection optins if selection is Null\n",
    "    if (selections == []):\n",
    "        lengths = column.str.len()\n",
    "        argmax = np.where(lengths == lengths.max())[0]\n",
    "        selections = column.iloc[argmax].values\n",
    "        selections = ','.join(selections)\n",
    "\n",
    "    # initializing empty dataframe\n",
    "    df = pd.DataFrame({})\n",
    "\n",
    "    # split string by (,)\n",
    "    selectionList = selections.split(\",\")\n",
    "    # trip spaces for each elements\n",
    "    selectionList = [x.strip() for x in selectionList]\n",
    "\n",
    "    # initializing columns\n",
    "    for columnName in selectionList:\n",
    "        df[columnName] = np.repeat(0, len(column))\n",
    "\n",
    "    for rowIndex in range(len(column)):\n",
    "        # cleaning value and convert row into array of selection value\n",
    "        rowList = column[rowIndex].strip().split(\",\")\n",
    "        rowList = [x.strip() for x in rowList]\n",
    "        rowList = [i for i in rowList if i] # remove any empty elements\n",
    "\n",
    "        # loading the data to each column \n",
    "        for value in rowList:\n",
    "            #if (not isinstance(selectNan, selectionList)):\n",
    "            df[value].iloc[[rowIndex]] = 1\n",
    "            #print(rowIndex, \": \",value)\n",
    "        \n",
    "\n",
    "    return df"
   ]
  },
  {
   "cell_type": "code",
   "execution_count": null,
   "metadata": {},
   "outputs": [],
   "source": []
  },
  {
   "cell_type": "code",
   "execution_count": null,
   "metadata": {},
   "outputs": [],
   "source": [
    "df.iloc[:, 25]"
   ]
  },
  {
   "cell_type": "code",
   "execution_count": null,
   "metadata": {},
   "outputs": [],
   "source": [
    "#multiSelectSplitColumn(df.iloc[:, 7])  # need fixing the value 'Smartwatch'\n",
    "#multiSelectSplitColumn(df.iloc[:, 8]) \n",
    "multiSelectSplitColumn(df.iloc[:, 9]) # ✅\n",
    "#multiSelectSplitColumn(column = df.iloc[:, 10], selectNan= \"I don't know\")\n",
    "#multiSelectSplitColumn(df.iloc[:, 11])\n",
    "#multiSelectSplitColumn(df.iloc[:, 12])\n",
    "#multiSelectSplitColumn(df.iloc[:, 25])\n",
    "#multiSelectSplitColumn(df.iloc[:, 56])"
   ]
  }
 ],
 "metadata": {
  "interpreter": {
   "hash": "b53c3a37e441508ace578b6688a967cd76727ea9e436bd07fe44915c74bc3245"
  },
  "kernelspec": {
   "display_name": "Python 3.8.8 64-bit ('base': conda)",
   "language": "python",
   "name": "python3"
  },
  "language_info": {
   "codemirror_mode": {
    "name": "ipython",
    "version": 3
   },
   "file_extension": ".py",
   "mimetype": "text/x-python",
   "name": "python",
   "nbconvert_exporter": "python",
   "pygments_lexer": "ipython3",
   "version": "3.8.8"
  },
  "orig_nbformat": 4
 },
 "nbformat": 4,
 "nbformat_minor": 2
}
