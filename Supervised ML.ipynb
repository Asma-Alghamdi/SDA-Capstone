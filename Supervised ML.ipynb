{
 "cells": [
  {
   "cell_type": "code",
   "execution_count": 2,
   "metadata": {},
   "outputs": [],
   "source": [
    "import pandas as pd\n",
    "import numpy as np\n",
    "import tensorflow as tf\n",
    "\n",
    "from sklearn.tree import DecisionTreeClassifier\n",
    "from sklearn.model_selection import train_test_split\n",
    "from sklearn.linear_model import LogisticRegression\n",
    "from sklearn.model_selection import GridSearchCV\n",
    "from sklearn import metrics\n",
    "from sklearn.ensemble import RandomForestClassifier\n",
    "from sklearn.svm import SVC\n",
    "from sklearn.model_selection import cross_val_score\n",
    "from sklearn.preprocessing import LabelEncoder\n",
    "from sklearn.compose import ColumnTransformer\n",
    "from sklearn.preprocessing import StandardScaler\n"
   ]
  },
  {
   "cell_type": "code",
   "execution_count": 3,
   "metadata": {},
   "outputs": [
    {
     "data": {
      "text/html": [
       "<div>\n",
       "<style scoped>\n",
       "    .dataframe tbody tr th:only-of-type {\n",
       "        vertical-align: middle;\n",
       "    }\n",
       "\n",
       "    .dataframe tbody tr th {\n",
       "        vertical-align: top;\n",
       "    }\n",
       "\n",
       "    .dataframe thead th {\n",
       "        text-align: right;\n",
       "    }\n",
       "</style>\n",
       "<table border=\"1\" class=\"dataframe\">\n",
       "  <thead>\n",
       "    <tr style=\"text-align: right;\">\n",
       "      <th></th>\n",
       "      <th>Age</th>\n",
       "      <th>Education level</th>\n",
       "      <th>Number of use Internet and Internet-related services</th>\n",
       "      <th>Internet/ Digital devices skills level</th>\n",
       "      <th>Secure of person's digital devices</th>\n",
       "      <th>Legitimacy of a website</th>\n",
       "      <th>Password with personal information</th>\n",
       "      <th>Aware of the danger of clicking pop-up screens</th>\n",
       "      <th>Attention to person's account privacy</th>\n",
       "      <th>Protection of social media services for personal info</th>\n",
       "      <th>...</th>\n",
       "      <th>blogs1</th>\n",
       "      <th>etc.1</th>\n",
       "      <th>Government websites (e.g. CERT)1</th>\n",
       "      <th>I do not feel that I keep myself updated1</th>\n",
       "      <th>Rely on automatic updates1</th>\n",
       "      <th>Internet service provider ISPs1</th>\n",
       "      <th>Other- Messages from Communication Company1</th>\n",
       "      <th>Others: Twitter1</th>\n",
       "      <th>Other- Twitter1</th>\n",
       "      <th>etc..1</th>\n",
       "    </tr>\n",
       "  </thead>\n",
       "  <tbody>\n",
       "    <tr>\n",
       "      <th>0</th>\n",
       "      <td>0</td>\n",
       "      <td>3</td>\n",
       "      <td>2</td>\n",
       "      <td>1</td>\n",
       "      <td>3</td>\n",
       "      <td>4</td>\n",
       "      <td>0</td>\n",
       "      <td>4</td>\n",
       "      <td>4</td>\n",
       "      <td>2</td>\n",
       "      <td>...</td>\n",
       "      <td>1</td>\n",
       "      <td>1</td>\n",
       "      <td>0</td>\n",
       "      <td>0</td>\n",
       "      <td>0</td>\n",
       "      <td>0</td>\n",
       "      <td>0</td>\n",
       "      <td>0</td>\n",
       "      <td>0</td>\n",
       "      <td>0</td>\n",
       "    </tr>\n",
       "    <tr>\n",
       "      <th>1</th>\n",
       "      <td>0</td>\n",
       "      <td>2</td>\n",
       "      <td>2</td>\n",
       "      <td>1</td>\n",
       "      <td>4</td>\n",
       "      <td>0</td>\n",
       "      <td>4</td>\n",
       "      <td>4</td>\n",
       "      <td>4</td>\n",
       "      <td>3</td>\n",
       "      <td>...</td>\n",
       "      <td>1</td>\n",
       "      <td>1</td>\n",
       "      <td>0</td>\n",
       "      <td>0</td>\n",
       "      <td>0</td>\n",
       "      <td>0</td>\n",
       "      <td>0</td>\n",
       "      <td>0</td>\n",
       "      <td>0</td>\n",
       "      <td>0</td>\n",
       "    </tr>\n",
       "    <tr>\n",
       "      <th>2</th>\n",
       "      <td>0</td>\n",
       "      <td>2</td>\n",
       "      <td>2</td>\n",
       "      <td>1</td>\n",
       "      <td>4</td>\n",
       "      <td>3</td>\n",
       "      <td>3</td>\n",
       "      <td>4</td>\n",
       "      <td>4</td>\n",
       "      <td>3</td>\n",
       "      <td>...</td>\n",
       "      <td>1</td>\n",
       "      <td>1</td>\n",
       "      <td>0</td>\n",
       "      <td>0</td>\n",
       "      <td>0</td>\n",
       "      <td>0</td>\n",
       "      <td>0</td>\n",
       "      <td>0</td>\n",
       "      <td>0</td>\n",
       "      <td>0</td>\n",
       "    </tr>\n",
       "    <tr>\n",
       "      <th>3</th>\n",
       "      <td>0</td>\n",
       "      <td>2</td>\n",
       "      <td>2</td>\n",
       "      <td>1</td>\n",
       "      <td>4</td>\n",
       "      <td>2</td>\n",
       "      <td>0</td>\n",
       "      <td>3</td>\n",
       "      <td>1</td>\n",
       "      <td>3</td>\n",
       "      <td>...</td>\n",
       "      <td>1</td>\n",
       "      <td>1</td>\n",
       "      <td>0</td>\n",
       "      <td>0</td>\n",
       "      <td>0</td>\n",
       "      <td>0</td>\n",
       "      <td>0</td>\n",
       "      <td>0</td>\n",
       "      <td>0</td>\n",
       "      <td>0</td>\n",
       "    </tr>\n",
       "    <tr>\n",
       "      <th>4</th>\n",
       "      <td>0</td>\n",
       "      <td>2</td>\n",
       "      <td>2</td>\n",
       "      <td>1</td>\n",
       "      <td>4</td>\n",
       "      <td>3</td>\n",
       "      <td>1</td>\n",
       "      <td>4</td>\n",
       "      <td>3</td>\n",
       "      <td>2</td>\n",
       "      <td>...</td>\n",
       "      <td>1</td>\n",
       "      <td>1</td>\n",
       "      <td>0</td>\n",
       "      <td>0</td>\n",
       "      <td>0</td>\n",
       "      <td>0</td>\n",
       "      <td>0</td>\n",
       "      <td>0</td>\n",
       "      <td>0</td>\n",
       "      <td>0</td>\n",
       "    </tr>\n",
       "  </tbody>\n",
       "</table>\n",
       "<p>5 rows × 224 columns</p>\n",
       "</div>"
      ],
      "text/plain": [
       "   Age  Education level  Number of use Internet and Internet-related services  \\\n",
       "0    0                3                                                  2      \n",
       "1    0                2                                                  2      \n",
       "2    0                2                                                  2      \n",
       "3    0                2                                                  2      \n",
       "4    0                2                                                  2      \n",
       "\n",
       "   Internet/ Digital devices skills level  Secure of person's digital devices  \\\n",
       "0                                       1                                   3   \n",
       "1                                       1                                   4   \n",
       "2                                       1                                   4   \n",
       "3                                       1                                   4   \n",
       "4                                       1                                   4   \n",
       "\n",
       "   Legitimacy of a website  Password with personal information  \\\n",
       "0                        4                                   0   \n",
       "1                        0                                   4   \n",
       "2                        3                                   3   \n",
       "3                        2                                   0   \n",
       "4                        3                                   1   \n",
       "\n",
       "   Aware of the danger of clicking pop-up screens  \\\n",
       "0                                               4   \n",
       "1                                               4   \n",
       "2                                               4   \n",
       "3                                               3   \n",
       "4                                               4   \n",
       "\n",
       "   Attention to person's account privacy  \\\n",
       "0                                      4   \n",
       "1                                      4   \n",
       "2                                      4   \n",
       "3                                      1   \n",
       "4                                      3   \n",
       "\n",
       "   Protection of social media services for personal info  ...  blogs1  etc.1  \\\n",
       "0                                                  2      ...       1      1   \n",
       "1                                                  3      ...       1      1   \n",
       "2                                                  3      ...       1      1   \n",
       "3                                                  3      ...       1      1   \n",
       "4                                                  2      ...       1      1   \n",
       "\n",
       "   Government websites (e.g. CERT)1  \\\n",
       "0                                 0   \n",
       "1                                 0   \n",
       "2                                 0   \n",
       "3                                 0   \n",
       "4                                 0   \n",
       "\n",
       "   I do not feel that I keep myself updated1  Rely on automatic updates1  \\\n",
       "0                                          0                           0   \n",
       "1                                          0                           0   \n",
       "2                                          0                           0   \n",
       "3                                          0                           0   \n",
       "4                                          0                           0   \n",
       "\n",
       "   Internet service provider ISPs1  \\\n",
       "0                                0   \n",
       "1                                0   \n",
       "2                                0   \n",
       "3                                0   \n",
       "4                                0   \n",
       "\n",
       "   Other- Messages from Communication Company1  Others: Twitter1  \\\n",
       "0                                            0                 0   \n",
       "1                                            0                 0   \n",
       "2                                            0                 0   \n",
       "3                                            0                 0   \n",
       "4                                            0                 0   \n",
       "\n",
       "   Other- Twitter1  etc..1  \n",
       "0                0       0  \n",
       "1                0       0  \n",
       "2                0       0  \n",
       "3                0       0  \n",
       "4                0       0  \n",
       "\n",
       "[5 rows x 224 columns]"
      ]
     },
     "execution_count": 3,
     "metadata": {},
     "output_type": "execute_result"
    }
   ],
   "source": [
    "df = pd.read_csv('Enumerated dataset.csv')\n",
    "df.head()"
   ]
  },
  {
   "cell_type": "code",
   "execution_count": 4,
   "metadata": {},
   "outputs": [
    {
     "data": {
      "text/plain": [
       "Victim of cybercrime                                                                                 1.000000\n",
       "Bank                                                                                                 0.145149\n",
       "Online personal information is not secure enough                                                     0.135610\n",
       "No one                                                                                               0.109586\n",
       "Responsibility of those offering online/Internet-based servicesin raising awareness of cybercrime    0.105763\n",
       "                                                                                                       ...   \n",
       "I don't know.1                                                                                      -0.086462\n",
       "Don’t know but will ask my friends for advice                                                       -0.106505\n",
       "Well protected against cybercrime                                                                   -0.106858\n",
       "Laws are effective in managing the cybercrime problem                                               -0.121328\n",
       "Report cybercrime                                                                                   -0.897771\n",
       "Length: 224, dtype: float64"
      ]
     },
     "execution_count": 4,
     "metadata": {},
     "output_type": "execute_result"
    }
   ],
   "source": [
    "# Finding the best features to use for the traning\n",
    "df.corrwith(df['Victim of cybercrime']).sort_values( ascending=False)"
   ]
  },
  {
   "cell_type": "markdown",
   "metadata": {},
   "source": [
    "#### Pick the best correlation values, test the best number of combination"
   ]
  },
  {
   "cell_type": "code",
   "execution_count": 5,
   "metadata": {},
   "outputs": [],
   "source": [
    "# As we have too many columns, correlation map will not be useful\n",
    "#corr = df.corr()\n",
    "#corr.style.background_gradient(cmap='coolwarm')"
   ]
  },
  {
   "cell_type": "code",
   "execution_count": 6,
   "metadata": {},
   "outputs": [
    {
     "data": {
      "text/plain": [
       "['Bank',\n",
       " 'Online personal information is not secure enough',\n",
       " 'No one',\n",
       " 'Responsibility of those offering online/Internet-based servicesin raising awareness of cybercrime',\n",
       " 'Education level']"
      ]
     },
     "execution_count": 6,
     "metadata": {},
     "output_type": "execute_result"
    }
   ],
   "source": [
    "# Finding the best features to use for the traning and store it\n",
    "corrArray=df.corrwith(df['Victim of cybercrime']).sort_values( ascending=False)\n",
    "# pick the best 10 columns. 5 from the top and 5 from the last\n",
    "top5=corrArray[1:6]\n",
    "top5= list(top5.index)\n",
    "top10= list(corrArray[1:11].index)\n",
    "top15= list(corrArray[1:16].index)\n",
    "top3= list(corrArray[1:4].index)\n",
    "top2= list(corrArray[1:3].index)\n",
    "toplist= [top2, top3, top5, top10, top15]\n",
    "\n",
    "top5"
   ]
  },
  {
   "cell_type": "code",
   "execution_count": 7,
   "metadata": {},
   "outputs": [
    {
     "data": {
      "text/plain": [
       "[\"I don't know.1\",\n",
       " 'Don’t know but will ask my friends for advice',\n",
       " 'Well protected against cybercrime',\n",
       " 'Laws are effective in managing the cybercrime problem',\n",
       " 'Report cybercrime']"
      ]
     },
     "execution_count": 7,
     "metadata": {},
     "output_type": "execute_result"
    }
   ],
   "source": [
    "buttom5=corrArray[-5:]\n",
    "buttom5= list(buttom5.index)\n",
    "buttom10= list(corrArray[-10:].index)\n",
    "buttom15= list(corrArray[-15:].index)\n",
    "buttom20= list(corrArray[-20:].index)\n",
    "buttom3= list(corrArray[-3:].index)\n",
    "buttom2= list(corrArray[-2:].index)\n",
    "buttomlist= [buttom2, buttom3, buttom5, buttom10, buttom15]\n",
    "buttom5"
   ]
  },
  {
   "cell_type": "code",
   "execution_count": 8,
   "metadata": {},
   "outputs": [],
   "source": [
    "#Scores lists\n",
    "logistic_regression= []\n",
    "Decision_Tree= []\n",
    "Random_forest= []\n",
    "svc=[]\n",
    "ANN=[]\n",
    "#Cross values lists\n",
    "logCrossVal= []\n",
    "DecisionTree_CrossVal= []\n",
    "RandomForest_crossVal= []\n",
    "svc_crossVal=[]\n",
    "ANN_crossval=[]\n"
   ]
  },
  {
   "cell_type": "markdown",
   "metadata": {},
   "source": [
    "# Test Models"
   ]
  },
  {
   "cell_type": "code",
   "execution_count": 9,
   "metadata": {},
   "outputs": [],
   "source": [
    "for i in range (0, len(toplist)):\n",
    "\n",
    "    # Logistic Regression\n",
    "    predictors = df[toplist[i] + buttomlist[i]] # training , X\n",
    "    target = df['Victim of cybercrime'] # prediction , Y\n",
    "\n",
    "    x_train, x_test, y_train, y_test = train_test_split(predictors, target, test_size = 0.20, random_state = 0)\n",
    "\n",
    "    # Building model\n",
    "    logreg = LogisticRegression()\n",
    "    logreg.fit(x_train, y_train)\n",
    "\n",
    "    # getting the prediction\n",
    "    y_pred=logreg.predict(x_test)\n",
    "\n",
    "    t=logreg.score(x_train, y_train)\n",
    "    test= metrics.accuracy_score(y_test, y_pred)\n",
    "    # precision tp / (tp + fp)\n",
    "    precision = metrics.precision_score(y_test, y_pred)\n",
    "    # recall: tp / (tp + fn)\n",
    "    recall = metrics.recall_score(y_test, y_pred)\n",
    "\n",
    "    # Store the results\n",
    "    logistic_regression.append({'training':t,\n",
    "                                'testing': test,\n",
    "                                'precision':precision,\n",
    "                                'recall': recall  })\n",
    "\n",
    "    #Cross Validation\n",
    "    scores = cross_val_score(logreg, x_train, y_train, cv=5)\n",
    "    logCrossVal.append(scores)\n",
    "\n",
    "    # ####### Decision Tree Classifier ####### #\n",
    "    \n",
    "    clf = DecisionTreeClassifier(criterion='entropy', max_depth=3).fit(x_train, y_train)\n",
    "    # Predicting the y values corresponding to X_test_sm\n",
    "    clf_pred = clf.predict(x_test)\n",
    "    t=clf.score(x_train, y_train)\n",
    "\n",
    "    test= metrics.accuracy_score(y_test, clf_pred)\n",
    "\n",
    "    # precision tp / (tp + fp)\n",
    "    precision = metrics.precision_score(y_test, clf_pred)\n",
    "\n",
    "    # recall: tp / (tp + fn)\n",
    "    recall = metrics.recall_score(y_test, clf_pred)\n",
    "\n",
    "    Decision_Tree.append({'training':t,\n",
    "                                'testing': test,\n",
    "                                'precision':precision,\n",
    "                                'recall': recall  })\n",
    "\n",
    "    # Cross validation\n",
    "    scores = cross_val_score(clf, x_train, y_train, cv=5)\n",
    "    DecisionTree_CrossVal.append(scores)\n",
    "    \n",
    "    # ####### Random Forest ####### #\n",
    "    class_forest = RandomForestClassifier(n_estimators = 5, criterion = 'entropy', random_state = 0).fit(x_train, y_train)\n",
    "    preds_class = class_forest.predict(x_test)\n",
    "    t= class_forest.score(x_train, y_train)\n",
    "\n",
    "    test=metrics.accuracy_score(y_test, preds_class)\n",
    "\n",
    "    # precision tp / (tp + fp)\n",
    "    precision = metrics.precision_score(y_test, preds_class)\n",
    "\n",
    "    # recall: tp / (tp + fn)\n",
    "    recall = metrics.recall_score(y_test, preds_class)\n",
    "\n",
    "    Random_forest.append({'training':t,\n",
    "                                'testing': test,\n",
    "                                'precision':precision,\n",
    "                                'recall': recall  })\n",
    "\n",
    "    # cross validation\n",
    "    scores = cross_val_score(class_forest, x_train, y_train, cv=5)\n",
    "    RandomForest_crossVal.append(scores)\n",
    "    \n",
    "    \n",
    "    # ####### Support Vector Classifair ####### #\n",
    "    class_sv = SVC(kernel = 'linear', random_state = 0)\n",
    "    class_sv.fit(x_train, y_train)\n",
    "    preds_class = class_sv.predict(x_test)\n",
    "    \n",
    "    t=class_sv.score(x_train, y_train)\n",
    "\n",
    "    test=metrics.accuracy_score(y_test, preds_class)\n",
    "\n",
    "    # precision tp / (tp + fp)\n",
    "    precision = metrics.precision_score(y_test, preds_class)\n",
    "\n",
    "    # recall: tp / (tp + fn)\n",
    "    recall = metrics.recall_score(y_test, preds_class)\n",
    "\n",
    "    \n",
    "    svc.append({'training':t,\n",
    "                                'testing': test,\n",
    "                                'precision':precision,\n",
    "                                'recall': recall  })\n",
    "\n",
    "    # cross validation\n",
    "    scores = cross_val_score(class_sv, x_train, y_train, cv=5)\n",
    "    svc_crossVal.append(scores)"
   ]
  },
  {
   "cell_type": "markdown",
   "metadata": {},
   "source": [
    "## Testing Results"
   ]
  },
  {
   "cell_type": "markdown",
   "metadata": {},
   "source": [
    "#### Logistic Regression"
   ]
  },
  {
   "cell_type": "code",
   "execution_count": 10,
   "metadata": {},
   "outputs": [
    {
     "name": "stdout",
     "output_type": "stream",
     "text": [
      "----Logistic Regression----\n",
      "    training   testing  precision  recall\n",
      "2   0.961856  0.958848   0.830508     1.0\n",
      "3   0.961856  0.958848   0.830508     1.0\n",
      "5   0.963918  0.958848   0.830508     1.0\n",
      "10  0.963918  0.958848   0.830508     1.0\n",
      "15  0.962887  0.958848   0.830508     1.0\n"
     ]
    }
   ],
   "source": [
    "ind= [2, 3, 5, 10, 15]\n",
    "print('----Logistic Regression----')\n",
    "print(pd.DataFrame(logistic_regression,  index =ind))"
   ]
  },
  {
   "cell_type": "markdown",
   "metadata": {},
   "source": [
    "#### Decision Tree Classifair"
   ]
  },
  {
   "cell_type": "code",
   "execution_count": 11,
   "metadata": {},
   "outputs": [
    {
     "name": "stdout",
     "output_type": "stream",
     "text": [
      "----Decision Tree Classifair----\n",
      "    training   testing  precision  recall\n",
      "2   0.961856  0.958848   0.830508     1.0\n",
      "3   0.961856  0.958848   0.830508     1.0\n",
      "5   0.967010  0.958848   0.830508     1.0\n",
      "10  0.967010  0.958848   0.830508     1.0\n",
      "15  0.967010  0.958848   0.830508     1.0\n"
     ]
    }
   ],
   "source": [
    "print('----Decision Tree Classifair----')\n",
    "print(pd.DataFrame(Decision_Tree,  index =ind))"
   ]
  },
  {
   "cell_type": "markdown",
   "metadata": {},
   "source": [
    "#### Random forest"
   ]
  },
  {
   "cell_type": "code",
   "execution_count": 12,
   "metadata": {},
   "outputs": [
    {
     "name": "stdout",
     "output_type": "stream",
     "text": [
      "----Random forest----\n",
      "    training   testing  precision    recall\n",
      "2   0.964948  0.954733   0.839286  0.959184\n",
      "3   0.967010  0.962963   0.884615  0.938776\n",
      "5   0.987629  0.946502   0.833333  0.918367\n",
      "10  0.994845  0.958848   0.867925  0.938776\n",
      "15  0.992784  0.958848   0.842105  0.979592\n"
     ]
    }
   ],
   "source": [
    "print('----Random forest----')\n",
    "print(pd.DataFrame(Random_forest,  index =ind))"
   ]
  },
  {
   "cell_type": "markdown",
   "metadata": {},
   "source": [
    "#### Support Vector Classifair"
   ]
  },
  {
   "cell_type": "code",
   "execution_count": 13,
   "metadata": {},
   "outputs": [
    {
     "name": "stdout",
     "output_type": "stream",
     "text": [
      "----Support Vector Classifair----\n",
      "    training   testing  precision  recall\n",
      "2   0.961856  0.958848   0.830508     1.0\n",
      "3   0.961856  0.958848   0.830508     1.0\n",
      "5   0.961856  0.958848   0.830508     1.0\n",
      "10  0.961856  0.958848   0.830508     1.0\n",
      "15  0.961856  0.958848   0.830508     1.0\n"
     ]
    }
   ],
   "source": [
    "print('----Support Vector Classifair----')\n",
    "print(pd.DataFrame(svc,  index =ind))"
   ]
  },
  {
   "cell_type": "markdown",
   "metadata": {},
   "source": [
    "## Cross Validation Results"
   ]
  },
  {
   "cell_type": "code",
   "execution_count": 14,
   "metadata": {},
   "outputs": [
    {
     "name": "stdout",
     "output_type": "stream",
     "text": [
      "----Logistic Regression----\n",
      "           0         1         2         3         4    mean()     std()\n",
      "2   0.953608  0.974227  0.963918  0.958763  0.958763  0.961856  0.006992\n",
      "3   0.953608  0.974227  0.958763  0.958763  0.958763  0.960825  0.006992\n",
      "5   0.953608  0.979381  0.969072  0.958763  0.958763  0.963918  0.009221\n",
      "10  0.953608  0.979381  0.958763  0.953608  0.958763  0.960825  0.009560\n",
      "15  0.948454  0.979381  0.943299  0.953608  0.958763  0.956701  0.012457\n",
      "\n",
      "----Decision Tree Classifair----\n",
      "           0         1         2         3         4    mean()     std()\n",
      "2   0.953608  0.974227  0.963918  0.958763  0.958763  0.961856  0.006992\n",
      "3   0.953608  0.969072  0.963918  0.958763  0.958763  0.960825  0.005257\n",
      "5   0.958763  0.979381  0.969072  0.963918  0.953608  0.964948  0.008868\n",
      "10  0.958763  0.969072  0.953608  0.963918  0.953608  0.959794  0.006011\n",
      "15  0.958763  0.969072  0.953608  0.958763  0.953608  0.958763  0.005647\n",
      "\n",
      "----Random forest----\n",
      "           0         1         2         3         4    mean()     std()\n",
      "2   0.953608  0.969072  0.953608  0.953608  0.958763  0.957732  0.006011\n",
      "3   0.948454  0.963918  0.932990  0.958763  0.953608  0.951546  0.010614\n",
      "5   0.948454  0.963918  0.912371  0.953608  0.943299  0.944330  0.017374\n",
      "10  0.958763  0.974227  0.927835  0.948454  0.958763  0.953608  0.015291\n",
      "15  0.958763  0.958763  0.932990  0.953608  0.958763  0.952577  0.009995\n",
      "\n",
      "----Support Vector Classifair----\n",
      "           0         1         2         3         4    mean()     std()\n",
      "2   0.953608  0.974227  0.963918  0.958763  0.958763  0.961856  0.006992\n",
      "3   0.953608  0.974227  0.963918  0.958763  0.958763  0.961856  0.006992\n",
      "5   0.953608  0.974227  0.963918  0.958763  0.958763  0.961856  0.006992\n",
      "10  0.953608  0.974227  0.963918  0.958763  0.958763  0.961856  0.006992\n",
      "15  0.948454  0.974227  0.963918  0.958763  0.958763  0.960825  0.008375\n"
     ]
    }
   ],
   "source": [
    "# Find the mean and standard deviation\n",
    "print('----Logistic Regression----')\n",
    "logdf=pd.DataFrame(logCrossVal,  index = ind)\n",
    "logdf['mean()']= logdf.mean(axis=1)\n",
    "logdf['std()']= logdf.std(axis=1)\n",
    "print(logdf)\n",
    "\n",
    "print('\\n----Decision Tree Classifair----')\n",
    "DTdf= pd.DataFrame(DecisionTree_CrossVal,  index =ind)\n",
    "DTdf['mean()']= DTdf.mean(axis=1)\n",
    "DTdf['std()']= DTdf.std(axis=1)\n",
    "print(DTdf)\n",
    "\n",
    "print('\\n----Random forest----')\n",
    "Randf= pd.DataFrame(RandomForest_crossVal,  index =ind)\n",
    "Randf['mean()']= Randf.mean(axis=1)\n",
    "Randf['std()']= Randf.std(axis=1)\n",
    "print(Randf)\n",
    "\n",
    "print('\\n----Support Vector Classifair----')\n",
    "svcdf= pd.DataFrame(svc_crossVal,  index =ind)\n",
    "svcdf['mean()']= svcdf.mean(axis=1)\n",
    "svcdf['std()']= svcdf.std(axis=1)\n",
    "print(svcdf)\n",
    "\n"
   ]
  },
  {
   "cell_type": "markdown",
   "metadata": {},
   "source": [
    "## ANN"
   ]
  },
  {
   "cell_type": "code",
   "execution_count": 25,
   "metadata": {},
   "outputs": [],
   "source": [
    "# Selecting features\n",
    "# Save X data\n",
    "predictors = df.drop('Victim of cybercrime',axis=1)\n",
    "\n",
    "# Encode our target\n",
    "le = LabelEncoder()\n",
    "target = le.fit_transform(df['Victim of cybercrime'])"
   ]
  },
  {
   "cell_type": "code",
   "execution_count": 26,
   "metadata": {},
   "outputs": [],
   "source": [
    "# Train test split\n",
    "X_train, X_test, y_train, y_test = train_test_split(predictors, target, test_size= 0.20, random_state = 0)"
   ]
  },
  {
   "cell_type": "code",
   "execution_count": 27,
   "metadata": {},
   "outputs": [],
   "source": [
    "sc = StandardScaler()\n",
    "X_train = sc.fit_transform(X_train)\n",
    "X_test = sc.transform(X_test)"
   ]
  },
  {
   "cell_type": "code",
   "execution_count": 28,
   "metadata": {},
   "outputs": [],
   "source": [
    "ann = tf.keras.models.Sequential()"
   ]
  },
  {
   "cell_type": "code",
   "execution_count": 29,
   "metadata": {},
   "outputs": [],
   "source": [
    "# The 1st hidden layer will have 3 units and the activation function is relu\n",
    "\n",
    "ann.add(tf.keras.layers.Dense(units=3, activation='relu'))"
   ]
  },
  {
   "cell_type": "code",
   "execution_count": 30,
   "metadata": {},
   "outputs": [],
   "source": [
    "# The 2nd hidden layer will have 3 units and the activation function is relu\n",
    "\n",
    "ann.add(tf.keras.layers.Dense(units=3, activation='relu'))"
   ]
  },
  {
   "cell_type": "code",
   "execution_count": 31,
   "metadata": {},
   "outputs": [],
   "source": [
    "# The output layer has only one unit since it is binary classification --> Only 2 states\n",
    "# The activation function is the sigmoid\n",
    "\n",
    "ann.add(tf.keras.layers.Dense(units=1, activation='sigmoid'))"
   ]
  },
  {
   "cell_type": "code",
   "execution_count": 32,
   "metadata": {},
   "outputs": [],
   "source": [
    "\n",
    "ann.compile(optimizer = 'adam', loss = 'binary_crossentropy', metrics = ['accuracy'])"
   ]
  },
  {
   "cell_type": "code",
   "execution_count": 34,
   "metadata": {},
   "outputs": [
    {
     "name": "stdout",
     "output_type": "stream",
     "text": [
      "Train on 970 samples\n",
      "Epoch 1/50\n",
      "970/970 [==============================] - 0s 110us/sample - loss: 0.1072 - accuracy: 0.9763\n",
      "Epoch 2/50\n",
      "970/970 [==============================] - 0s 66us/sample - loss: 0.1070 - accuracy: 0.9763\n",
      "Epoch 3/50\n",
      "970/970 [==============================] - 0s 63us/sample - loss: 0.1054 - accuracy: 0.9763\n",
      "Epoch 4/50\n",
      "970/970 [==============================] - 0s 58us/sample - loss: 0.1042 - accuracy: 0.9763\n",
      "Epoch 5/50\n",
      "970/970 [==============================] - 0s 56us/sample - loss: 0.1029 - accuracy: 0.9763\n",
      "Epoch 6/50\n",
      "970/970 [==============================] - 0s 63us/sample - loss: 0.1020 - accuracy: 0.9763\n",
      "Epoch 7/50\n",
      "970/970 [==============================] - 0s 62us/sample - loss: 0.1011 - accuracy: 0.9763\n",
      "Epoch 8/50\n",
      "970/970 [==============================] - 0s 59us/sample - loss: 0.1001 - accuracy: 0.9763\n",
      "Epoch 9/50\n",
      "970/970 [==============================] - 0s 61us/sample - loss: 0.0992 - accuracy: 0.9763\n",
      "Epoch 10/50\n",
      "970/970 [==============================] - 0s 64us/sample - loss: 0.0983 - accuracy: 0.9763\n",
      "Epoch 11/50\n",
      "970/970 [==============================] - 0s 64us/sample - loss: 0.0974 - accuracy: 0.9763\n",
      "Epoch 12/50\n",
      "970/970 [==============================] - 0s 59us/sample - loss: 0.0968 - accuracy: 0.9763\n",
      "Epoch 13/50\n",
      "970/970 [==============================] - 0s 71us/sample - loss: 0.0960 - accuracy: 0.9763\n",
      "Epoch 14/50\n",
      "970/970 [==============================] - 0s 74us/sample - loss: 0.0951 - accuracy: 0.9763\n",
      "Epoch 15/50\n",
      "970/970 [==============================] - 0s 74us/sample - loss: 0.0946 - accuracy: 0.9763\n",
      "Epoch 16/50\n",
      "970/970 [==============================] - 0s 72us/sample - loss: 0.0939 - accuracy: 0.9763\n",
      "Epoch 17/50\n",
      "970/970 [==============================] - 0s 73us/sample - loss: 0.0933 - accuracy: 0.9763\n",
      "Epoch 18/50\n",
      "970/970 [==============================] - 0s 77us/sample - loss: 0.0914 - accuracy: 0.9773\n",
      "Epoch 19/50\n",
      "970/970 [==============================] - 0s 69us/sample - loss: 0.0888 - accuracy: 0.9794\n",
      "Epoch 20/50\n",
      "970/970 [==============================] - 0s 74us/sample - loss: 0.0880 - accuracy: 0.9794\n",
      "Epoch 21/50\n",
      "970/970 [==============================] - 0s 67us/sample - loss: 0.0873 - accuracy: 0.9794\n",
      "Epoch 22/50\n",
      "970/970 [==============================] - 0s 65us/sample - loss: 0.0867 - accuracy: 0.9794\n",
      "Epoch 23/50\n",
      "970/970 [==============================] - 0s 66us/sample - loss: 0.0859 - accuracy: 0.9794\n",
      "Epoch 24/50\n",
      "970/970 [==============================] - 0s 64us/sample - loss: 0.0853 - accuracy: 0.9794\n",
      "Epoch 25/50\n",
      "970/970 [==============================] - 0s 69us/sample - loss: 0.0847 - accuracy: 0.9794\n",
      "Epoch 26/50\n",
      "970/970 [==============================] - 0s 70us/sample - loss: 0.0841 - accuracy: 0.9794\n",
      "Epoch 27/50\n",
      "970/970 [==============================] - 0s 82us/sample - loss: 0.0836 - accuracy: 0.9794\n",
      "Epoch 28/50\n",
      "970/970 [==============================] - 0s 77us/sample - loss: 0.0831 - accuracy: 0.9794\n",
      "Epoch 29/50\n",
      "970/970 [==============================] - 0s 77us/sample - loss: 0.0825 - accuracy: 0.9794\n",
      "Epoch 30/50\n",
      "970/970 [==============================] - 0s 73us/sample - loss: 0.0819 - accuracy: 0.9794\n",
      "Epoch 31/50\n",
      "970/970 [==============================] - 0s 76us/sample - loss: 0.0815 - accuracy: 0.9794\n",
      "Epoch 32/50\n",
      "970/970 [==============================] - 0s 74us/sample - loss: 0.0811 - accuracy: 0.9794\n",
      "Epoch 33/50\n",
      "970/970 [==============================] - 0s 75us/sample - loss: 0.0806 - accuracy: 0.9794\n",
      "Epoch 34/50\n",
      "970/970 [==============================] - 0s 70us/sample - loss: 0.0803 - accuracy: 0.9794\n",
      "Epoch 35/50\n",
      "970/970 [==============================] - 0s 71us/sample - loss: 0.0799 - accuracy: 0.9794\n",
      "Epoch 36/50\n",
      "970/970 [==============================] - 0s 73us/sample - loss: 0.0794 - accuracy: 0.9794\n",
      "Epoch 37/50\n",
      "970/970 [==============================] - 0s 72us/sample - loss: 0.0790 - accuracy: 0.9794\n",
      "Epoch 38/50\n",
      "970/970 [==============================] - 0s 73us/sample - loss: 0.0786 - accuracy: 0.9794\n",
      "Epoch 39/50\n",
      "970/970 [==============================] - 0s 74us/sample - loss: 0.0784 - accuracy: 0.9794\n",
      "Epoch 40/50\n",
      "970/970 [==============================] - 0s 75us/sample - loss: 0.0779 - accuracy: 0.9794\n",
      "Epoch 41/50\n",
      "970/970 [==============================] - 0s 73us/sample - loss: 0.0776 - accuracy: 0.9794\n",
      "Epoch 42/50\n",
      "970/970 [==============================] - 0s 74us/sample - loss: 0.0773 - accuracy: 0.9794\n",
      "Epoch 43/50\n",
      "970/970 [==============================] - 0s 73us/sample - loss: 0.0770 - accuracy: 0.9794\n",
      "Epoch 44/50\n",
      "970/970 [==============================] - 0s 76us/sample - loss: 0.0766 - accuracy: 0.9794\n",
      "Epoch 45/50\n",
      "970/970 [==============================] - 0s 75us/sample - loss: 0.0764 - accuracy: 0.9794\n",
      "Epoch 46/50\n",
      "970/970 [==============================] - 0s 76us/sample - loss: 0.0761 - accuracy: 0.9794\n",
      "Epoch 47/50\n",
      "970/970 [==============================] - 0s 72us/sample - loss: 0.0759 - accuracy: 0.9794\n",
      "Epoch 48/50\n",
      "970/970 [==============================] - 0s 71us/sample - loss: 0.0755 - accuracy: 0.9794\n",
      "Epoch 49/50\n",
      "970/970 [==============================] - 0s 75us/sample - loss: 0.0753 - accuracy: 0.9794\n",
      "Epoch 50/50\n",
      "970/970 [==============================] - 0s 74us/sample - loss: 0.0750 - accuracy: 0.9794\n"
     ]
    },
    {
     "data": {
      "text/plain": [
       "<tensorflow.python.keras.callbacks.History at 0x7fc6c35d99d0>"
      ]
     },
     "execution_count": 34,
     "metadata": {},
     "output_type": "execute_result"
    }
   ],
   "source": [
    "# epochs represent number of time the modle see the data \n",
    "# Increase the number till we HAPPY with the final result !\n",
    "# Till now ANN is the best way \n",
    "\n",
    "ann.fit(X_train, y_train, batch_size = 32, epochs = 50)"
   ]
  }
 ],
 "metadata": {
  "interpreter": {
   "hash": "95d73d6fd1cff5fb2f41ff3c75621fd967f90acca1c16714a7d5860f4cfbfbc9"
  },
  "kernelspec": {
   "display_name": "Python 3 (ipykernel)",
   "language": "python",
   "name": "python3"
  },
  "language_info": {
   "codemirror_mode": {
    "name": "ipython",
    "version": 3
   },
   "file_extension": ".py",
   "mimetype": "text/x-python",
   "name": "python",
   "nbconvert_exporter": "python",
   "pygments_lexer": "ipython3",
   "version": "3.7.7"
  },
  "varInspector": {
   "cols": {
    "lenName": 16,
    "lenType": 16,
    "lenVar": 40
   },
   "kernels_config": {
    "python": {
     "delete_cmd_postfix": "",
     "delete_cmd_prefix": "del ",
     "library": "var_list.py",
     "varRefreshCmd": "print(var_dic_list())"
    },
    "r": {
     "delete_cmd_postfix": ") ",
     "delete_cmd_prefix": "rm(",
     "library": "var_list.r",
     "varRefreshCmd": "cat(var_dic_list()) "
    }
   },
   "types_to_exclude": [
    "module",
    "function",
    "builtin_function_or_method",
    "instance",
    "_Feature"
   ],
   "window_display": false
  }
 },
 "nbformat": 4,
 "nbformat_minor": 2
}
