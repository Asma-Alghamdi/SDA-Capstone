{
 "cells": [
  {
   "cell_type": "code",
   "execution_count": 78,
   "metadata": {},
   "outputs": [],
   "source": [
    "import matplotlib.pyplot as plt\n",
    "import pandas as pd\n",
    "from sklearn.tree import DecisionTreeClassifier\n",
    "from sklearn.model_selection import train_test_split\n",
    "from sklearn.linear_model import LogisticRegression\n",
    "from sklearn.model_selection import GridSearchCV\n",
    "from sklearn import metrics\n",
    "from sklearn.ensemble import RandomForestClassifier\n",
    "from sklearn.svm import SVC\n",
    "from sklearn.model_selection import cross_val_score\n"
   ]
  },
  {
   "cell_type": "code",
   "execution_count": 41,
   "metadata": {},
   "outputs": [
    {
     "data": {
      "text/html": [
       "<div>\n",
       "<style scoped>\n",
       "    .dataframe tbody tr th:only-of-type {\n",
       "        vertical-align: middle;\n",
       "    }\n",
       "\n",
       "    .dataframe tbody tr th {\n",
       "        vertical-align: top;\n",
       "    }\n",
       "\n",
       "    .dataframe thead th {\n",
       "        text-align: right;\n",
       "    }\n",
       "</style>\n",
       "<table border=\"1\" class=\"dataframe\">\n",
       "  <thead>\n",
       "    <tr style=\"text-align: right;\">\n",
       "      <th></th>\n",
       "      <th>Age</th>\n",
       "      <th>Education level</th>\n",
       "      <th>Number of use Internet and Internet-related services</th>\n",
       "      <th>Internet/ Digital devices skills level</th>\n",
       "      <th>Secure of person's digital devices</th>\n",
       "      <th>Legitimacy of a website</th>\n",
       "      <th>Password with personal information</th>\n",
       "      <th>Aware of the danger of clicking pop-up screens</th>\n",
       "      <th>Attention to person's account privacy</th>\n",
       "      <th>Protection of social media services for personal info</th>\n",
       "      <th>...</th>\n",
       "      <th>blogs1</th>\n",
       "      <th>etc.1</th>\n",
       "      <th>Government websites (e.g. CERT)1</th>\n",
       "      <th>I do not feel that I keep myself updated1</th>\n",
       "      <th>Rely on automatic updates1</th>\n",
       "      <th>Internet service provider ISPs1</th>\n",
       "      <th>Other- Messages from Communication Company1</th>\n",
       "      <th>Others: Twitter1</th>\n",
       "      <th>Other- Twitter1</th>\n",
       "      <th>etc..1</th>\n",
       "    </tr>\n",
       "  </thead>\n",
       "  <tbody>\n",
       "    <tr>\n",
       "      <td>0</td>\n",
       "      <td>0</td>\n",
       "      <td>3</td>\n",
       "      <td>2</td>\n",
       "      <td>1</td>\n",
       "      <td>3</td>\n",
       "      <td>4</td>\n",
       "      <td>0</td>\n",
       "      <td>4</td>\n",
       "      <td>4</td>\n",
       "      <td>2</td>\n",
       "      <td>...</td>\n",
       "      <td>1</td>\n",
       "      <td>1</td>\n",
       "      <td>0</td>\n",
       "      <td>0</td>\n",
       "      <td>0</td>\n",
       "      <td>0</td>\n",
       "      <td>0</td>\n",
       "      <td>0</td>\n",
       "      <td>0</td>\n",
       "      <td>0</td>\n",
       "    </tr>\n",
       "    <tr>\n",
       "      <td>1</td>\n",
       "      <td>0</td>\n",
       "      <td>2</td>\n",
       "      <td>2</td>\n",
       "      <td>1</td>\n",
       "      <td>4</td>\n",
       "      <td>0</td>\n",
       "      <td>4</td>\n",
       "      <td>4</td>\n",
       "      <td>4</td>\n",
       "      <td>3</td>\n",
       "      <td>...</td>\n",
       "      <td>1</td>\n",
       "      <td>1</td>\n",
       "      <td>0</td>\n",
       "      <td>0</td>\n",
       "      <td>0</td>\n",
       "      <td>0</td>\n",
       "      <td>0</td>\n",
       "      <td>0</td>\n",
       "      <td>0</td>\n",
       "      <td>0</td>\n",
       "    </tr>\n",
       "    <tr>\n",
       "      <td>2</td>\n",
       "      <td>0</td>\n",
       "      <td>2</td>\n",
       "      <td>2</td>\n",
       "      <td>1</td>\n",
       "      <td>4</td>\n",
       "      <td>3</td>\n",
       "      <td>3</td>\n",
       "      <td>4</td>\n",
       "      <td>4</td>\n",
       "      <td>3</td>\n",
       "      <td>...</td>\n",
       "      <td>1</td>\n",
       "      <td>1</td>\n",
       "      <td>0</td>\n",
       "      <td>0</td>\n",
       "      <td>0</td>\n",
       "      <td>0</td>\n",
       "      <td>0</td>\n",
       "      <td>0</td>\n",
       "      <td>0</td>\n",
       "      <td>0</td>\n",
       "    </tr>\n",
       "    <tr>\n",
       "      <td>3</td>\n",
       "      <td>0</td>\n",
       "      <td>2</td>\n",
       "      <td>2</td>\n",
       "      <td>1</td>\n",
       "      <td>4</td>\n",
       "      <td>2</td>\n",
       "      <td>0</td>\n",
       "      <td>3</td>\n",
       "      <td>1</td>\n",
       "      <td>3</td>\n",
       "      <td>...</td>\n",
       "      <td>1</td>\n",
       "      <td>1</td>\n",
       "      <td>0</td>\n",
       "      <td>0</td>\n",
       "      <td>0</td>\n",
       "      <td>0</td>\n",
       "      <td>0</td>\n",
       "      <td>0</td>\n",
       "      <td>0</td>\n",
       "      <td>0</td>\n",
       "    </tr>\n",
       "    <tr>\n",
       "      <td>4</td>\n",
       "      <td>0</td>\n",
       "      <td>2</td>\n",
       "      <td>2</td>\n",
       "      <td>1</td>\n",
       "      <td>4</td>\n",
       "      <td>3</td>\n",
       "      <td>1</td>\n",
       "      <td>4</td>\n",
       "      <td>3</td>\n",
       "      <td>2</td>\n",
       "      <td>...</td>\n",
       "      <td>1</td>\n",
       "      <td>1</td>\n",
       "      <td>0</td>\n",
       "      <td>0</td>\n",
       "      <td>0</td>\n",
       "      <td>0</td>\n",
       "      <td>0</td>\n",
       "      <td>0</td>\n",
       "      <td>0</td>\n",
       "      <td>0</td>\n",
       "    </tr>\n",
       "  </tbody>\n",
       "</table>\n",
       "<p>5 rows × 224 columns</p>\n",
       "</div>"
      ],
      "text/plain": [
       "   Age  Education level  Number of use Internet and Internet-related services  \\\n",
       "0    0                3                                                  2      \n",
       "1    0                2                                                  2      \n",
       "2    0                2                                                  2      \n",
       "3    0                2                                                  2      \n",
       "4    0                2                                                  2      \n",
       "\n",
       "   Internet/ Digital devices skills level  Secure of person's digital devices  \\\n",
       "0                                       1                                   3   \n",
       "1                                       1                                   4   \n",
       "2                                       1                                   4   \n",
       "3                                       1                                   4   \n",
       "4                                       1                                   4   \n",
       "\n",
       "   Legitimacy of a website  Password with personal information  \\\n",
       "0                        4                                   0   \n",
       "1                        0                                   4   \n",
       "2                        3                                   3   \n",
       "3                        2                                   0   \n",
       "4                        3                                   1   \n",
       "\n",
       "   Aware of the danger of clicking pop-up screens  \\\n",
       "0                                               4   \n",
       "1                                               4   \n",
       "2                                               4   \n",
       "3                                               3   \n",
       "4                                               4   \n",
       "\n",
       "   Attention to person's account privacy  \\\n",
       "0                                      4   \n",
       "1                                      4   \n",
       "2                                      4   \n",
       "3                                      1   \n",
       "4                                      3   \n",
       "\n",
       "   Protection of social media services for personal info  ...  blogs1  etc.1  \\\n",
       "0                                                  2      ...       1      1   \n",
       "1                                                  3      ...       1      1   \n",
       "2                                                  3      ...       1      1   \n",
       "3                                                  3      ...       1      1   \n",
       "4                                                  2      ...       1      1   \n",
       "\n",
       "   Government websites (e.g. CERT)1  \\\n",
       "0                                 0   \n",
       "1                                 0   \n",
       "2                                 0   \n",
       "3                                 0   \n",
       "4                                 0   \n",
       "\n",
       "   I do not feel that I keep myself updated1  Rely on automatic updates1  \\\n",
       "0                                          0                           0   \n",
       "1                                          0                           0   \n",
       "2                                          0                           0   \n",
       "3                                          0                           0   \n",
       "4                                          0                           0   \n",
       "\n",
       "   Internet service provider ISPs1  \\\n",
       "0                                0   \n",
       "1                                0   \n",
       "2                                0   \n",
       "3                                0   \n",
       "4                                0   \n",
       "\n",
       "   Other- Messages from Communication Company1  Others: Twitter1  \\\n",
       "0                                            0                 0   \n",
       "1                                            0                 0   \n",
       "2                                            0                 0   \n",
       "3                                            0                 0   \n",
       "4                                            0                 0   \n",
       "\n",
       "   Other- Twitter1  etc..1  \n",
       "0                0       0  \n",
       "1                0       0  \n",
       "2                0       0  \n",
       "3                0       0  \n",
       "4                0       0  \n",
       "\n",
       "[5 rows x 224 columns]"
      ]
     },
     "execution_count": 41,
     "metadata": {},
     "output_type": "execute_result"
    }
   ],
   "source": [
    "df = pd.read_csv('Enumerated dataset.csv')\n",
    "df.head()"
   ]
  },
  {
   "cell_type": "code",
   "execution_count": 42,
   "metadata": {},
   "outputs": [
    {
     "data": {
      "text/plain": [
       "Victim of cybercrime                                                                                 1.000000\n",
       "Bank                                                                                                 0.145149\n",
       "Online personal information is not secure enough                                                     0.135610\n",
       "No one                                                                                               0.109586\n",
       "Responsibility of those offering online/Internet-based servicesin raising awareness of cybercrime    0.105763\n",
       "                                                                                                       ...   \n",
       "I don't know.1                                                                                      -0.086462\n",
       "Don’t know but will ask my friends for advice                                                       -0.106505\n",
       "Well protected against cybercrime                                                                   -0.106858\n",
       "Laws are effective in managing the cybercrime problem                                               -0.121328\n",
       "Report cybercrime                                                                                   -0.897771\n",
       "Length: 224, dtype: float64"
      ]
     },
     "execution_count": 42,
     "metadata": {},
     "output_type": "execute_result"
    }
   ],
   "source": [
    "# Finding the best features to use for the traning\n",
    "df.corrwith(df['Victim of cybercrime']).sort_values( ascending=False)"
   ]
  },
  {
   "cell_type": "code",
   "execution_count": 43,
   "metadata": {},
   "outputs": [],
   "source": [
    "# As we have too many columns, correlation map will not be useful\n",
    "#corr = df.corr()\n",
    "#corr.style.background_gradient(cmap='coolwarm')"
   ]
  },
  {
   "cell_type": "code",
   "execution_count": 44,
   "metadata": {},
   "outputs": [
    {
     "data": {
      "text/plain": [
       "['Bank',\n",
       " 'Online personal information is not secure enough',\n",
       " 'No one',\n",
       " 'Responsibility of those offering online/Internet-based servicesin raising awareness of cybercrime',\n",
       " 'Education level']"
      ]
     },
     "execution_count": 44,
     "metadata": {},
     "output_type": "execute_result"
    }
   ],
   "source": [
    "# Finding the best features to use for the traning and store it\n",
    "corrArray=df.corrwith(df['Victim of cybercrime']).sort_values( ascending=False)\n",
    "# pick the best 10 columns. 5 from the top and 5 from the last\n",
    "top5=corrArray[1:6]\n",
    "top5= list(top5.index)\n",
    "top10= list(corrArray[1:11].index)\n",
    "top15= list(corrArray[1:16].index)\n",
    "top20= list(corrArray[1:21].index)\n",
    "top3= list(corrArray[1:4].index)\n",
    "\n",
    "top5"
   ]
  },
  {
   "cell_type": "code",
   "execution_count": 45,
   "metadata": {},
   "outputs": [
    {
     "data": {
      "text/plain": [
       "[\"I don't know.1\",\n",
       " 'Don’t know but will ask my friends for advice',\n",
       " 'Well protected against cybercrime',\n",
       " 'Laws are effective in managing the cybercrime problem',\n",
       " 'Report cybercrime']"
      ]
     },
     "execution_count": 45,
     "metadata": {},
     "output_type": "execute_result"
    }
   ],
   "source": [
    "buttom5=corrArray[-5:]\n",
    "buttom5= list(buttom5.index)\n",
    "buttom10= list(corrArray[-10:].index)\n",
    "buttom15= list(corrArray[-15:].index)\n",
    "buttom20= list(corrArray[-20:].index)\n",
    "buttom20= list(corrArray[-20:].index)\n",
    "buttom3= list(corrArray[-3:].index)\n",
    "buttom5"
   ]
  },
  {
   "cell_type": "markdown",
   "metadata": {},
   "source": [
    "# Logistic Regression"
   ]
  },
  {
   "cell_type": "code",
   "execution_count": 46,
   "metadata": {},
   "outputs": [],
   "source": [
    "predictors = df[top5 + buttom5] # training , X\n",
    "target = df['Victim of cybercrime'] # prediction , Y\n",
    "\n",
    "\n",
    "x_train, x_test, y_train, y_test = train_test_split(predictors, target, test_size = 0.20, random_state = 0)\n"
   ]
  },
  {
   "cell_type": "code",
   "execution_count": 47,
   "metadata": {},
   "outputs": [
    {
     "data": {
      "text/plain": [
       "LogisticRegression()"
      ]
     },
     "execution_count": 47,
     "metadata": {},
     "output_type": "execute_result"
    }
   ],
   "source": [
    "# Building model\n",
    "logreg = LogisticRegression()\n",
    "logreg.fit(x_train, y_train)"
   ]
  },
  {
   "cell_type": "code",
   "execution_count": 48,
   "metadata": {},
   "outputs": [],
   "source": [
    "# getting the prediction\n",
    "y_pred=logreg.predict(x_test)"
   ]
  },
  {
   "cell_type": "code",
   "execution_count": 49,
   "metadata": {},
   "outputs": [
    {
     "name": "stdout",
     "output_type": "stream",
     "text": [
      "Training Accuracy: 0.9639175257731959\n",
      "Testing Accuracy: 0.9588477366255144\n",
      "Precision: 0.830508\n",
      "Recall: 1.000000\n"
     ]
    }
   ],
   "source": [
    "print(\"Training Accuracy:\", logreg.score(x_train, y_train))\n",
    "print(\"Testing Accuracy:\", metrics.accuracy_score(y_test, y_pred))\n",
    "# precision tp / (tp + fp)\n",
    "precision = metrics.precision_score(y_test, y_pred)\n",
    "print('Precision: %f' % precision)\n",
    "# recall: tp / (tp + fn)\n",
    "recall = metrics.recall_score(y_test, y_pred)\n",
    "print('Recall: %f' % recall)"
   ]
  },
  {
   "cell_type": "code",
   "execution_count": 87,
   "metadata": {},
   "outputs": [
    {
     "data": {
      "text/plain": [
       "array([0.95360825, 0.97938144, 0.96907216, 0.95876289, 0.95876289])"
      ]
     },
     "execution_count": 87,
     "metadata": {},
     "output_type": "execute_result"
    }
   ],
   "source": [
    "scores = cross_val_score(logreg, x_train, y_train, cv=5)\n",
    "scores"
   ]
  },
  {
   "cell_type": "code",
   "execution_count": 88,
   "metadata": {},
   "outputs": [
    {
     "name": "stdout",
     "output_type": "stream",
     "text": [
      "0.96 accuracy with a standard deviation of 0.01\n"
     ]
    }
   ],
   "source": [
    "print(\"%0.2f accuracy with a standard deviation of %0.2f\" % (scores.mean(), scores.std()))"
   ]
  },
  {
   "cell_type": "markdown",
   "metadata": {},
   "source": [
    "# Decision Tree Classifier"
   ]
  },
  {
   "cell_type": "code",
   "execution_count": 50,
   "metadata": {},
   "outputs": [],
   "source": [
    "clf = DecisionTreeClassifier(criterion='entropy', max_depth=3).fit(x_train, y_train)"
   ]
  },
  {
   "cell_type": "code",
   "execution_count": 51,
   "metadata": {},
   "outputs": [],
   "source": [
    "# Predicting the y values corresponding to X_test_sm\n",
    "clf_pred = clf.predict(x_test)"
   ]
  },
  {
   "cell_type": "code",
   "execution_count": 52,
   "metadata": {},
   "outputs": [
    {
     "name": "stdout",
     "output_type": "stream",
     "text": [
      "Training Accuracy: 0.9670103092783505\n",
      "Testing Accuracy: 0.9588477366255144\n",
      "Precision: 0.830508\n",
      "Recall: 1.000000\n"
     ]
    }
   ],
   "source": [
    "print(\"Training Accuracy:\", clf.score(x_train, y_train))\n",
    "print(\"Testing Accuracy:\", metrics.accuracy_score(y_test, clf_pred))\n",
    "# precision tp / (tp + fp)\n",
    "precision = metrics.precision_score(y_test, clf_pred)\n",
    "print('Precision: %f' % precision)\n",
    "# recall: tp / (tp + fn)\n",
    "recall = metrics.recall_score(y_test, clf_pred)\n",
    "print('Recall: %f' % recall)"
   ]
  },
  {
   "cell_type": "code",
   "execution_count": 89,
   "metadata": {},
   "outputs": [
    {
     "data": {
      "text/plain": [
       "array([0.95360825, 0.97938144, 0.96907216, 0.95876289, 0.95876289])"
      ]
     },
     "execution_count": 89,
     "metadata": {},
     "output_type": "execute_result"
    }
   ],
   "source": [
    "scores = cross_val_score(clf, x_train, y_train, cv=5)\n",
    "scores"
   ]
  },
  {
   "cell_type": "code",
   "execution_count": 90,
   "metadata": {},
   "outputs": [
    {
     "name": "stdout",
     "output_type": "stream",
     "text": [
      "0.96 accuracy with a standard deviation of 0.01\n"
     ]
    }
   ],
   "source": [
    "print(\"%0.2f accuracy with a standard deviation of %0.2f\" % (scores.mean(), scores.std()))"
   ]
  },
  {
   "cell_type": "markdown",
   "metadata": {},
   "source": [
    "# Random Forest"
   ]
  },
  {
   "cell_type": "code",
   "execution_count": 53,
   "metadata": {},
   "outputs": [],
   "source": [
    "class_forest = RandomForestClassifier(n_estimators = 5, criterion = 'entropy', random_state = 0).fit(x_train, y_train)"
   ]
  },
  {
   "cell_type": "code",
   "execution_count": 54,
   "metadata": {},
   "outputs": [],
   "source": [
    "preds_class = class_forest.predict(x_test)"
   ]
  },
  {
   "cell_type": "code",
   "execution_count": 55,
   "metadata": {},
   "outputs": [
    {
     "name": "stdout",
     "output_type": "stream",
     "text": [
      "Training Accuracy: 0.9876288659793815\n",
      "Testing Accuracy: 0.9465020576131687\n",
      "Precision: 0.833333\n",
      "Recall: 0.918367\n"
     ]
    }
   ],
   "source": [
    "print(\"Training Accuracy:\", class_forest.score(x_train, y_train))\n",
    "print(\"Testing Accuracy:\", metrics.accuracy_score(y_test, preds_class))\n",
    "# precision tp / (tp + fp)\n",
    "precision = metrics.precision_score(y_test, preds_class)\n",
    "print('Precision: %f' % precision)\n",
    "# recall: tp / (tp + fn)\n",
    "recall = metrics.recall_score(y_test, preds_class)\n",
    "print('Recall: %f' % recall)"
   ]
  },
  {
   "cell_type": "code",
   "execution_count": 91,
   "metadata": {},
   "outputs": [
    {
     "data": {
      "text/plain": [
       "array([0.94845361, 0.96391753, 0.91237113, 0.95360825, 0.94329897])"
      ]
     },
     "execution_count": 91,
     "metadata": {},
     "output_type": "execute_result"
    }
   ],
   "source": [
    "scores = cross_val_score(class_forest, x_train, y_train, cv=5)\n",
    "scores"
   ]
  },
  {
   "cell_type": "code",
   "execution_count": 92,
   "metadata": {},
   "outputs": [
    {
     "name": "stdout",
     "output_type": "stream",
     "text": [
      "0.94 accuracy with a standard deviation of 0.02\n"
     ]
    }
   ],
   "source": [
    "print(\"%0.2f accuracy with a standard deviation of %0.2f\" % (scores.mean(), scores.std()))"
   ]
  },
  {
   "cell_type": "markdown",
   "metadata": {},
   "source": [
    "# Support Vector Classification"
   ]
  },
  {
   "cell_type": "code",
   "execution_count": 56,
   "metadata": {},
   "outputs": [],
   "source": [
    "class_sv = SVC(kernel = 'linear', random_state = 0)\n",
    "\n",
    "class_sv.fit(x_train, y_train)\n",
    "preds_class = class_sv.predict(x_test)"
   ]
  },
  {
   "cell_type": "code",
   "execution_count": 57,
   "metadata": {},
   "outputs": [
    {
     "name": "stdout",
     "output_type": "stream",
     "text": [
      "Training Accuracy: 0.9618556701030928\n",
      "Testing Accuracy: 0.9588477366255144\n",
      "Precision: 0.830508\n",
      "Recall: 1.000000\n"
     ]
    }
   ],
   "source": [
    "print(\"Training Accuracy:\", class_sv.score(x_train, y_train))\n",
    "print(\"Testing Accuracy:\", metrics.accuracy_score(y_test, preds_class))\n",
    "# precision tp / (tp + fp)\n",
    "precision = metrics.precision_score(y_test, preds_class)\n",
    "print('Precision: %f' % precision)\n",
    "# recall: tp / (tp + fn)\n",
    "recall = metrics.recall_score(y_test, preds_class)\n",
    "print('Recall: %f' % recall)"
   ]
  },
  {
   "cell_type": "code",
   "execution_count": 93,
   "metadata": {},
   "outputs": [
    {
     "data": {
      "text/plain": [
       "array([0.95360825, 0.9742268 , 0.96391753, 0.95876289, 0.95876289])"
      ]
     },
     "execution_count": 93,
     "metadata": {},
     "output_type": "execute_result"
    }
   ],
   "source": [
    "scores = cross_val_score(class_sv, x_train, y_train, cv=5)\n",
    "scores"
   ]
  },
  {
   "cell_type": "code",
   "execution_count": 94,
   "metadata": {},
   "outputs": [
    {
     "name": "stdout",
     "output_type": "stream",
     "text": [
      "0.96 accuracy with a standard deviation of 0.01\n"
     ]
    }
   ],
   "source": [
    "print(\"%0.2f accuracy with a standard deviation of %0.2f\" % (scores.mean(), scores.std()))"
   ]
  }
 ],
 "metadata": {
  "interpreter": {
   "hash": "95d73d6fd1cff5fb2f41ff3c75621fd967f90acca1c16714a7d5860f4cfbfbc9"
  },
  "kernelspec": {
   "display_name": "Python 3.7.1 64-bit ('base': conda)",
   "language": "python",
   "name": "python3"
  },
  "language_info": {
   "codemirror_mode": {
    "name": "ipython",
    "version": 3
   },
   "file_extension": ".py",
   "mimetype": "text/x-python",
   "name": "python",
   "nbconvert_exporter": "python",
   "pygments_lexer": "ipython3",
   "version": "3.7.6"
  },
  "orig_nbformat": 4
 },
 "nbformat": 4,
 "nbformat_minor": 2
}
