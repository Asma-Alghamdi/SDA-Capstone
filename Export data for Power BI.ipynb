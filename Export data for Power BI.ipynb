{
 "cells": [
  {
   "cell_type": "code",
   "execution_count": null,
   "metadata": {},
   "outputs": [],
   "source": [
    "import pandas as pd\n",
    "import numpy as np\n",
    "\n",
    "# import jupyter file\n",
    "%run \"spit multi-select function.ipynb\""
   ]
  },
  {
   "cell_type": "code",
   "execution_count": null,
   "metadata": {},
   "outputs": [],
   "source": [
    "# The function generate an Excel file with meltable sheets and adding 'record_id' \n",
    "# to link sheets together and use it in Power BI. This Excel file will help build \n",
    "# interactive dashboard and formated data\n",
    "\n",
    "def get_PowerBI_Excel_Dataset(dataframe, columnsName):\n",
    "    # Copy the original dataframe\n",
    "    df = dataframe\n",
    "\n",
    "    # Initializing Excel file \n",
    "    excelFile = pd.ExcelWriter('./Power BI/dataset.xlsx', engine='xlsxwriter')\n",
    "\n",
    "    # Rename the index column to 'record_id' to link the Excel sheets/tables together \n",
    "    # Index is the primary key\n",
    "    df.index.names = [\"record_id\"]\n",
    "\n",
    "    # Loop through the columns and split element to add it to a Excel Sheet\n",
    "    for name in columnsName:\n",
    "        # Split the content of each column and create dataframe for it\n",
    "        table = multiSelectSplitColumn(dataframe[name])\n",
    "        # Rename the index column to 'record_id' for each dataframe/table\n",
    "        table.index.names = [\"record_id\"]\n",
    "        # Create a Excel sheet with the column name and Excel worksheet name must be <= 31 chars.\n",
    "        table.to_excel(excelFile, sheet_name=name[0:30])\n",
    "\n",
    "    # Remove split columns for the copied dataframe 'df'\n",
    "    df.drop(columnsName, axis=1, inplace=True)\n",
    "    # Create a Excel sheet for the rest of the dataset named 'Records'\n",
    "    df.to_excel(excelFile, sheet_name='Records')\n",
    "    # Close Excel writing file\n",
    "    excelFile.save()\n",
    "\n",
    "    "
   ]
  },
  {
   "cell_type": "code",
   "execution_count": null,
   "metadata": {},
   "outputs": [],
   "source": [
    "# Columns name that need to be split and asabrated table/dataframe \n",
    "columnsName = ['Type of connectivity',\n",
    "               'Purpose of using internet',\n",
    "               'Operating system of desktop or laptop',\n",
    "               'Operating system of smartphone or tablet',\n",
    "               'Common security tools',\n",
    "               'Digital devices with Internet security tool',\n",
    "               'To who report cybercrime',\n",
    "               'Digital devices type']"
   ]
  },
  {
   "cell_type": "code",
   "execution_count": null,
   "metadata": {},
   "outputs": [],
   "source": [
    "# Loading Data\n",
    "dfs = pd.read_csv('./Cleaned data.csv')\n",
    "# Create Excel file for Power BI\n",
    "get_PowerBI_Excel_Dataset(dfs, columnsName)"
   ]
  }
 ],
 "metadata": {
  "interpreter": {
   "hash": "b53c3a37e441508ace578b6688a967cd76727ea9e436bd07fe44915c74bc3245"
  },
  "kernelspec": {
   "display_name": "Python 3.8.8 64-bit ('base': conda)",
   "language": "python",
   "name": "python3"
  },
  "language_info": {
   "codemirror_mode": {
    "name": "ipython",
    "version": 3
   },
   "file_extension": ".py",
   "mimetype": "text/x-python",
   "name": "python",
   "nbconvert_exporter": "python",
   "pygments_lexer": "ipython3",
   "version": "3.8.8"
  },
  "orig_nbformat": 4
 },
 "nbformat": 4,
 "nbformat_minor": 2
}
