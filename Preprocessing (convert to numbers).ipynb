{
 "cells": [
  {
   "cell_type": "code",
   "execution_count": 93,
   "metadata": {},
   "outputs": [],
   "source": [
    "import pandas as pd"
   ]
  },
  {
   "cell_type": "code",
   "execution_count": 94,
   "metadata": {},
   "outputs": [
    {
     "data": {
      "text/html": [
       "<div>\n",
       "<style scoped>\n",
       "    .dataframe tbody tr th:only-of-type {\n",
       "        vertical-align: middle;\n",
       "    }\n",
       "\n",
       "    .dataframe tbody tr th {\n",
       "        vertical-align: top;\n",
       "    }\n",
       "\n",
       "    .dataframe thead th {\n",
       "        text-align: right;\n",
       "    }\n",
       "</style>\n",
       "<table border=\"1\" class=\"dataframe\">\n",
       "  <thead>\n",
       "    <tr style=\"text-align: right;\">\n",
       "      <th></th>\n",
       "      <th>Gender</th>\n",
       "      <th>Age</th>\n",
       "      <th>Education level</th>\n",
       "      <th>Major</th>\n",
       "      <th>Administrative regions</th>\n",
       "      <th>Number of use Internet and Internet-related services</th>\n",
       "      <th>Internet/ Digital devices skills level</th>\n",
       "      <th>Digital devices type</th>\n",
       "      <th>Type of connectivity</th>\n",
       "      <th>Purpose of using internet</th>\n",
       "      <th>...</th>\n",
       "      <th>Feeling about the threat of cybercrimes in the future</th>\n",
       "      <th>Responsibility of government in raising awareness of cybercrime</th>\n",
       "      <th>Responsibility of media in raising awareness of cybercrime</th>\n",
       "      <th>Responsibility of those offering online/Internet-based servicesin raising awareness of cybercrime</th>\n",
       "      <th>Responsibility of user itself in raising awareness of cybercrime</th>\n",
       "      <th>Responsibility of education system in raising awareness of cybercrime</th>\n",
       "      <th>Role of the government in combating cybercrimes</th>\n",
       "      <th>Victim of cybercrime</th>\n",
       "      <th>Not victim, report cybercrime</th>\n",
       "      <th>Not victim, to who report cybercrime</th>\n",
       "    </tr>\n",
       "  </thead>\n",
       "  <tbody>\n",
       "    <tr>\n",
       "      <td>0</td>\n",
       "      <td>Female</td>\n",
       "      <td>18-29</td>\n",
       "      <td>Postgraduate (Master’s, PhD)</td>\n",
       "      <td>Computer Science</td>\n",
       "      <td>Makkah</td>\n",
       "      <td>Frequently throughout the day</td>\n",
       "      <td>Intermediate (e.g. able to install and run spe...</td>\n",
       "      <td>Desktop, Laptop, Smartphone</td>\n",
       "      <td>Mobile/cellular phone network (e.g. 3G/4G)</td>\n",
       "      <td>Education, Social networks, Online services, C...</td>\n",
       "      <td>...</td>\n",
       "      <td>They will become a more serious issue in the f...</td>\n",
       "      <td>Strongly Agree</td>\n",
       "      <td>Strongly Agree</td>\n",
       "      <td>Strongly Agree</td>\n",
       "      <td>Strongly Agree</td>\n",
       "      <td>Strongly Agree</td>\n",
       "      <td>No role</td>\n",
       "      <td>Yes</td>\n",
       "      <td>No, I would not</td>\n",
       "      <td>Saudi eGovernment Portal , Saudi CERT</td>\n",
       "    </tr>\n",
       "    <tr>\n",
       "      <td>1</td>\n",
       "      <td>Female</td>\n",
       "      <td>18-29</td>\n",
       "      <td>Undergraduate (Diploma, BSc)</td>\n",
       "      <td>Medicine or public health</td>\n",
       "      <td>Makkah</td>\n",
       "      <td>Frequently throughout the day</td>\n",
       "      <td>Intermediate (e.g. able to install and run spe...</td>\n",
       "      <td>Smartphone</td>\n",
       "      <td>Private Wi-Fi (e.g. in your home), Mobile/cell...</td>\n",
       "      <td>Social networks, Communication</td>\n",
       "      <td>...</td>\n",
       "      <td>Don't know</td>\n",
       "      <td>Agree</td>\n",
       "      <td>Agree</td>\n",
       "      <td>Agree</td>\n",
       "      <td>Agree</td>\n",
       "      <td>Agree</td>\n",
       "      <td>Monitor organisations misusing consumer inform...</td>\n",
       "      <td>No</td>\n",
       "      <td>Yes, I would</td>\n",
       "      <td>Saudi eGovernment Portal , Saudi CERT</td>\n",
       "    </tr>\n",
       "    <tr>\n",
       "      <td>2</td>\n",
       "      <td>Female</td>\n",
       "      <td>18-29</td>\n",
       "      <td>Undergraduate (Diploma, BSc)</td>\n",
       "      <td>Medicine or public health</td>\n",
       "      <td>Makkah</td>\n",
       "      <td>Frequently throughout the day</td>\n",
       "      <td>Intermediate (e.g. able to install and run spe...</td>\n",
       "      <td>Tablet</td>\n",
       "      <td>Mobile/cellular phone network (e.g. 3G/4G)</td>\n",
       "      <td>Education, Social networks, Online services, C...</td>\n",
       "      <td>...</td>\n",
       "      <td>The threat will vanish eventually</td>\n",
       "      <td>Strongly Agree</td>\n",
       "      <td>Strongly Agree</td>\n",
       "      <td>Strongly Agree</td>\n",
       "      <td>Strongly Agree</td>\n",
       "      <td>Strongly Agree</td>\n",
       "      <td>Have stricter laws and punishments for cyber c...</td>\n",
       "      <td>Yes</td>\n",
       "      <td>No, I would not</td>\n",
       "      <td>Saudi CERT</td>\n",
       "    </tr>\n",
       "    <tr>\n",
       "      <td>3</td>\n",
       "      <td>Female</td>\n",
       "      <td>18-29</td>\n",
       "      <td>Undergraduate (Diploma, BSc)</td>\n",
       "      <td>Medicine or public health</td>\n",
       "      <td>Makkah</td>\n",
       "      <td>Frequently throughout the day</td>\n",
       "      <td>Intermediate (e.g. able to install and run spe...</td>\n",
       "      <td>Laptop, Smartphone</td>\n",
       "      <td>Public Wi-Fi (e.g. in coffee shop), Private Wi...</td>\n",
       "      <td>Professional reasons, Education, Social networ...</td>\n",
       "      <td>...</td>\n",
       "      <td>Don't know</td>\n",
       "      <td>Agree</td>\n",
       "      <td>Agree</td>\n",
       "      <td>Agree</td>\n",
       "      <td>Agree</td>\n",
       "      <td>Disagree</td>\n",
       "      <td>Don’t know</td>\n",
       "      <td>No</td>\n",
       "      <td>No, I would not</td>\n",
       "      <td>Saudi CERT</td>\n",
       "    </tr>\n",
       "    <tr>\n",
       "      <td>4</td>\n",
       "      <td>Male</td>\n",
       "      <td>18-29</td>\n",
       "      <td>Undergraduate (Diploma, BSc)</td>\n",
       "      <td>Engineering</td>\n",
       "      <td>Makkah</td>\n",
       "      <td>Frequently throughout the day</td>\n",
       "      <td>Intermediate (e.g. able to install and run spe...</td>\n",
       "      <td>Desktop, Laptop, Smartphone</td>\n",
       "      <td>Private Wi-Fi (e.g. in your home), Mobile/cell...</td>\n",
       "      <td>Education, Social networks, Online services, E...</td>\n",
       "      <td>...</td>\n",
       "      <td>They will become a more serious issue in the f...</td>\n",
       "      <td>Agree</td>\n",
       "      <td>Neutral</td>\n",
       "      <td>Strongly Agree</td>\n",
       "      <td>Agree</td>\n",
       "      <td>Strongly Agree</td>\n",
       "      <td>No role</td>\n",
       "      <td>Yes</td>\n",
       "      <td>No, I would not</td>\n",
       "      <td>Saudi CERT</td>\n",
       "    </tr>\n",
       "  </tbody>\n",
       "</table>\n",
       "<p>5 rows × 58 columns</p>\n",
       "</div>"
      ],
      "text/plain": [
       "   Gender    Age               Education level                      Major  \\\n",
       "0  Female  18-29  Postgraduate (Master’s, PhD)           Computer Science   \n",
       "1  Female  18-29  Undergraduate (Diploma, BSc)  Medicine or public health   \n",
       "2  Female  18-29  Undergraduate (Diploma, BSc)  Medicine or public health   \n",
       "3  Female  18-29  Undergraduate (Diploma, BSc)  Medicine or public health   \n",
       "4    Male  18-29  Undergraduate (Diploma, BSc)                Engineering   \n",
       "\n",
       "  Administrative regions Number of use Internet and Internet-related services  \\\n",
       "0                 Makkah                      Frequently throughout the day     \n",
       "1                 Makkah                      Frequently throughout the day     \n",
       "2                 Makkah                      Frequently throughout the day     \n",
       "3                 Makkah                      Frequently throughout the day     \n",
       "4                 Makkah                      Frequently throughout the day     \n",
       "\n",
       "              Internet/ Digital devices skills level  \\\n",
       "0  Intermediate (e.g. able to install and run spe...   \n",
       "1  Intermediate (e.g. able to install and run spe...   \n",
       "2  Intermediate (e.g. able to install and run spe...   \n",
       "3  Intermediate (e.g. able to install and run spe...   \n",
       "4  Intermediate (e.g. able to install and run spe...   \n",
       "\n",
       "          Digital devices type  \\\n",
       "0  Desktop, Laptop, Smartphone   \n",
       "1                   Smartphone   \n",
       "2                       Tablet   \n",
       "3           Laptop, Smartphone   \n",
       "4  Desktop, Laptop, Smartphone   \n",
       "\n",
       "                                Type of connectivity  \\\n",
       "0         Mobile/cellular phone network (e.g. 3G/4G)   \n",
       "1  Private Wi-Fi (e.g. in your home), Mobile/cell...   \n",
       "2         Mobile/cellular phone network (e.g. 3G/4G)   \n",
       "3  Public Wi-Fi (e.g. in coffee shop), Private Wi...   \n",
       "4  Private Wi-Fi (e.g. in your home), Mobile/cell...   \n",
       "\n",
       "                           Purpose of using internet  ...  \\\n",
       "0  Education, Social networks, Online services, C...  ...   \n",
       "1                     Social networks, Communication  ...   \n",
       "2  Education, Social networks, Online services, C...  ...   \n",
       "3  Professional reasons, Education, Social networ...  ...   \n",
       "4  Education, Social networks, Online services, E...  ...   \n",
       "\n",
       "  Feeling about the threat of cybercrimes in the future  \\\n",
       "0  They will become a more serious issue in the f...      \n",
       "1                                         Don't know      \n",
       "2                  The threat will vanish eventually      \n",
       "3                                         Don't know      \n",
       "4  They will become a more serious issue in the f...      \n",
       "\n",
       "  Responsibility of government in raising awareness of cybercrime  \\\n",
       "0                                     Strongly Agree                \n",
       "1                                              Agree                \n",
       "2                                     Strongly Agree                \n",
       "3                                              Agree                \n",
       "4                                              Agree                \n",
       "\n",
       "  Responsibility of media in raising awareness of cybercrime  \\\n",
       "0                                     Strongly Agree           \n",
       "1                                              Agree           \n",
       "2                                     Strongly Agree           \n",
       "3                                              Agree           \n",
       "4                                            Neutral           \n",
       "\n",
       "  Responsibility of those offering online/Internet-based servicesin raising awareness of cybercrime  \\\n",
       "0                                     Strongly Agree                                                  \n",
       "1                                              Agree                                                  \n",
       "2                                     Strongly Agree                                                  \n",
       "3                                              Agree                                                  \n",
       "4                                     Strongly Agree                                                  \n",
       "\n",
       "  Responsibility of user itself in raising awareness of cybercrime  \\\n",
       "0                                     Strongly Agree                 \n",
       "1                                              Agree                 \n",
       "2                                     Strongly Agree                 \n",
       "3                                              Agree                 \n",
       "4                                              Agree                 \n",
       "\n",
       "  Responsibility of education system in raising awareness of cybercrime  \\\n",
       "0                                     Strongly Agree                      \n",
       "1                                              Agree                      \n",
       "2                                     Strongly Agree                      \n",
       "3                                           Disagree                      \n",
       "4                                     Strongly Agree                      \n",
       "\n",
       "     Role of the government in combating cybercrimes Victim of cybercrime  \\\n",
       "0                                            No role                  Yes   \n",
       "1  Monitor organisations misusing consumer inform...                   No   \n",
       "2  Have stricter laws and punishments for cyber c...                  Yes   \n",
       "3                                         Don’t know                   No   \n",
       "4                                            No role                  Yes   \n",
       "\n",
       "  Not victim, report cybercrime   Not victim, to who report cybercrime  \n",
       "0               No, I would not  Saudi eGovernment Portal , Saudi CERT  \n",
       "1                  Yes, I would  Saudi eGovernment Portal , Saudi CERT  \n",
       "2               No, I would not                             Saudi CERT  \n",
       "3               No, I would not                             Saudi CERT  \n",
       "4               No, I would not                             Saudi CERT  \n",
       "\n",
       "[5 rows x 58 columns]"
      ]
     },
     "execution_count": 94,
     "metadata": {},
     "output_type": "execute_result"
    }
   ],
   "source": [
    "df = pd.read_csv('Cleaned data.csv')\n",
    "df.head()"
   ]
  },
  {
   "cell_type": "code",
   "execution_count": 95,
   "metadata": {},
   "outputs": [
    {
     "data": {
      "text/plain": [
       "['Gender',\n",
       " 'Age',\n",
       " 'Education level',\n",
       " 'Major',\n",
       " 'Administrative regions',\n",
       " 'Number of use Internet and Internet-related services',\n",
       " 'Internet/ Digital devices skills level',\n",
       " 'Digital devices type',\n",
       " 'Type of connectivity',\n",
       " 'Purpose of using internet',\n",
       " 'Operating system of desktop/laptop',\n",
       " 'Operating system of smartphone/tablet',\n",
       " 'Common security tools',\n",
       " \"Secure of person's digital devices\",\n",
       " 'Legitimacy of a website',\n",
       " 'Password with personal information',\n",
       " 'Aware of the danger of clicking pop-up screens',\n",
       " \"Attention to person's account privacy\",\n",
       " 'Protection of social media services for personal info',\n",
       " 'Read terms and conditions of website',\n",
       " 'Change the important accounts passwords frequently',\n",
       " 'Using public Wi-Fi',\n",
       " 'No value for my digital devices to hackers',\n",
       " 'Install software updates regularly',\n",
       " 'Careful about clicking on links in an email or other post',\n",
       " 'Digital devices with Internet security tool',\n",
       " 'Internet security tool up to date',\n",
       " 'Keep yourself updated about cybercrime (offline Sources)',\n",
       " 'Keep yourself updated about cybercrime (Online Sources)',\n",
       " 'Avoid disclosing personal information online',\n",
       " 'Risk of becoming a victim of cybercrime has increased',\n",
       " 'Online personal information is not secure enough',\n",
       " 'Well protected against cybercrime',\n",
       " 'Accept increased Internet surveillance from the government',\n",
       " 'Laws are effective in managing the cybercrime problem',\n",
       " 'Informed about the threat of cybercrime',\n",
       " 'Received phishing emails',\n",
       " 'Stealing your personal data',\n",
       " 'Malware infection of a device',\n",
       " 'Being unable to access online services because of cyber attacks',\n",
       " 'Encountering material promotes hatred or religious extremism',\n",
       " 'Online extortion',\n",
       " 'Concerned about identity theft',\n",
       " 'Not concerned about encountering child pornography online',\n",
       " 'Concerned about receiving phishing emails',\n",
       " 'Concerned about not being able to access online services because of cyber attacks',\n",
       " 'Concerned about encountering material promotes hatred or religious extremism',\n",
       " 'Concerned about encountering online extortion',\n",
       " 'Feeling about the threat of cybercrimes in the future',\n",
       " 'Responsibility of government in raising awareness of cybercrime',\n",
       " 'Responsibility of media in raising awareness of cybercrime',\n",
       " 'Responsibility of those offering online/Internet-based servicesin raising awareness of cybercrime',\n",
       " 'Responsibility of user itself in raising awareness of cybercrime',\n",
       " 'Responsibility of education system in raising awareness of cybercrime',\n",
       " 'Role of the government in combating cybercrimes',\n",
       " 'Victim of cybercrime',\n",
       " 'Not victim, report cybercrime',\n",
       " 'Not victim, to who report cybercrime']"
      ]
     },
     "execution_count": 95,
     "metadata": {},
     "output_type": "execute_result"
    }
   ],
   "source": [
    "list(df.columns)"
   ]
  },
  {
   "cell_type": "markdown",
   "metadata": {},
   "source": [
    "'Gender',\n",
    " *'Age',\n",
    " *'Education level',\n",
    " 'Major',\n",
    " 'Administrative regions',\n",
    " *'Number of use Internet and Internet-related services',\n",
    " *'Internet/ Digital devices skills level',\n",
    " **'Digital devices type',\n",
    " **'Type of connectivity',\n",
    " **'Purpose of using internet',\n",
    " **'Operating system of desktop/laptop',\n",
    " **'Operating system of smartphone/tablet',\n",
    " **'Common security tools',\n",
    " *\"Secure of person's digital devices\",\n",
    " *'Legitimacy of a website',\n",
    " 'Password with personal information',\n",
    " 'Aware of the danger of clicking pop-up screens',\n",
    " \"Attention to person's account privacy\",\n",
    " 'Protection of social media services for personal info',\n",
    " 'Read terms and conditions of website',\n",
    " 'Change the important accounts passwords frequently',\n",
    " 'Using public Wi-Fi',\n",
    " 'No value for my digital devices to hackers',\n",
    " 'Install software updates regularly',\n",
    " 'Careful about clicking on links in an email or other post',"
   ]
  },
  {
   "cell_type": "markdown",
   "metadata": {},
   "source": [
    "### Enumerate columns by mapping"
   ]
  },
  {
   "cell_type": "code",
   "execution_count": 96,
   "metadata": {},
   "outputs": [
    {
     "data": {
      "text/plain": [
       "{0: 'Postgraduate (Master’s, PhD)',\n",
       " 1: 'Undergraduate (Diploma, BSc)',\n",
       " 2: 'High School',\n",
       " 3: 'Middle School'}"
      ]
     },
     "execution_count": 96,
     "metadata": {},
     "output_type": "execute_result"
    }
   ],
   "source": [
    "#get unique values\n",
    "d = dict(enumerate(df['Education level'].unique()))\n",
    "d"
   ]
  },
  {
   "cell_type": "code",
   "execution_count": 97,
   "metadata": {},
   "outputs": [],
   "source": [
    "#manuly change the numbers according to education level\n",
    "education={'Postgraduate (Master’s, PhD)':3,\n",
    " 'Undergraduate (Diploma, BSc)':2,\n",
    " 'High School':1,\n",
    " 'Middle School':0}\n",
    "df['Education level']= df['Education level'].map(education)"
   ]
  },
  {
   "cell_type": "code",
   "execution_count": 98,
   "metadata": {},
   "outputs": [
    {
     "data": {
      "text/plain": [
       "{0: '18-29', 1: '40-49', 2: '30-39', 3: '50+'}"
      ]
     },
     "execution_count": 98,
     "metadata": {},
     "output_type": "execute_result"
    }
   ],
   "source": [
    "#get unique values\n",
    "d = dict(enumerate(df['Age'].unique()))\n",
    "d"
   ]
  },
  {
   "cell_type": "code",
   "execution_count": 99,
   "metadata": {},
   "outputs": [],
   "source": [
    "a={'18-29':0, '40-49':1, '30-39':2, '50+':3}\n",
    "df['Age']= df['Age'].map(d)"
   ]
  },
  {
   "cell_type": "code",
   "execution_count": 100,
   "metadata": {},
   "outputs": [
    {
     "data": {
      "text/plain": [
       "{0: 'Frequently throughout the day',\n",
       " 1: 'Once or twice a day',\n",
       " 2: 'Less frequently (once a week, once month)'}"
      ]
     },
     "execution_count": 100,
     "metadata": {},
     "output_type": "execute_result"
    }
   ],
   "source": [
    "#get unique values\n",
    "d = dict(enumerate(df['Number of use Internet and Internet-related services'].unique()))\n",
    "d"
   ]
  },
  {
   "cell_type": "code",
   "execution_count": 101,
   "metadata": {},
   "outputs": [],
   "source": [
    "usingInternet= {'Frequently throughout the day': 2,\n",
    " 'Once or twice a day': 1,\n",
    " 'Less frequently (once a week, once month)': 0}\n",
    "\n",
    "df['Number of use Internet and Internet-related services']= df['Number of use Internet and Internet-related services'].map(usingInternet)"
   ]
  },
  {
   "cell_type": "code",
   "execution_count": 102,
   "metadata": {},
   "outputs": [
    {
     "data": {
      "text/plain": [
       "{0: 'Intermediate (e.g. able to install and run special software, make modifications to the settings of the computer, have a good understanding of hardware and software)',\n",
       " 1: 'Beginner/Basic (e.g. start computer and phone, go to specified web page. Use Word. Use social media)',\n",
       " 2: 'Expert (e.g. computer engineering, database administration, network engineering)'}"
      ]
     },
     "execution_count": 102,
     "metadata": {},
     "output_type": "execute_result"
    }
   ],
   "source": [
    "#get unique values\n",
    "d = dict(enumerate(df['Internet/ Digital devices skills level'].unique()))\n",
    "d"
   ]
  },
  {
   "cell_type": "code",
   "execution_count": 103,
   "metadata": {},
   "outputs": [],
   "source": [
    "skill= {'Intermediate (e.g. able to install and run special software, make modifications to the settings of the computer, have a good understanding of hardware and software)': 1,\n",
    " 'Beginner/Basic (e.g. start computer and phone, go to specified web page. Use Word. Use social media)': 0,\n",
    " 'Expert (e.g. computer engineering, database administration, network engineering)': 2}\n",
    "df['Internet/ Digital devices skills level']= df['Internet/ Digital devices skills level'].map(skill)"
   ]
  },
  {
   "cell_type": "code",
   "execution_count": 104,
   "metadata": {},
   "outputs": [
    {
     "data": {
      "text/plain": [
       "{0: 'Neutral',\n",
       " 1: 'Somewhat secure',\n",
       " 2: 'Somewhat insecure',\n",
       " 3: 'Very secure',\n",
       " 4: 'Not sure (difficult to determine)',\n",
       " 5: 'Not secure at all'}"
      ]
     },
     "execution_count": 104,
     "metadata": {},
     "output_type": "execute_result"
    }
   ],
   "source": [
    "#get unique values\n",
    "d = dict(enumerate(df[\"Secure of person's digital devices\"].unique()))\n",
    "d"
   ]
  },
  {
   "cell_type": "code",
   "execution_count": 105,
   "metadata": {},
   "outputs": [],
   "source": [
    "secure= {'Neutral': 3,\n",
    " 'Somewhat secure': 4,\n",
    " 'Somewhat insecure': 2,\n",
    " 'Very secure': 5,\n",
    " 'Not sure (difficult to determine)':1,\n",
    " 'Not secure at all': 0}\n",
    "df[\"Secure of person's digital devices\"]= df[\"Secure of person's digital devices\"].map(secure)"
   ]
  },
  {
   "cell_type": "code",
   "execution_count": 106,
   "metadata": {},
   "outputs": [
    {
     "data": {
      "text/plain": [
       "{0: 'Always', 1: 'Never', 2: 'Often', 3: 'Sometimes', 4: 'Seldom'}"
      ]
     },
     "execution_count": 106,
     "metadata": {},
     "output_type": "execute_result"
    }
   ],
   "source": [
    "#get unique values\n",
    "d = dict(enumerate(df[\"Legitimacy of a website\"].unique()))\n",
    "d"
   ]
  },
  {
   "cell_type": "code",
   "execution_count": 107,
   "metadata": {},
   "outputs": [],
   "source": [
    "when= {'Always':4, 'Never': 0, 'Often': 3, 'Sometimes': 2, 'Seldom': 1}"
   ]
  },
  {
   "cell_type": "code",
   "execution_count": 108,
   "metadata": {},
   "outputs": [],
   "source": [
    "# Map the when dictionary to columns which has the same values\n",
    "df.iloc[:, 14:25]= df.iloc[:, 14:25].stack().map(when).unstack()"
   ]
  },
  {
   "cell_type": "code",
   "execution_count": null,
   "metadata": {},
   "outputs": [],
   "source": []
  }
 ],
 "metadata": {
  "interpreter": {
   "hash": "95d73d6fd1cff5fb2f41ff3c75621fd967f90acca1c16714a7d5860f4cfbfbc9"
  },
  "kernelspec": {
   "display_name": "Python 3.7.1 64-bit ('base': conda)",
   "language": "python",
   "name": "python3"
  },
  "language_info": {
   "codemirror_mode": {
    "name": "ipython",
    "version": 3
   },
   "file_extension": ".py",
   "mimetype": "text/x-python",
   "name": "python",
   "nbconvert_exporter": "python",
   "pygments_lexer": "ipython3",
   "version": "3.7.1"
  },
  "orig_nbformat": 4
 },
 "nbformat": 4,
 "nbformat_minor": 2
}
