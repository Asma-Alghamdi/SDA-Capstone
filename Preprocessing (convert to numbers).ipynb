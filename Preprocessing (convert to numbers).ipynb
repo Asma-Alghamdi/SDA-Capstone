{
 "cells": [
  {
   "cell_type": "code",
   "execution_count": null,
   "metadata": {},
   "outputs": [],
   "source": [
    "import pandas as pd"
   ]
  },
  {
   "cell_type": "code",
   "execution_count": null,
   "metadata": {},
   "outputs": [],
   "source": [
    "df = pd.read_csv('Cleaned data.csv')\n",
    "df.head()"
   ]
  },
  {
   "cell_type": "code",
   "execution_count": null,
   "metadata": {},
   "outputs": [],
   "source": [
    "list(df.columns)"
   ]
  },
  {
   "cell_type": "markdown",
   "metadata": {},
   "source": [
    "'Gender',\n",
    " *'Age',\n",
    " *'Education level',\n",
    " 'Major',\n",
    " 'Administrative regions',\n",
    " *'Number of use Internet and Internet-related services',\n",
    " *'Internet/ Digital devices skills level',\n",
    " **'Digital devices type',\n",
    " **'Type of connectivity',\n",
    " **'Purpose of using internet',\n",
    " **'Operating system of desktop/laptop',\n",
    " **'Operating system of smartphone/tablet',\n",
    " **'Common security tools',\n",
    " \"Secure of person's digital devices\",\n",
    " 'Legitimacy of a website',\n",
    " 'Password with personal information',\n",
    " 'Aware of the danger of clicking pop-up screens',\n",
    " \"Attention to person's account privacy\",\n",
    " 'Protection of social media services for personal info',\n",
    " 'Read terms and conditions of website',\n",
    " 'Change the important accounts passwords frequently',\n",
    " 'Using public Wi-Fi',\n",
    " 'No value for my digital devices to hackers',\n",
    " 'Install software updates regularly',\n",
    " 'Careful about clicking on links in an email or other post',"
   ]
  },
  {
   "cell_type": "markdown",
   "metadata": {},
   "source": [
    "### Enumerate columns by mapping"
   ]
  },
  {
   "cell_type": "code",
   "execution_count": null,
   "metadata": {},
   "outputs": [],
   "source": [
    "#get unique values\n",
    "d = dict(enumerate(df['Education level'].unique()))\n",
    "d"
   ]
  },
  {
   "cell_type": "code",
   "execution_count": null,
   "metadata": {},
   "outputs": [],
   "source": [
    "#manuly change the numbers according to education level\n",
    "education={'Postgraduate (Master’s, PhD)':3,\n",
    " 'Undergraduate (Diploma, BSc)':2,\n",
    " 'High School':1,\n",
    " 'Middle School':0}\n",
    "df['Education level']= df['Education level'].map(education)"
   ]
  },
  {
   "cell_type": "code",
   "execution_count": null,
   "metadata": {},
   "outputs": [],
   "source": [
    "#get unique values\n",
    "d = dict(enumerate(df['Age'].unique()))\n",
    "d"
   ]
  },
  {
   "cell_type": "code",
   "execution_count": null,
   "metadata": {},
   "outputs": [],
   "source": [
    "a={'18-29':0, '40-49':1, '30-39':2, '50+':3}\n",
    "df['Age']= df['Age'].map(d)"
   ]
  },
  {
   "cell_type": "code",
   "execution_count": null,
   "metadata": {},
   "outputs": [],
   "source": [
    "#get unique values\n",
    "d = dict(enumerate(df['Number of use Internet and Internet-related services'].unique()))\n",
    "d"
   ]
  },
  {
   "cell_type": "code",
   "execution_count": null,
   "metadata": {},
   "outputs": [],
   "source": [
    "usingInternet= {'Frequently throughout the day': 2,\n",
    " 'Once or twice a day': 1,\n",
    " 'Less frequently (once a week, once month)': 0}\n",
    "\n",
    "df['Number of use Internet and Internet-related services']= df['Number of use Internet and Internet-related services'].map(usingInternet)"
   ]
  },
  {
   "cell_type": "code",
   "execution_count": null,
   "metadata": {},
   "outputs": [],
   "source": [
    "#get unique values\n",
    "d = dict(enumerate(df['Internet/ Digital devices skills level'].unique()))\n",
    "d"
   ]
  },
  {
   "cell_type": "code",
   "execution_count": null,
   "metadata": {},
   "outputs": [],
   "source": [
    "skill= {'Intermediate (e.g. able to install and run special software, make modifications to the settings of the computer, have a good understanding of hardware and software)': 1,\n",
    " 'Beginner/Basic (e.g. start computer and phone, go to specified web page. Use Word. Use social media)': 0,\n",
    " 'Expert (e.g. computer engineering, database administration, network engineering)': 2}\n",
    "df['Internet/ Digital devices skills level']= df['Internet/ Digital devices skills level'].map(skill)"
   ]
  },
  {
   "cell_type": "code",
   "execution_count": null,
   "metadata": {},
   "outputs": [],
   "source": [
    "#get unique values\n",
    "d = dict(enumerate(df[\"Secure of person's digital devices\"].unique()))\n",
    "d"
   ]
  },
  {
   "cell_type": "code",
   "execution_count": null,
   "metadata": {},
   "outputs": [],
   "source": [
    "secure= {'Neutral': 3,\n",
    " 'Somewhat secure': 4,\n",
    " 'Somewhat insecure': 2,\n",
    " 'Very secure': 5,\n",
    " 'Not sure (difficult to determine)':1,\n",
    " 'Not secure at all': 0}"
   ]
  }
 ],
 "metadata": {
  "interpreter": {
   "hash": "95d73d6fd1cff5fb2f41ff3c75621fd967f90acca1c16714a7d5860f4cfbfbc9"
  },
  "kernelspec": {
   "display_name": "Python 3.7.1 64-bit ('base': conda)",
   "language": "python",
   "name": "python3"
  },
  "language_info": {
   "codemirror_mode": {
    "name": "ipython",
    "version": 3
   },
   "file_extension": ".py",
   "mimetype": "text/x-python",
   "name": "python",
   "nbconvert_exporter": "python",
   "pygments_lexer": "ipython3",
   "version": "3.8.8"
  },
  "orig_nbformat": 4
 },
 "nbformat": 4,
 "nbformat_minor": 2
}
