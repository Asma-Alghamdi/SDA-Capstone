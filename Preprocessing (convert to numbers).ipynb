{
 "cells": [
  {
   "cell_type": "code",
   "execution_count": 1,
   "metadata": {},
   "outputs": [],
   "source": [
    "import pandas as pd\n",
    "import numpy as np"
   ]
  },
  {
   "cell_type": "code",
   "execution_count": 2,
   "metadata": {},
   "outputs": [
    {
     "data": {
      "text/html": [
       "<div>\n",
       "<style scoped>\n",
       "    .dataframe tbody tr th:only-of-type {\n",
       "        vertical-align: middle;\n",
       "    }\n",
       "\n",
       "    .dataframe tbody tr th {\n",
       "        vertical-align: top;\n",
       "    }\n",
       "\n",
       "    .dataframe thead th {\n",
       "        text-align: right;\n",
       "    }\n",
       "</style>\n",
       "<table border=\"1\" class=\"dataframe\">\n",
       "  <thead>\n",
       "    <tr style=\"text-align: right;\">\n",
       "      <th></th>\n",
       "      <th>Gender</th>\n",
       "      <th>Age</th>\n",
       "      <th>Education level</th>\n",
       "      <th>Major</th>\n",
       "      <th>Administrative regions</th>\n",
       "      <th>Number of use Internet and Internet-related services</th>\n",
       "      <th>Internet/ Digital devices skills level</th>\n",
       "      <th>Digital devices type</th>\n",
       "      <th>Type of connectivity</th>\n",
       "      <th>Purpose of using internet</th>\n",
       "      <th>...</th>\n",
       "      <th>Feeling about the threat of cybercrimes in the future</th>\n",
       "      <th>Responsibility of government in raising awareness of cybercrime</th>\n",
       "      <th>Responsibility of media in raising awareness of cybercrime</th>\n",
       "      <th>Responsibility of those offering online/Internet-based servicesin raising awareness of cybercrime</th>\n",
       "      <th>Responsibility of user itself in raising awareness of cybercrime</th>\n",
       "      <th>Responsibility of education system in raising awareness of cybercrime</th>\n",
       "      <th>Role of the government in combating cybercrimes</th>\n",
       "      <th>Victim of cybercrime</th>\n",
       "      <th>Report cybercrime</th>\n",
       "      <th>To who report cybercrime</th>\n",
       "    </tr>\n",
       "  </thead>\n",
       "  <tbody>\n",
       "    <tr>\n",
       "      <td>0</td>\n",
       "      <td>Female</td>\n",
       "      <td>18-29</td>\n",
       "      <td>Postgraduate (Master’s, PhD)</td>\n",
       "      <td>Computer Science</td>\n",
       "      <td>Makkah</td>\n",
       "      <td>Frequently throughout the day</td>\n",
       "      <td>Intermediate (e.g. able to install and run spe...</td>\n",
       "      <td>Desktop, Laptop, Smartphone</td>\n",
       "      <td>Mobile/cellular phone network (e.g. 3G/4G)</td>\n",
       "      <td>Education, Social networks, Online services, C...</td>\n",
       "      <td>...</td>\n",
       "      <td>They will become a more serious issue in the f...</td>\n",
       "      <td>Strongly Agree</td>\n",
       "      <td>Strongly Agree</td>\n",
       "      <td>Strongly Agree</td>\n",
       "      <td>Strongly Agree</td>\n",
       "      <td>Strongly Agree</td>\n",
       "      <td>No role</td>\n",
       "      <td>Yes</td>\n",
       "      <td>No, I would not</td>\n",
       "      <td>Saudi eGovernment Portal , Saudi CERT</td>\n",
       "    </tr>\n",
       "    <tr>\n",
       "      <td>1</td>\n",
       "      <td>Female</td>\n",
       "      <td>18-29</td>\n",
       "      <td>Undergraduate (Diploma, BSc)</td>\n",
       "      <td>Medicine or public health</td>\n",
       "      <td>Makkah</td>\n",
       "      <td>Frequently throughout the day</td>\n",
       "      <td>Intermediate (e.g. able to install and run spe...</td>\n",
       "      <td>Smartphone</td>\n",
       "      <td>Private Wi-Fi (e.g. in your home), Mobile/cell...</td>\n",
       "      <td>Social networks, Communication</td>\n",
       "      <td>...</td>\n",
       "      <td>Don't know</td>\n",
       "      <td>Agree</td>\n",
       "      <td>Agree</td>\n",
       "      <td>Agree</td>\n",
       "      <td>Agree</td>\n",
       "      <td>Agree</td>\n",
       "      <td>Monitor organisations misusing consumer inform...</td>\n",
       "      <td>No</td>\n",
       "      <td>Yes, I would</td>\n",
       "      <td>Saudi eGovernment Portal , Saudi CERT</td>\n",
       "    </tr>\n",
       "    <tr>\n",
       "      <td>2</td>\n",
       "      <td>Female</td>\n",
       "      <td>18-29</td>\n",
       "      <td>Undergraduate (Diploma, BSc)</td>\n",
       "      <td>Medicine or public health</td>\n",
       "      <td>Makkah</td>\n",
       "      <td>Frequently throughout the day</td>\n",
       "      <td>Intermediate (e.g. able to install and run spe...</td>\n",
       "      <td>Tablet</td>\n",
       "      <td>Mobile/cellular phone network (e.g. 3G/4G)</td>\n",
       "      <td>Education, Social networks, Online services, C...</td>\n",
       "      <td>...</td>\n",
       "      <td>The threat will vanish eventually</td>\n",
       "      <td>Strongly Agree</td>\n",
       "      <td>Strongly Agree</td>\n",
       "      <td>Strongly Agree</td>\n",
       "      <td>Strongly Agree</td>\n",
       "      <td>Strongly Agree</td>\n",
       "      <td>Have stricter laws and punishments for cyber c...</td>\n",
       "      <td>Yes</td>\n",
       "      <td>No, I would not</td>\n",
       "      <td>Bank</td>\n",
       "    </tr>\n",
       "    <tr>\n",
       "      <td>3</td>\n",
       "      <td>Female</td>\n",
       "      <td>18-29</td>\n",
       "      <td>Undergraduate (Diploma, BSc)</td>\n",
       "      <td>Medicine or public health</td>\n",
       "      <td>Makkah</td>\n",
       "      <td>Frequently throughout the day</td>\n",
       "      <td>Intermediate (e.g. able to install and run spe...</td>\n",
       "      <td>Laptop, Smartphone</td>\n",
       "      <td>Public Wi-Fi (e.g. in coffee shop), Private Wi...</td>\n",
       "      <td>Professional reasons, Education, Social networ...</td>\n",
       "      <td>...</td>\n",
       "      <td>Don't know</td>\n",
       "      <td>Agree</td>\n",
       "      <td>Agree</td>\n",
       "      <td>Agree</td>\n",
       "      <td>Agree</td>\n",
       "      <td>Disagree</td>\n",
       "      <td>Don’t know</td>\n",
       "      <td>No</td>\n",
       "      <td>No, I would not</td>\n",
       "      <td>Saudi CERT</td>\n",
       "    </tr>\n",
       "    <tr>\n",
       "      <td>4</td>\n",
       "      <td>Male</td>\n",
       "      <td>18-29</td>\n",
       "      <td>Undergraduate (Diploma, BSc)</td>\n",
       "      <td>Engineering</td>\n",
       "      <td>Makkah</td>\n",
       "      <td>Frequently throughout the day</td>\n",
       "      <td>Intermediate (e.g. able to install and run spe...</td>\n",
       "      <td>Desktop, Laptop, Smartphone</td>\n",
       "      <td>Private Wi-Fi (e.g. in your home), Mobile/cell...</td>\n",
       "      <td>Education, Social networks, Online services, E...</td>\n",
       "      <td>...</td>\n",
       "      <td>They will become a more serious issue in the f...</td>\n",
       "      <td>Agree</td>\n",
       "      <td>Neutral</td>\n",
       "      <td>Strongly Agree</td>\n",
       "      <td>Agree</td>\n",
       "      <td>Strongly Agree</td>\n",
       "      <td>No role</td>\n",
       "      <td>Yes</td>\n",
       "      <td>No, I would not</td>\n",
       "      <td>Saudi CERT</td>\n",
       "    </tr>\n",
       "  </tbody>\n",
       "</table>\n",
       "<p>5 rows × 58 columns</p>\n",
       "</div>"
      ],
      "text/plain": [
       "   Gender    Age               Education level                      Major  \\\n",
       "0  Female  18-29  Postgraduate (Master’s, PhD)           Computer Science   \n",
       "1  Female  18-29  Undergraduate (Diploma, BSc)  Medicine or public health   \n",
       "2  Female  18-29  Undergraduate (Diploma, BSc)  Medicine or public health   \n",
       "3  Female  18-29  Undergraduate (Diploma, BSc)  Medicine or public health   \n",
       "4    Male  18-29  Undergraduate (Diploma, BSc)                Engineering   \n",
       "\n",
       "  Administrative regions Number of use Internet and Internet-related services  \\\n",
       "0                 Makkah                      Frequently throughout the day     \n",
       "1                 Makkah                      Frequently throughout the day     \n",
       "2                 Makkah                      Frequently throughout the day     \n",
       "3                 Makkah                      Frequently throughout the day     \n",
       "4                 Makkah                      Frequently throughout the day     \n",
       "\n",
       "              Internet/ Digital devices skills level  \\\n",
       "0  Intermediate (e.g. able to install and run spe...   \n",
       "1  Intermediate (e.g. able to install and run spe...   \n",
       "2  Intermediate (e.g. able to install and run spe...   \n",
       "3  Intermediate (e.g. able to install and run spe...   \n",
       "4  Intermediate (e.g. able to install and run spe...   \n",
       "\n",
       "          Digital devices type  \\\n",
       "0  Desktop, Laptop, Smartphone   \n",
       "1                   Smartphone   \n",
       "2                       Tablet   \n",
       "3           Laptop, Smartphone   \n",
       "4  Desktop, Laptop, Smartphone   \n",
       "\n",
       "                                Type of connectivity  \\\n",
       "0         Mobile/cellular phone network (e.g. 3G/4G)   \n",
       "1  Private Wi-Fi (e.g. in your home), Mobile/cell...   \n",
       "2         Mobile/cellular phone network (e.g. 3G/4G)   \n",
       "3  Public Wi-Fi (e.g. in coffee shop), Private Wi...   \n",
       "4  Private Wi-Fi (e.g. in your home), Mobile/cell...   \n",
       "\n",
       "                           Purpose of using internet  ...  \\\n",
       "0  Education, Social networks, Online services, C...  ...   \n",
       "1                     Social networks, Communication  ...   \n",
       "2  Education, Social networks, Online services, C...  ...   \n",
       "3  Professional reasons, Education, Social networ...  ...   \n",
       "4  Education, Social networks, Online services, E...  ...   \n",
       "\n",
       "  Feeling about the threat of cybercrimes in the future  \\\n",
       "0  They will become a more serious issue in the f...      \n",
       "1                                         Don't know      \n",
       "2                  The threat will vanish eventually      \n",
       "3                                         Don't know      \n",
       "4  They will become a more serious issue in the f...      \n",
       "\n",
       "  Responsibility of government in raising awareness of cybercrime  \\\n",
       "0                                     Strongly Agree                \n",
       "1                                              Agree                \n",
       "2                                     Strongly Agree                \n",
       "3                                              Agree                \n",
       "4                                              Agree                \n",
       "\n",
       "  Responsibility of media in raising awareness of cybercrime  \\\n",
       "0                                     Strongly Agree           \n",
       "1                                              Agree           \n",
       "2                                     Strongly Agree           \n",
       "3                                              Agree           \n",
       "4                                            Neutral           \n",
       "\n",
       "  Responsibility of those offering online/Internet-based servicesin raising awareness of cybercrime  \\\n",
       "0                                     Strongly Agree                                                  \n",
       "1                                              Agree                                                  \n",
       "2                                     Strongly Agree                                                  \n",
       "3                                              Agree                                                  \n",
       "4                                     Strongly Agree                                                  \n",
       "\n",
       "  Responsibility of user itself in raising awareness of cybercrime  \\\n",
       "0                                     Strongly Agree                 \n",
       "1                                              Agree                 \n",
       "2                                     Strongly Agree                 \n",
       "3                                              Agree                 \n",
       "4                                              Agree                 \n",
       "\n",
       "  Responsibility of education system in raising awareness of cybercrime  \\\n",
       "0                                     Strongly Agree                      \n",
       "1                                              Agree                      \n",
       "2                                     Strongly Agree                      \n",
       "3                                           Disagree                      \n",
       "4                                     Strongly Agree                      \n",
       "\n",
       "     Role of the government in combating cybercrimes Victim of cybercrime  \\\n",
       "0                                            No role                  Yes   \n",
       "1  Monitor organisations misusing consumer inform...                   No   \n",
       "2  Have stricter laws and punishments for cyber c...                  Yes   \n",
       "3                                         Don’t know                   No   \n",
       "4                                            No role                  Yes   \n",
       "\n",
       "  Report cybercrime               To who report cybercrime  \n",
       "0   No, I would not  Saudi eGovernment Portal , Saudi CERT  \n",
       "1      Yes, I would  Saudi eGovernment Portal , Saudi CERT  \n",
       "2   No, I would not                                   Bank  \n",
       "3   No, I would not                             Saudi CERT  \n",
       "4   No, I would not                             Saudi CERT  \n",
       "\n",
       "[5 rows x 58 columns]"
      ]
     },
     "execution_count": 2,
     "metadata": {},
     "output_type": "execute_result"
    }
   ],
   "source": [
    "df = pd.read_csv('Cleaned data.csv')\n",
    "df.head()"
   ]
  },
  {
   "cell_type": "code",
   "execution_count": 3,
   "metadata": {},
   "outputs": [
    {
     "name": "stdout",
     "output_type": "stream",
     "text": [
      "['Gender', 'Age', 'Education level', 'Major', 'Administrative regions', 'Number of use Internet and Internet-related services', 'Internet/ Digital devices skills level', 'Digital devices type', 'Type of connectivity', 'Purpose of using internet', 'Operating system of desktop/laptop', 'Operating system of smartphone/tablet', 'Common security tools', \"Secure of person's digital devices\", 'Legitimacy of a website', 'Password with personal information', 'Aware of the danger of clicking pop-up screens', \"Attention to person's account privacy\", 'Protection of social media services for personal info', 'Read terms and conditions of website', 'Change the important accounts passwords frequently', 'Using public Wi-Fi', 'No value for my digital devices to hackers', 'Install software updates regularly', 'Careful about clicking on links in an email or other post', 'Digital devices with Internet security tool', 'Internet security tool up to date', 'Keep yourself updated about cybercrime (offline Sources)', 'Keep yourself updated about cybercrime (Online Sources)', 'Avoid disclosing personal information online', 'Risk of becoming a victim of cybercrime has increased', 'Online personal information is not secure enough', 'Well protected against cybercrime', 'Accept increased Internet surveillance from the government', 'Laws are effective in managing the cybercrime problem', 'Informed about the threat of cybercrime', 'Received phishing emails', 'Stealing your personal data', 'Malware infection of a device', 'Being unable to access online services because of cyber attacks', 'Encountering material promotes hatred or religious extremism', 'Online extortion', 'Concerned about identity theft', 'Not concerned about encountering child pornography online', 'Concerned about receiving phishing emails', 'Concerned about not being able to access online services because of cyber attacks', 'Concerned about encountering material promotes hatred or religious extremism', 'Concerned about encountering online extortion', 'Feeling about the threat of cybercrimes in the future', 'Responsibility of government in raising awareness of cybercrime', 'Responsibility of media in raising awareness of cybercrime', 'Responsibility of those offering online/Internet-based servicesin raising awareness of cybercrime', 'Responsibility of user itself in raising awareness of cybercrime', 'Responsibility of education system in raising awareness of cybercrime', 'Role of the government in combating cybercrimes', 'Victim of cybercrime', 'Report cybercrime', 'To who report cybercrime']\n"
     ]
    }
   ],
   "source": [
    "print(list(df.columns))"
   ]
  },
  {
   "cell_type": "markdown",
   "metadata": {},
   "source": [
    "### Enumerate columns by mapping"
   ]
  },
  {
   "cell_type": "code",
   "execution_count": 4,
   "metadata": {},
   "outputs": [
    {
     "data": {
      "text/plain": [
       "{0: 'Postgraduate (Master’s, PhD)',\n",
       " 1: 'Undergraduate (Diploma, BSc)',\n",
       " 2: 'High School',\n",
       " 3: 'Middle School'}"
      ]
     },
     "execution_count": 4,
     "metadata": {},
     "output_type": "execute_result"
    }
   ],
   "source": [
    "#get unique values\n",
    "d = dict(enumerate(df['Education level'].unique()))\n",
    "d"
   ]
  },
  {
   "cell_type": "code",
   "execution_count": 5,
   "metadata": {},
   "outputs": [],
   "source": [
    "#manuly change the numbers according to education level\n",
    "education={'Postgraduate (Master’s, PhD)':3,\n",
    " 'Undergraduate (Diploma, BSc)':2,\n",
    " 'High School':1,\n",
    " 'Middle School':0}\n",
    "df['Education level']= df['Education level'].map(education)"
   ]
  },
  {
   "cell_type": "code",
   "execution_count": 6,
   "metadata": {},
   "outputs": [
    {
     "data": {
      "text/plain": [
       "{0: '18-29', 1: '40-49', 2: '30-39', 3: '50+'}"
      ]
     },
     "execution_count": 6,
     "metadata": {},
     "output_type": "execute_result"
    }
   ],
   "source": [
    "#get unique values\n",
    "d = dict(enumerate(df['Age'].unique()))\n",
    "d"
   ]
  },
  {
   "cell_type": "code",
   "execution_count": 7,
   "metadata": {},
   "outputs": [],
   "source": [
    "a={'18-29':0, '40-49':1, '30-39':2, '50+':3}\n",
    "df['Age']= df['Age'].map(a)"
   ]
  },
  {
   "cell_type": "code",
   "execution_count": 8,
   "metadata": {},
   "outputs": [
    {
     "data": {
      "text/plain": [
       "{0: 'Frequently throughout the day',\n",
       " 1: 'Once or twice a day',\n",
       " 2: 'Less frequently (once a week, once month)'}"
      ]
     },
     "execution_count": 8,
     "metadata": {},
     "output_type": "execute_result"
    }
   ],
   "source": [
    "#get unique values\n",
    "d = dict(enumerate(df['Number of use Internet and Internet-related services'].unique()))\n",
    "d"
   ]
  },
  {
   "cell_type": "code",
   "execution_count": 9,
   "metadata": {},
   "outputs": [],
   "source": [
    "usingInternet= {'Frequently throughout the day': 2,\n",
    " 'Once or twice a day': 1,\n",
    " 'Less frequently (once a week, once month)': 0}\n",
    "\n",
    "df['Number of use Internet and Internet-related services']= df['Number of use Internet and Internet-related services'].map(usingInternet)"
   ]
  },
  {
   "cell_type": "code",
   "execution_count": 10,
   "metadata": {},
   "outputs": [
    {
     "data": {
      "text/plain": [
       "{0: 'Intermediate (e.g. able to install and run special software, make modifications to the settings of the computer, have a good understanding of hardware and software)',\n",
       " 1: 'Beginner/Basic (e.g. start computer and phone, go to specified web page. Use Word. Use social media)',\n",
       " 2: 'Expert (e.g. computer engineering, database administration, network engineering)'}"
      ]
     },
     "execution_count": 10,
     "metadata": {},
     "output_type": "execute_result"
    }
   ],
   "source": [
    "#get unique values\n",
    "d = dict(enumerate(df['Internet/ Digital devices skills level'].unique()))\n",
    "d"
   ]
  },
  {
   "cell_type": "code",
   "execution_count": 11,
   "metadata": {},
   "outputs": [],
   "source": [
    "skill= {'Intermediate (e.g. able to install and run special software, make modifications to the settings of the computer, have a good understanding of hardware and software)': 1,\n",
    " 'Beginner/Basic (e.g. start computer and phone, go to specified web page. Use Word. Use social media)': 0,\n",
    " 'Expert (e.g. computer engineering, database administration, network engineering)': 2}\n",
    "df['Internet/ Digital devices skills level']= df['Internet/ Digital devices skills level'].map(skill)"
   ]
  },
  {
   "cell_type": "code",
   "execution_count": 12,
   "metadata": {},
   "outputs": [
    {
     "data": {
      "text/plain": [
       "{0: 'Neutral',\n",
       " 1: 'Somewhat secure',\n",
       " 2: 'Somewhat insecure',\n",
       " 3: 'Very secure',\n",
       " 4: 'Not sure (difficult to determine)',\n",
       " 5: 'Not secure at all'}"
      ]
     },
     "execution_count": 12,
     "metadata": {},
     "output_type": "execute_result"
    }
   ],
   "source": [
    "#get unique values\n",
    "d = dict(enumerate(df[\"Secure of person's digital devices\"].unique()))\n",
    "d"
   ]
  },
  {
   "cell_type": "code",
   "execution_count": 13,
   "metadata": {},
   "outputs": [],
   "source": [
    "secure= {'Neutral': 3,\n",
    " 'Somewhat secure': 4,\n",
    " 'Somewhat insecure': 2,\n",
    " 'Very secure': 5,\n",
    " 'Not sure (difficult to determine)':1,\n",
    " 'Not secure at all': 0}\n",
    "df[\"Secure of person's digital devices\"]= df[\"Secure of person's digital devices\"].map(secure)"
   ]
  },
  {
   "cell_type": "code",
   "execution_count": 14,
   "metadata": {},
   "outputs": [
    {
     "data": {
      "text/plain": [
       "{0: 'Always', 1: 'Never', 2: 'Often', 3: 'Sometimes', 4: 'Seldom'}"
      ]
     },
     "execution_count": 14,
     "metadata": {},
     "output_type": "execute_result"
    }
   ],
   "source": [
    "#get unique values\n",
    "d = dict(enumerate(df[\"Legitimacy of a website\"].unique()))\n",
    "d"
   ]
  },
  {
   "cell_type": "code",
   "execution_count": 15,
   "metadata": {},
   "outputs": [],
   "source": [
    "when= {'Always':4, 'Never': 0, 'Often': 3, 'Sometimes': 2, 'Seldom': 1}"
   ]
  },
  {
   "cell_type": "code",
   "execution_count": 16,
   "metadata": {},
   "outputs": [],
   "source": [
    "# Map the when dictionary to columns which has the same values\n",
    "df.iloc[:, 14:25]= df.iloc[:, 14:25].stack().map(when).unstack()"
   ]
  },
  {
   "cell_type": "code",
   "execution_count": 17,
   "metadata": {},
   "outputs": [
    {
     "data": {
      "text/plain": [
       "{0: 'Yes, I believe it is automatically updated',\n",
       " 1: 'Yes, I manually updated',\n",
       " 2: \"I don't know\",\n",
       " 3: 'No',\n",
       " 4: 'No, I think it is automatically updated'}"
      ]
     },
     "execution_count": 17,
     "metadata": {},
     "output_type": "execute_result"
    }
   ],
   "source": [
    "#get unique values\n",
    "d = dict(enumerate(df[\"Internet security tool up to date\"].unique()))\n",
    "d"
   ]
  },
  {
   "cell_type": "code",
   "execution_count": 18,
   "metadata": {},
   "outputs": [],
   "source": [
    "security={'Yes, I believe it is automatically updated': 3,\n",
    " 'Yes, I manually updated': 4,\n",
    " \"I don't know\": 2,\n",
    " 'No': 0,\n",
    " 'No, I think it is automatically updated': 1}\n",
    "df[\"Internet security tool up to date\"]= df[\"Internet security tool up to date\"].map(security)"
   ]
  },
  {
   "cell_type": "code",
   "execution_count": 19,
   "metadata": {},
   "outputs": [
    {
     "data": {
      "text/plain": [
       "{0: 'Strongly Agree',\n",
       " 1: 'Agree',\n",
       " 2: 'Neutral',\n",
       " 3: 'Strongly Disagree',\n",
       " 4: 'Disagree'}"
      ]
     },
     "execution_count": 19,
     "metadata": {},
     "output_type": "execute_result"
    }
   ],
   "source": [
    "#get unique values\n",
    "d = dict(enumerate(df['Avoid disclosing personal information online'].unique()))\n",
    "d"
   ]
  },
  {
   "cell_type": "code",
   "execution_count": 20,
   "metadata": {},
   "outputs": [],
   "source": [
    "choice={'Strongly Agree': 4,\n",
    " 'Agree': 3,\n",
    " 'Neutral': 2,\n",
    " 'Strongly Disagree': 0,\n",
    " 'Disagree': 1} "
   ]
  },
  {
   "cell_type": "code",
   "execution_count": 21,
   "metadata": {},
   "outputs": [],
   "source": [
    "# Map the when dictionary to columns which has the same values\n",
    "df.iloc[:, 29:36]= df.iloc[:, 29:36].stack().map(choice).unstack()"
   ]
  },
  {
   "cell_type": "code",
   "execution_count": 22,
   "metadata": {},
   "outputs": [
    {
     "data": {
      "text/plain": [
       "{0: 'Always', 1: 'Do not know', 2: 'Never', 3: 'Sometimes'}"
      ]
     },
     "execution_count": 22,
     "metadata": {},
     "output_type": "execute_result"
    }
   ],
   "source": [
    "#get unique values\n",
    "d = dict(enumerate(df['Received phishing emails'].unique()))\n",
    "d"
   ]
  },
  {
   "cell_type": "code",
   "execution_count": 23,
   "metadata": {},
   "outputs": [],
   "source": [
    "choice2={'Always': 1,'Do not know': 0, 'Never': 3, 'Sometimes': 2}"
   ]
  },
  {
   "cell_type": "code",
   "execution_count": 24,
   "metadata": {},
   "outputs": [],
   "source": [
    "# Map the when dictionary to columns which has the same values\n",
    "df.iloc[:, 36:48]= df.iloc[:, 36:48].stack().map(choice2).unstack()"
   ]
  },
  {
   "cell_type": "code",
   "execution_count": 25,
   "metadata": {},
   "outputs": [],
   "source": [
    "# Column has a spilling error (Somtimes) instead of Sometimes so it is mapped to null and we need to replace it\n",
    "df[\"Concerned about identity theft\"] = df[\"Concerned about identity theft\"].replace(np.NaN, 2)"
   ]
  },
  {
   "cell_type": "code",
   "execution_count": 26,
   "metadata": {},
   "outputs": [
    {
     "data": {
      "text/plain": [
       "{0: 'They will become a more serious issue in the future',\n",
       " 1: \"Don't know\",\n",
       " 2: 'The threat will vanish eventually',\n",
       " 3: 'No significant change'}"
      ]
     },
     "execution_count": 26,
     "metadata": {},
     "output_type": "execute_result"
    }
   ],
   "source": [
    "#get unique values\n",
    "d = dict(enumerate(df['Feeling about the threat of cybercrimes in the future'].unique()))\n",
    "d"
   ]
  },
  {
   "cell_type": "code",
   "execution_count": 27,
   "metadata": {},
   "outputs": [],
   "source": [
    "threat={'They will become a more serious issue in the future': 3,\n",
    " \"Don't know\": 0,\n",
    " 'The threat will vanish eventually': 1,\n",
    " 'No significant change': 3}\n",
    "df['Feeling about the threat of cybercrimes in the future']= df['Feeling about the threat of cybercrimes in the future'].map(threat)"
   ]
  },
  {
   "cell_type": "code",
   "execution_count": 28,
   "metadata": {},
   "outputs": [],
   "source": [
    "# Map the when dictionary to columns which has the same values\n",
    "df.iloc[:, 49:54]= df.iloc[:, 49:54].stack().map(choice).unstack()"
   ]
  },
  {
   "cell_type": "code",
   "execution_count": 29,
   "metadata": {},
   "outputs": [],
   "source": [
    "Victim= {'Yes': 1, 'No': 0}\n",
    "df['Victim of cybercrime']= df['Victim of cybercrime'].map(Victim)"
   ]
  },
  {
   "cell_type": "code",
   "execution_count": 30,
   "metadata": {},
   "outputs": [
    {
     "data": {
      "text/plain": [
       "{0: 'No, I would not', 1: 'Yes, I would'}"
      ]
     },
     "execution_count": 30,
     "metadata": {},
     "output_type": "execute_result"
    }
   ],
   "source": [
    "#get unique values\n",
    "d = dict(enumerate(df['Report cybercrime'].unique()))\n",
    "d"
   ]
  },
  {
   "cell_type": "code",
   "execution_count": 31,
   "metadata": {},
   "outputs": [],
   "source": [
    "reported= {'No, I would not':0 , 'Yes, I would': 1}\n",
    "df['Report cybercrime']= df['Report cybercrime'].map(reported)"
   ]
  },
  {
   "cell_type": "markdown",
   "metadata": {},
   "source": [
    "### Use Get dummies for equal proioriety values"
   ]
  },
  {
   "cell_type": "code",
   "execution_count": 32,
   "metadata": {},
   "outputs": [
    {
     "data": {
      "text/html": [
       "<div>\n",
       "<style scoped>\n",
       "    .dataframe tbody tr th:only-of-type {\n",
       "        vertical-align: middle;\n",
       "    }\n",
       "\n",
       "    .dataframe tbody tr th {\n",
       "        vertical-align: top;\n",
       "    }\n",
       "\n",
       "    .dataframe thead th {\n",
       "        text-align: right;\n",
       "    }\n",
       "</style>\n",
       "<table border=\"1\" class=\"dataframe\">\n",
       "  <thead>\n",
       "    <tr style=\"text-align: right;\">\n",
       "      <th></th>\n",
       "      <th>Age</th>\n",
       "      <th>Education level</th>\n",
       "      <th>Number of use Internet and Internet-related services</th>\n",
       "      <th>Internet/ Digital devices skills level</th>\n",
       "      <th>Digital devices type</th>\n",
       "      <th>Type of connectivity</th>\n",
       "      <th>Purpose of using internet</th>\n",
       "      <th>Operating system of desktop/laptop</th>\n",
       "      <th>Operating system of smartphone/tablet</th>\n",
       "      <th>Common security tools</th>\n",
       "      <th>...</th>\n",
       "      <th>Administrative regions_Northern Borders</th>\n",
       "      <th>Administrative regions_Qassim</th>\n",
       "      <th>Administrative regions_Riyadh</th>\n",
       "      <th>Administrative regions_Tabuk</th>\n",
       "      <th>Role of the government in combating cybercrimes_Don’t know</th>\n",
       "      <th>Role of the government in combating cybercrimes_Have stricter laws and punishments for cyber crimes</th>\n",
       "      <th>Role of the government in combating cybercrimes_Make people aware of cyber crime</th>\n",
       "      <th>Role of the government in combating cybercrimes_Monitor organisations misusing consumer information</th>\n",
       "      <th>Role of the government in combating cybercrimes_No role</th>\n",
       "      <th>Role of the government in combating cybercrimes_Work towards providing a global cyber security framework</th>\n",
       "    </tr>\n",
       "  </thead>\n",
       "  <tbody>\n",
       "    <tr>\n",
       "      <td>0</td>\n",
       "      <td>0</td>\n",
       "      <td>3</td>\n",
       "      <td>2</td>\n",
       "      <td>1</td>\n",
       "      <td>Desktop, Laptop, Smartphone</td>\n",
       "      <td>Mobile/cellular phone network (e.g. 3G/4G)</td>\n",
       "      <td>Education, Social networks, Online services, C...</td>\n",
       "      <td>Windows 10</td>\n",
       "      <td>IOS</td>\n",
       "      <td>Anti-virus</td>\n",
       "      <td>...</td>\n",
       "      <td>0</td>\n",
       "      <td>0</td>\n",
       "      <td>0</td>\n",
       "      <td>0</td>\n",
       "      <td>0</td>\n",
       "      <td>0</td>\n",
       "      <td>0</td>\n",
       "      <td>0</td>\n",
       "      <td>1</td>\n",
       "      <td>0</td>\n",
       "    </tr>\n",
       "    <tr>\n",
       "      <td>1</td>\n",
       "      <td>0</td>\n",
       "      <td>2</td>\n",
       "      <td>2</td>\n",
       "      <td>1</td>\n",
       "      <td>Smartphone</td>\n",
       "      <td>Private Wi-Fi (e.g. in your home), Mobile/cell...</td>\n",
       "      <td>Social networks, Communication</td>\n",
       "      <td>Windows 10</td>\n",
       "      <td>IOS, Android</td>\n",
       "      <td>Anti-virus, Authentication (e.g. password, PIN)</td>\n",
       "      <td>...</td>\n",
       "      <td>0</td>\n",
       "      <td>0</td>\n",
       "      <td>0</td>\n",
       "      <td>0</td>\n",
       "      <td>0</td>\n",
       "      <td>0</td>\n",
       "      <td>0</td>\n",
       "      <td>1</td>\n",
       "      <td>0</td>\n",
       "      <td>0</td>\n",
       "    </tr>\n",
       "    <tr>\n",
       "      <td>2</td>\n",
       "      <td>0</td>\n",
       "      <td>2</td>\n",
       "      <td>2</td>\n",
       "      <td>1</td>\n",
       "      <td>Tablet</td>\n",
       "      <td>Mobile/cellular phone network (e.g. 3G/4G)</td>\n",
       "      <td>Education, Social networks, Online services, C...</td>\n",
       "      <td>Windows 10</td>\n",
       "      <td>Android</td>\n",
       "      <td>Anti-virus, Authentication (e.g. password, PIN)</td>\n",
       "      <td>...</td>\n",
       "      <td>0</td>\n",
       "      <td>0</td>\n",
       "      <td>0</td>\n",
       "      <td>0</td>\n",
       "      <td>0</td>\n",
       "      <td>1</td>\n",
       "      <td>0</td>\n",
       "      <td>0</td>\n",
       "      <td>0</td>\n",
       "      <td>0</td>\n",
       "    </tr>\n",
       "    <tr>\n",
       "      <td>3</td>\n",
       "      <td>0</td>\n",
       "      <td>2</td>\n",
       "      <td>2</td>\n",
       "      <td>1</td>\n",
       "      <td>Laptop, Smartphone</td>\n",
       "      <td>Public Wi-Fi (e.g. in coffee shop), Private Wi...</td>\n",
       "      <td>Professional reasons, Education, Social networ...</td>\n",
       "      <td>mac OS</td>\n",
       "      <td>IOS</td>\n",
       "      <td>Anti-virus, Authentication (e.g. password, PIN)</td>\n",
       "      <td>...</td>\n",
       "      <td>0</td>\n",
       "      <td>0</td>\n",
       "      <td>0</td>\n",
       "      <td>0</td>\n",
       "      <td>1</td>\n",
       "      <td>0</td>\n",
       "      <td>0</td>\n",
       "      <td>0</td>\n",
       "      <td>0</td>\n",
       "      <td>0</td>\n",
       "    </tr>\n",
       "    <tr>\n",
       "      <td>4</td>\n",
       "      <td>0</td>\n",
       "      <td>2</td>\n",
       "      <td>2</td>\n",
       "      <td>1</td>\n",
       "      <td>Desktop, Laptop, Smartphone</td>\n",
       "      <td>Private Wi-Fi (e.g. in your home), Mobile/cell...</td>\n",
       "      <td>Education, Social networks, Online services, E...</td>\n",
       "      <td>mac OS</td>\n",
       "      <td>IOS</td>\n",
       "      <td>Anti-virus</td>\n",
       "      <td>...</td>\n",
       "      <td>0</td>\n",
       "      <td>0</td>\n",
       "      <td>0</td>\n",
       "      <td>0</td>\n",
       "      <td>0</td>\n",
       "      <td>0</td>\n",
       "      <td>0</td>\n",
       "      <td>0</td>\n",
       "      <td>1</td>\n",
       "      <td>0</td>\n",
       "    </tr>\n",
       "    <tr>\n",
       "      <td>...</td>\n",
       "      <td>...</td>\n",
       "      <td>...</td>\n",
       "      <td>...</td>\n",
       "      <td>...</td>\n",
       "      <td>...</td>\n",
       "      <td>...</td>\n",
       "      <td>...</td>\n",
       "      <td>...</td>\n",
       "      <td>...</td>\n",
       "      <td>...</td>\n",
       "      <td>...</td>\n",
       "      <td>...</td>\n",
       "      <td>...</td>\n",
       "      <td>...</td>\n",
       "      <td>...</td>\n",
       "      <td>...</td>\n",
       "      <td>...</td>\n",
       "      <td>...</td>\n",
       "      <td>...</td>\n",
       "      <td>...</td>\n",
       "      <td>...</td>\n",
       "    </tr>\n",
       "    <tr>\n",
       "      <td>1208</td>\n",
       "      <td>0</td>\n",
       "      <td>2</td>\n",
       "      <td>2</td>\n",
       "      <td>1</td>\n",
       "      <td>Laptop, Smartphone, Tablet</td>\n",
       "      <td>Private Wi-Fi (e.g. in your home), Mobile/cell...</td>\n",
       "      <td>Professional reasons, Education, Social networ...</td>\n",
       "      <td>Windows 10</td>\n",
       "      <td>IOS</td>\n",
       "      <td>Anti-virus, Firewall</td>\n",
       "      <td>...</td>\n",
       "      <td>0</td>\n",
       "      <td>0</td>\n",
       "      <td>0</td>\n",
       "      <td>0</td>\n",
       "      <td>0</td>\n",
       "      <td>1</td>\n",
       "      <td>0</td>\n",
       "      <td>0</td>\n",
       "      <td>0</td>\n",
       "      <td>0</td>\n",
       "    </tr>\n",
       "    <tr>\n",
       "      <td>1209</td>\n",
       "      <td>0</td>\n",
       "      <td>2</td>\n",
       "      <td>2</td>\n",
       "      <td>0</td>\n",
       "      <td>Smartphone</td>\n",
       "      <td>Mobile/cellular phone network (e.g. 3G/4G)</td>\n",
       "      <td>Education, Social networks, Online services,  ...</td>\n",
       "      <td>Windows 7</td>\n",
       "      <td>Android</td>\n",
       "      <td>Firewall, Authentication (e.g. password, PIN),...</td>\n",
       "      <td>...</td>\n",
       "      <td>0</td>\n",
       "      <td>0</td>\n",
       "      <td>0</td>\n",
       "      <td>0</td>\n",
       "      <td>0</td>\n",
       "      <td>0</td>\n",
       "      <td>0</td>\n",
       "      <td>0</td>\n",
       "      <td>0</td>\n",
       "      <td>1</td>\n",
       "    </tr>\n",
       "    <tr>\n",
       "      <td>1210</td>\n",
       "      <td>0</td>\n",
       "      <td>2</td>\n",
       "      <td>2</td>\n",
       "      <td>1</td>\n",
       "      <td>Laptop, Smartphone</td>\n",
       "      <td>Mobile/cellular phone network (e.g. 3G/4G)</td>\n",
       "      <td>Professional reasons  ,  Education,  Social ne...</td>\n",
       "      <td>Windows 10, Windows 7</td>\n",
       "      <td>IOS</td>\n",
       "      <td>Anti-virus , Backup,  Authentication (e.g. pas...</td>\n",
       "      <td>...</td>\n",
       "      <td>0</td>\n",
       "      <td>0</td>\n",
       "      <td>0</td>\n",
       "      <td>0</td>\n",
       "      <td>0</td>\n",
       "      <td>1</td>\n",
       "      <td>0</td>\n",
       "      <td>0</td>\n",
       "      <td>0</td>\n",
       "      <td>0</td>\n",
       "    </tr>\n",
       "    <tr>\n",
       "      <td>1211</td>\n",
       "      <td>0</td>\n",
       "      <td>2</td>\n",
       "      <td>2</td>\n",
       "      <td>1</td>\n",
       "      <td>Smartphone</td>\n",
       "      <td>Mobile/cellular phone network (e.g. 3G/4G)</td>\n",
       "      <td>Social networks , Online services , Entertainment</td>\n",
       "      <td>Windows 10</td>\n",
       "      <td>IOS</td>\n",
       "      <td>Anti-virus , Authentication (e.g. password, PI...</td>\n",
       "      <td>...</td>\n",
       "      <td>0</td>\n",
       "      <td>0</td>\n",
       "      <td>0</td>\n",
       "      <td>0</td>\n",
       "      <td>0</td>\n",
       "      <td>1</td>\n",
       "      <td>0</td>\n",
       "      <td>0</td>\n",
       "      <td>0</td>\n",
       "      <td>0</td>\n",
       "    </tr>\n",
       "    <tr>\n",
       "      <td>1212</td>\n",
       "      <td>0</td>\n",
       "      <td>2</td>\n",
       "      <td>2</td>\n",
       "      <td>1</td>\n",
       "      <td>Smartphone</td>\n",
       "      <td>Mobile/cellular phone network (e.g. 3G/4G), Pr...</td>\n",
       "      <td>Social networks , Online services, Entertainme...</td>\n",
       "      <td>Windows 10, I don't know</td>\n",
       "      <td>Android</td>\n",
       "      <td>Firewall, Authentication (e.g. password, PIN),...</td>\n",
       "      <td>...</td>\n",
       "      <td>0</td>\n",
       "      <td>0</td>\n",
       "      <td>0</td>\n",
       "      <td>0</td>\n",
       "      <td>0</td>\n",
       "      <td>1</td>\n",
       "      <td>0</td>\n",
       "      <td>0</td>\n",
       "      <td>0</td>\n",
       "      <td>0</td>\n",
       "    </tr>\n",
       "  </tbody>\n",
       "</table>\n",
       "<p>1213 rows × 130 columns</p>\n",
       "</div>"
      ],
      "text/plain": [
       "      Age  Education level  \\\n",
       "0       0                3   \n",
       "1       0                2   \n",
       "2       0                2   \n",
       "3       0                2   \n",
       "4       0                2   \n",
       "...   ...              ...   \n",
       "1208    0                2   \n",
       "1209    0                2   \n",
       "1210    0                2   \n",
       "1211    0                2   \n",
       "1212    0                2   \n",
       "\n",
       "      Number of use Internet and Internet-related services  \\\n",
       "0                                                     2      \n",
       "1                                                     2      \n",
       "2                                                     2      \n",
       "3                                                     2      \n",
       "4                                                     2      \n",
       "...                                                 ...      \n",
       "1208                                                  2      \n",
       "1209                                                  2      \n",
       "1210                                                  2      \n",
       "1211                                                  2      \n",
       "1212                                                  2      \n",
       "\n",
       "      Internet/ Digital devices skills level         Digital devices type  \\\n",
       "0                                          1  Desktop, Laptop, Smartphone   \n",
       "1                                          1                   Smartphone   \n",
       "2                                          1                       Tablet   \n",
       "3                                          1           Laptop, Smartphone   \n",
       "4                                          1  Desktop, Laptop, Smartphone   \n",
       "...                                      ...                          ...   \n",
       "1208                                       1   Laptop, Smartphone, Tablet   \n",
       "1209                                       0                   Smartphone   \n",
       "1210                                       1           Laptop, Smartphone   \n",
       "1211                                       1                   Smartphone   \n",
       "1212                                       1                   Smartphone   \n",
       "\n",
       "                                   Type of connectivity  \\\n",
       "0            Mobile/cellular phone network (e.g. 3G/4G)   \n",
       "1     Private Wi-Fi (e.g. in your home), Mobile/cell...   \n",
       "2            Mobile/cellular phone network (e.g. 3G/4G)   \n",
       "3     Public Wi-Fi (e.g. in coffee shop), Private Wi...   \n",
       "4     Private Wi-Fi (e.g. in your home), Mobile/cell...   \n",
       "...                                                 ...   \n",
       "1208  Private Wi-Fi (e.g. in your home), Mobile/cell...   \n",
       "1209         Mobile/cellular phone network (e.g. 3G/4G)   \n",
       "1210         Mobile/cellular phone network (e.g. 3G/4G)   \n",
       "1211         Mobile/cellular phone network (e.g. 3G/4G)   \n",
       "1212  Mobile/cellular phone network (e.g. 3G/4G), Pr...   \n",
       "\n",
       "                              Purpose of using internet  \\\n",
       "0     Education, Social networks, Online services, C...   \n",
       "1                        Social networks, Communication   \n",
       "2     Education, Social networks, Online services, C...   \n",
       "3     Professional reasons, Education, Social networ...   \n",
       "4     Education, Social networks, Online services, E...   \n",
       "...                                                 ...   \n",
       "1208  Professional reasons, Education, Social networ...   \n",
       "1209  Education, Social networks, Online services,  ...   \n",
       "1210  Professional reasons  ,  Education,  Social ne...   \n",
       "1211  Social networks , Online services , Entertainment   \n",
       "1212  Social networks , Online services, Entertainme...   \n",
       "\n",
       "     Operating system of desktop/laptop Operating system of smartphone/tablet  \\\n",
       "0                            Windows 10                                   IOS   \n",
       "1                            Windows 10                          IOS, Android   \n",
       "2                            Windows 10                               Android   \n",
       "3                                mac OS                                   IOS   \n",
       "4                                mac OS                                   IOS   \n",
       "...                                 ...                                   ...   \n",
       "1208                         Windows 10                                   IOS   \n",
       "1209                          Windows 7                               Android   \n",
       "1210              Windows 10, Windows 7                                   IOS   \n",
       "1211                         Windows 10                                   IOS   \n",
       "1212           Windows 10, I don't know                               Android   \n",
       "\n",
       "                                  Common security tools  ...  \\\n",
       "0                                            Anti-virus  ...   \n",
       "1       Anti-virus, Authentication (e.g. password, PIN)  ...   \n",
       "2       Anti-virus, Authentication (e.g. password, PIN)  ...   \n",
       "3       Anti-virus, Authentication (e.g. password, PIN)  ...   \n",
       "4                                            Anti-virus  ...   \n",
       "...                                                 ...  ...   \n",
       "1208                               Anti-virus, Firewall  ...   \n",
       "1209  Firewall, Authentication (e.g. password, PIN),...  ...   \n",
       "1210  Anti-virus , Backup,  Authentication (e.g. pas...  ...   \n",
       "1211  Anti-virus , Authentication (e.g. password, PI...  ...   \n",
       "1212  Firewall, Authentication (e.g. password, PIN),...  ...   \n",
       "\n",
       "      Administrative regions_Northern Borders  Administrative regions_Qassim  \\\n",
       "0                                           0                              0   \n",
       "1                                           0                              0   \n",
       "2                                           0                              0   \n",
       "3                                           0                              0   \n",
       "4                                           0                              0   \n",
       "...                                       ...                            ...   \n",
       "1208                                        0                              0   \n",
       "1209                                        0                              0   \n",
       "1210                                        0                              0   \n",
       "1211                                        0                              0   \n",
       "1212                                        0                              0   \n",
       "\n",
       "      Administrative regions_Riyadh  Administrative regions_Tabuk  \\\n",
       "0                                 0                             0   \n",
       "1                                 0                             0   \n",
       "2                                 0                             0   \n",
       "3                                 0                             0   \n",
       "4                                 0                             0   \n",
       "...                             ...                           ...   \n",
       "1208                              0                             0   \n",
       "1209                              0                             0   \n",
       "1210                              0                             0   \n",
       "1211                              0                             0   \n",
       "1212                              0                             0   \n",
       "\n",
       "      Role of the government in combating cybercrimes_Don’t know  \\\n",
       "0                                                     0            \n",
       "1                                                     0            \n",
       "2                                                     0            \n",
       "3                                                     1            \n",
       "4                                                     0            \n",
       "...                                                 ...            \n",
       "1208                                                  0            \n",
       "1209                                                  0            \n",
       "1210                                                  0            \n",
       "1211                                                  0            \n",
       "1212                                                  0            \n",
       "\n",
       "      Role of the government in combating cybercrimes_Have stricter laws and punishments for cyber crimes  \\\n",
       "0                                                     0                                                     \n",
       "1                                                     0                                                     \n",
       "2                                                     1                                                     \n",
       "3                                                     0                                                     \n",
       "4                                                     0                                                     \n",
       "...                                                 ...                                                     \n",
       "1208                                                  1                                                     \n",
       "1209                                                  0                                                     \n",
       "1210                                                  1                                                     \n",
       "1211                                                  1                                                     \n",
       "1212                                                  1                                                     \n",
       "\n",
       "      Role of the government in combating cybercrimes_Make people aware of cyber crime  \\\n",
       "0                                                     0                                  \n",
       "1                                                     0                                  \n",
       "2                                                     0                                  \n",
       "3                                                     0                                  \n",
       "4                                                     0                                  \n",
       "...                                                 ...                                  \n",
       "1208                                                  0                                  \n",
       "1209                                                  0                                  \n",
       "1210                                                  0                                  \n",
       "1211                                                  0                                  \n",
       "1212                                                  0                                  \n",
       "\n",
       "      Role of the government in combating cybercrimes_Monitor organisations misusing consumer information  \\\n",
       "0                                                     0                                                     \n",
       "1                                                     1                                                     \n",
       "2                                                     0                                                     \n",
       "3                                                     0                                                     \n",
       "4                                                     0                                                     \n",
       "...                                                 ...                                                     \n",
       "1208                                                  0                                                     \n",
       "1209                                                  0                                                     \n",
       "1210                                                  0                                                     \n",
       "1211                                                  0                                                     \n",
       "1212                                                  0                                                     \n",
       "\n",
       "      Role of the government in combating cybercrimes_No role  \\\n",
       "0                                                     1         \n",
       "1                                                     0         \n",
       "2                                                     0         \n",
       "3                                                     0         \n",
       "4                                                     1         \n",
       "...                                                 ...         \n",
       "1208                                                  0         \n",
       "1209                                                  0         \n",
       "1210                                                  0         \n",
       "1211                                                  0         \n",
       "1212                                                  0         \n",
       "\n",
       "      Role of the government in combating cybercrimes_Work towards providing a global cyber security framework  \n",
       "0                                                     0                                                         \n",
       "1                                                     0                                                         \n",
       "2                                                     0                                                         \n",
       "3                                                     0                                                         \n",
       "4                                                     0                                                         \n",
       "...                                                 ...                                                         \n",
       "1208                                                  0                                                         \n",
       "1209                                                  1                                                         \n",
       "1210                                                  0                                                         \n",
       "1211                                                  0                                                         \n",
       "1212                                                  0                                                         \n",
       "\n",
       "[1213 rows x 130 columns]"
      ]
     },
     "execution_count": 32,
     "metadata": {},
     "output_type": "execute_result"
    }
   ],
   "source": [
    "df = pd.get_dummies(df, columns=['Gender', 'Major', 'Administrative regions', 'Role of the government in combating cybercrimes'])\n",
    "df"
   ]
  },
  {
   "cell_type": "code",
   "execution_count": 33,
   "metadata": {},
   "outputs": [],
   "source": [
    "df.to_csv('enumerated dataset.csv', index=False)"
   ]
  },
  {
   "cell_type": "code",
   "execution_count": 34,
   "metadata": {},
   "outputs": [
    {
     "data": {
      "text/plain": [
       "0"
      ]
     },
     "execution_count": 34,
     "metadata": {},
     "output_type": "execute_result"
    }
   ],
   "source": [
    "df.isnull().sum().sum()"
   ]
  }
 ],
 "metadata": {
  "interpreter": {
   "hash": "95d73d6fd1cff5fb2f41ff3c75621fd967f90acca1c16714a7d5860f4cfbfbc9"
  },
  "kernelspec": {
   "display_name": "Python 3.7.1 64-bit ('base': conda)",
   "language": "python",
   "name": "python3"
  },
  "language_info": {
   "codemirror_mode": {
    "name": "ipython",
    "version": 3
   },
   "file_extension": ".py",
   "mimetype": "text/x-python",
   "name": "python",
   "nbconvert_exporter": "python",
   "pygments_lexer": "ipython3",
   "version": "3.7.1"
  },
  "orig_nbformat": 4
 },
 "nbformat": 4,
 "nbformat_minor": 2
}
