{
 "cells": [
  {
   "cell_type": "code",
   "execution_count": 15,
   "metadata": {},
   "outputs": [],
   "source": [
    "import matplotlib.pyplot as plt\n",
    "import pandas as pd\n",
    "import seaborn as sns\n",
    "import scipy.cluster.hierarchy as sch\n",
    "import seaborn as sns\n",
    "\n",
    "from sklearn.model_selection import train_test_split\n",
    "from sklearn.linear_model import LogisticRegression\n",
    "from sklearn.preprocessing import LabelEncoder, StandardScaler\n",
    "from sklearn.decomposition import PCA\n",
    "from sklearn.metrics import accuracy_score, roc_auc_score\n",
    "from sklearn.cluster import KMeans\n",
    "from sklearn.manifold import MDS"
   ]
  },
  {
   "cell_type": "code",
   "execution_count": 2,
   "metadata": {},
   "outputs": [
    {
     "data": {
      "text/html": [
       "<div>\n",
       "<style scoped>\n",
       "    .dataframe tbody tr th:only-of-type {\n",
       "        vertical-align: middle;\n",
       "    }\n",
       "\n",
       "    .dataframe tbody tr th {\n",
       "        vertical-align: top;\n",
       "    }\n",
       "\n",
       "    .dataframe thead th {\n",
       "        text-align: right;\n",
       "    }\n",
       "</style>\n",
       "<table border=\"1\" class=\"dataframe\">\n",
       "  <thead>\n",
       "    <tr style=\"text-align: right;\">\n",
       "      <th></th>\n",
       "      <th>Age</th>\n",
       "      <th>Education level</th>\n",
       "      <th>Number of use Internet and Internet-related services</th>\n",
       "      <th>Internet/ Digital devices skills level</th>\n",
       "      <th>Secure of person's digital devices</th>\n",
       "      <th>Legitimacy of a website</th>\n",
       "      <th>Password with personal information</th>\n",
       "      <th>Aware of the danger of clicking pop-up screens</th>\n",
       "      <th>Attention to person's account privacy</th>\n",
       "      <th>Protection of social media services for personal info</th>\n",
       "      <th>...</th>\n",
       "      <th>blogs1</th>\n",
       "      <th>etc.1</th>\n",
       "      <th>Government websites (e.g. CERT)1</th>\n",
       "      <th>I do not feel that I keep myself updated1</th>\n",
       "      <th>Rely on automatic updates1</th>\n",
       "      <th>Internet service provider ISPs1</th>\n",
       "      <th>Other- Messages from Communication Company1</th>\n",
       "      <th>Others: Twitter1</th>\n",
       "      <th>Other- Twitter1</th>\n",
       "      <th>etc..1</th>\n",
       "    </tr>\n",
       "  </thead>\n",
       "  <tbody>\n",
       "    <tr>\n",
       "      <th>0</th>\n",
       "      <td>0</td>\n",
       "      <td>3</td>\n",
       "      <td>2</td>\n",
       "      <td>1</td>\n",
       "      <td>3</td>\n",
       "      <td>4</td>\n",
       "      <td>0</td>\n",
       "      <td>4</td>\n",
       "      <td>4</td>\n",
       "      <td>2</td>\n",
       "      <td>...</td>\n",
       "      <td>1</td>\n",
       "      <td>1</td>\n",
       "      <td>0</td>\n",
       "      <td>0</td>\n",
       "      <td>0</td>\n",
       "      <td>0</td>\n",
       "      <td>0</td>\n",
       "      <td>0</td>\n",
       "      <td>0</td>\n",
       "      <td>0</td>\n",
       "    </tr>\n",
       "    <tr>\n",
       "      <th>1</th>\n",
       "      <td>0</td>\n",
       "      <td>2</td>\n",
       "      <td>2</td>\n",
       "      <td>1</td>\n",
       "      <td>4</td>\n",
       "      <td>0</td>\n",
       "      <td>4</td>\n",
       "      <td>4</td>\n",
       "      <td>4</td>\n",
       "      <td>3</td>\n",
       "      <td>...</td>\n",
       "      <td>1</td>\n",
       "      <td>1</td>\n",
       "      <td>0</td>\n",
       "      <td>0</td>\n",
       "      <td>0</td>\n",
       "      <td>0</td>\n",
       "      <td>0</td>\n",
       "      <td>0</td>\n",
       "      <td>0</td>\n",
       "      <td>0</td>\n",
       "    </tr>\n",
       "    <tr>\n",
       "      <th>2</th>\n",
       "      <td>0</td>\n",
       "      <td>2</td>\n",
       "      <td>2</td>\n",
       "      <td>1</td>\n",
       "      <td>4</td>\n",
       "      <td>3</td>\n",
       "      <td>3</td>\n",
       "      <td>4</td>\n",
       "      <td>4</td>\n",
       "      <td>3</td>\n",
       "      <td>...</td>\n",
       "      <td>1</td>\n",
       "      <td>1</td>\n",
       "      <td>0</td>\n",
       "      <td>0</td>\n",
       "      <td>0</td>\n",
       "      <td>0</td>\n",
       "      <td>0</td>\n",
       "      <td>0</td>\n",
       "      <td>0</td>\n",
       "      <td>0</td>\n",
       "    </tr>\n",
       "    <tr>\n",
       "      <th>3</th>\n",
       "      <td>0</td>\n",
       "      <td>2</td>\n",
       "      <td>2</td>\n",
       "      <td>1</td>\n",
       "      <td>4</td>\n",
       "      <td>2</td>\n",
       "      <td>0</td>\n",
       "      <td>3</td>\n",
       "      <td>1</td>\n",
       "      <td>3</td>\n",
       "      <td>...</td>\n",
       "      <td>1</td>\n",
       "      <td>1</td>\n",
       "      <td>0</td>\n",
       "      <td>0</td>\n",
       "      <td>0</td>\n",
       "      <td>0</td>\n",
       "      <td>0</td>\n",
       "      <td>0</td>\n",
       "      <td>0</td>\n",
       "      <td>0</td>\n",
       "    </tr>\n",
       "    <tr>\n",
       "      <th>4</th>\n",
       "      <td>0</td>\n",
       "      <td>2</td>\n",
       "      <td>2</td>\n",
       "      <td>1</td>\n",
       "      <td>4</td>\n",
       "      <td>3</td>\n",
       "      <td>1</td>\n",
       "      <td>4</td>\n",
       "      <td>3</td>\n",
       "      <td>2</td>\n",
       "      <td>...</td>\n",
       "      <td>1</td>\n",
       "      <td>1</td>\n",
       "      <td>0</td>\n",
       "      <td>0</td>\n",
       "      <td>0</td>\n",
       "      <td>0</td>\n",
       "      <td>0</td>\n",
       "      <td>0</td>\n",
       "      <td>0</td>\n",
       "      <td>0</td>\n",
       "    </tr>\n",
       "  </tbody>\n",
       "</table>\n",
       "<p>5 rows × 224 columns</p>\n",
       "</div>"
      ],
      "text/plain": [
       "   Age  Education level  Number of use Internet and Internet-related services  \\\n",
       "0    0                3                                                  2      \n",
       "1    0                2                                                  2      \n",
       "2    0                2                                                  2      \n",
       "3    0                2                                                  2      \n",
       "4    0                2                                                  2      \n",
       "\n",
       "   Internet/ Digital devices skills level  Secure of person's digital devices  \\\n",
       "0                                       1                                   3   \n",
       "1                                       1                                   4   \n",
       "2                                       1                                   4   \n",
       "3                                       1                                   4   \n",
       "4                                       1                                   4   \n",
       "\n",
       "   Legitimacy of a website  Password with personal information  \\\n",
       "0                        4                                   0   \n",
       "1                        0                                   4   \n",
       "2                        3                                   3   \n",
       "3                        2                                   0   \n",
       "4                        3                                   1   \n",
       "\n",
       "   Aware of the danger of clicking pop-up screens  \\\n",
       "0                                               4   \n",
       "1                                               4   \n",
       "2                                               4   \n",
       "3                                               3   \n",
       "4                                               4   \n",
       "\n",
       "   Attention to person's account privacy  \\\n",
       "0                                      4   \n",
       "1                                      4   \n",
       "2                                      4   \n",
       "3                                      1   \n",
       "4                                      3   \n",
       "\n",
       "   Protection of social media services for personal info  ...  blogs1  etc.1  \\\n",
       "0                                                  2      ...       1      1   \n",
       "1                                                  3      ...       1      1   \n",
       "2                                                  3      ...       1      1   \n",
       "3                                                  3      ...       1      1   \n",
       "4                                                  2      ...       1      1   \n",
       "\n",
       "   Government websites (e.g. CERT)1  \\\n",
       "0                                 0   \n",
       "1                                 0   \n",
       "2                                 0   \n",
       "3                                 0   \n",
       "4                                 0   \n",
       "\n",
       "   I do not feel that I keep myself updated1  Rely on automatic updates1  \\\n",
       "0                                          0                           0   \n",
       "1                                          0                           0   \n",
       "2                                          0                           0   \n",
       "3                                          0                           0   \n",
       "4                                          0                           0   \n",
       "\n",
       "   Internet service provider ISPs1  \\\n",
       "0                                0   \n",
       "1                                0   \n",
       "2                                0   \n",
       "3                                0   \n",
       "4                                0   \n",
       "\n",
       "   Other- Messages from Communication Company1  Others: Twitter1  \\\n",
       "0                                            0                 0   \n",
       "1                                            0                 0   \n",
       "2                                            0                 0   \n",
       "3                                            0                 0   \n",
       "4                                            0                 0   \n",
       "\n",
       "   Other- Twitter1  etc..1  \n",
       "0                0       0  \n",
       "1                0       0  \n",
       "2                0       0  \n",
       "3                0       0  \n",
       "4                0       0  \n",
       "\n",
       "[5 rows x 224 columns]"
      ]
     },
     "execution_count": 2,
     "metadata": {},
     "output_type": "execute_result"
    }
   ],
   "source": [
    "df = pd.read_csv('Enumerated dataset.csv')\n",
    "df.head()"
   ]
  },
  {
   "cell_type": "code",
   "execution_count": 3,
   "metadata": {},
   "outputs": [
    {
     "data": {
      "text/plain": [
       "(1213, 224)"
      ]
     },
     "execution_count": 3,
     "metadata": {},
     "output_type": "execute_result"
    }
   ],
   "source": [
    "df.shape"
   ]
  },
  {
   "cell_type": "code",
   "execution_count": 4,
   "metadata": {},
   "outputs": [
    {
     "data": {
      "text/plain": [
       "Victim of cybercrime                                                                                 1.000000\n",
       "Bank                                                                                                 0.145149\n",
       "Online personal information is not secure enough                                                     0.135610\n",
       "No one                                                                                               0.109586\n",
       "Responsibility of those offering online/Internet-based servicesin raising awareness of cybercrime    0.105763\n",
       "                                                                                                       ...   \n",
       "I don't know.1                                                                                      -0.086462\n",
       "Don’t know but will ask my friends for advice                                                       -0.106505\n",
       "Well protected against cybercrime                                                                   -0.106858\n",
       "Laws are effective in managing the cybercrime problem                                               -0.121328\n",
       "Report cybercrime                                                                                   -0.897771\n",
       "Length: 224, dtype: float64"
      ]
     },
     "execution_count": 4,
     "metadata": {},
     "output_type": "execute_result"
    }
   ],
   "source": [
    "# Checking the correlation for the data of our target ( Victim of cybercrime )\n",
    "#The dataset contain too many columns, correlation map will not be useful\n",
    "\n",
    "df.corrwith(df[\"Victim of cybercrime\"]).sort_values( ascending=False)"
   ]
  },
  {
   "cell_type": "code",
   "execution_count": 5,
   "metadata": {},
   "outputs": [
    {
     "data": {
      "text/plain": [
       "['Bank',\n",
       " 'Online personal information is not secure enough',\n",
       " 'No one',\n",
       " 'Responsibility of those offering online/Internet-based servicesin raising awareness of cybercrime',\n",
       " 'Education level',\n",
       " 'Role of the government in combating cybercrimes_No role',\n",
       " 'Apple store',\n",
       " 'Education',\n",
       " 'Government or professional reports',\n",
       " 'PIN)']"
      ]
     },
     "execution_count": 5,
     "metadata": {},
     "output_type": "execute_result"
    }
   ],
   "source": [
    "# Finding the best features to use for the traning and store it\n",
    "\n",
    "corrArray=df.corrwith(df['Victim of cybercrime']).sort_values( ascending=False)\n",
    "\n",
    "# pick the best 20 columns. 10 from the top and 10 from the last\n",
    "first10=corrArray[1:11]\n",
    "first10= list(first10.index)\n",
    "first10"
   ]
  },
  {
   "cell_type": "code",
   "execution_count": 6,
   "metadata": {},
   "outputs": [
    {
     "data": {
      "text/plain": [
       "['Legitimacy of a website',\n",
       " 'Role of the government in combating cybercrimes_Have stricter laws and punishments for cyber crimes',\n",
       " 'Concerned about encountering material promotes hatred or religious extremism',\n",
       " 'Concerned about receiving phishing emails',\n",
       " 'I do not feel that I keep myself updated',\n",
       " \"I don't know.1\",\n",
       " 'Don’t know but will ask my friends for advice',\n",
       " 'Well protected against cybercrime',\n",
       " 'Laws are effective in managing the cybercrime problem',\n",
       " 'Report cybercrime']"
      ]
     },
     "execution_count": 6,
     "metadata": {},
     "output_type": "execute_result"
    }
   ],
   "source": [
    "# Finding the best features to use for the traning and store it\n",
    "\n",
    "corrArray=df.corrwith(df['Victim of cybercrime']).sort_values( ascending=False)\n",
    "\n",
    "# pick the best 20 columns. 10 from the top and 10 from the last\n",
    "last10=corrArray[-10:]\n",
    "last10= list(last10.index)\n",
    "last10"
   ]
  },
  {
   "cell_type": "markdown",
   "metadata": {},
   "source": [
    "## PCA"
   ]
  },
  {
   "cell_type": "code",
   "execution_count": 7,
   "metadata": {},
   "outputs": [],
   "source": [
    "# Selecting features\n",
    "# Save X data\n",
    "X = df[first10 + last10]\n",
    "\n",
    "# Encode our target\n",
    "le = LabelEncoder()\n",
    "y = le.fit_transform(df['Victim of cybercrime'])"
   ]
  },
  {
   "cell_type": "code",
   "execution_count": 8,
   "metadata": {},
   "outputs": [],
   "source": [
    "# Train test split\n",
    "X_train, X_test, y_train, y_test = train_test_split(X, y, test_size= 0.20)"
   ]
  },
  {
   "cell_type": "code",
   "execution_count": 9,
   "metadata": {},
   "outputs": [
    {
     "data": {
      "text/plain": [
       "PCA()"
      ]
     },
     "execution_count": 9,
     "metadata": {},
     "output_type": "execute_result"
    }
   ],
   "source": [
    "# Instantiate & fit data using PCA\n",
    "pca = PCA()\n",
    "pca.fit(X_train)"
   ]
  },
  {
   "cell_type": "code",
   "execution_count": 10,
   "metadata": {},
   "outputs": [
    {
     "data": {
      "text/plain": [
       "array([[ 1.49113008e-03,  1.66236843e-02, -6.54206322e-04,\n",
       "        -6.70483387e-02,  7.65163109e-02,  1.49220217e-03,\n",
       "         3.70410746e-03,  5.83016286e-02,  1.94182279e-02,\n",
       "         4.46505849e-02, -3.21708697e-01, -6.70398906e-02,\n",
       "         8.11566422e-02,  9.74230847e-02,  5.07565168e-02,\n",
       "        -5.48427035e-03,  4.47694242e-02, -6.94007529e-01,\n",
       "        -6.07927376e-01, -6.06940637e-02],\n",
       "       [ 1.42541741e-03, -7.33989225e-01, -1.08632001e-03,\n",
       "        -3.56877681e-01, -5.03301488e-02, -2.10362311e-03,\n",
       "        -3.87058318e-03, -7.84080625e-02, -7.19639070e-02,\n",
       "        -2.36713687e-02, -2.23523496e-01, -2.14844184e-02,\n",
       "         2.96054897e-01,  2.83089907e-01,  7.58442277e-02,\n",
       "         3.89506711e-02,  2.49436137e-02,  2.80505957e-01,\n",
       "        -1.10448917e-01,  4.96836187e-02],\n",
       "       [-2.28859737e-03, -3.98181918e-01,  2.79739477e-03,\n",
       "         2.89745455e-01,  1.22194305e-01,  1.74608324e-02,\n",
       "         4.50153183e-03,  7.62692297e-02,  1.68028739e-01,\n",
       "         1.09974036e-01,  5.42604817e-01, -4.92628527e-02,\n",
       "        -2.40215668e-01, -1.88750109e-01, -1.04261233e-01,\n",
       "        -5.67091749e-02, -6.13187165e-02,  1.37872917e-01,\n",
       "        -5.17908061e-01, -2.86901994e-02],\n",
       "       [-2.72229332e-03,  2.48386515e-01,  1.05447877e-04,\n",
       "        -2.89062249e-01, -9.05971427e-03,  4.32115802e-02,\n",
       "         1.25913418e-03, -2.04587242e-02, -3.92165459e-02,\n",
       "        -4.93542956e-02, -4.23712580e-01, -8.01455604e-02,\n",
       "        -3.57680558e-01, -3.53463988e-01,  2.75955305e-02,\n",
       "         1.94838120e-02,  2.45381872e-02,  4.96045392e-01,\n",
       "        -3.95677920e-01, -7.21342439e-02],\n",
       "       [ 5.65365354e-03, -4.59841166e-01, -3.13775867e-04,\n",
       "         3.84740410e-01, -3.81359902e-02, -3.39805478e-02,\n",
       "         2.40679834e-03,  3.82166887e-02,  7.86396454e-03,\n",
       "         2.62293030e-02, -4.72668459e-01,  5.71340260e-02,\n",
       "        -3.14124409e-01, -4.10895799e-01,  4.72083434e-03,\n",
       "        -1.14382602e-02, -8.54063791e-03, -2.02918055e-01,\n",
       "         3.15644587e-01, -2.10029475e-02],\n",
       "       [-6.80474643e-03, -1.37621366e-01, -3.17866717e-04,\n",
       "        -6.64621565e-01, -1.71862868e-01, -6.57681543e-03,\n",
       "         4.06283246e-03, -1.00186534e-01, -6.46514986e-02,\n",
       "        -2.22224612e-02,  3.41067408e-01,  1.17549270e-01,\n",
       "        -1.92543699e-01, -4.21760690e-01,  2.51357574e-02,\n",
       "         7.51538133e-02, -2.70402197e-02, -3.46341056e-01,\n",
       "         1.36022071e-01,  6.64782503e-02],\n",
       "       [ 1.13301329e-02, -3.14437005e-02, -1.41234233e-04,\n",
       "        -3.17802553e-01,  4.75467408e-01, -3.72932036e-02,\n",
       "         5.83707887e-03,  3.62086701e-01,  2.68639737e-01,\n",
       "         2.83711195e-01, -9.70474569e-02,  5.74089361e-02,\n",
       "        -3.03724312e-01,  2.72585661e-01, -3.28812359e-01,\n",
       "        -1.74307066e-01, -1.48769116e-01, -1.55266579e-02,\n",
       "         1.96139528e-01, -8.95222984e-02],\n",
       "       [ 7.83947983e-03,  4.47690729e-02,  1.00281926e-03,\n",
       "        -3.32361969e-02,  1.82093808e-01,  2.36460009e-02,\n",
       "         2.94456747e-03,  1.86865459e-01,  1.08043339e-01,\n",
       "         2.60754391e-01, -5.19789790e-02,  6.09002636e-02,\n",
       "         6.89323985e-01, -5.44761095e-01, -9.69288257e-02,\n",
       "        -8.54759149e-02, -1.64721318e-01,  7.47719155e-02,\n",
       "         3.50562967e-03, -1.44004563e-01],\n",
       "       [ 4.91465922e-03, -1.30567532e-03,  5.16443603e-03,\n",
       "         3.18047762e-03, -3.38968614e-01,  6.10370551e-02,\n",
       "        -1.58621594e-03, -2.43089130e-01,  3.07420594e-01,\n",
       "        -3.40172402e-01, -8.32030930e-02, -7.49836303e-02,\n",
       "         4.33474468e-02,  5.16120084e-02, -5.30978897e-01,\n",
       "         5.39895102e-03, -5.29766181e-01, -4.07957896e-02,\n",
       "        -3.47239252e-02, -1.71506541e-01],\n",
       "       [-1.00410807e-03,  5.53227374e-02,  4.24712779e-03,\n",
       "         3.07877033e-02, -6.24372826e-01, -3.85971983e-02,\n",
       "         1.88275996e-04,  1.84273888e-01,  2.15419729e-02,\n",
       "         5.79736357e-01, -4.37672121e-02,  3.65687348e-01,\n",
       "        -7.21381972e-02,  1.45109312e-01,  1.14515966e-01,\n",
       "        -6.56673996e-02, -2.05782827e-01,  5.62469317e-02,\n",
       "        -9.43432237e-02,  1.96369773e-02],\n",
       "       [ 3.86061351e-03,  1.49972038e-02, -5.54921068e-03,\n",
       "         6.02575242e-02,  3.15453979e-01, -9.93632476e-02,\n",
       "         1.05785835e-02, -2.02156129e-01, -1.53044208e-01,\n",
       "        -2.41951121e-01, -2.96050559e-02,  8.37150803e-01,\n",
       "        -4.74170366e-03,  2.32611861e-02,  3.26201444e-02,\n",
       "         1.02239133e-03, -2.03033193e-01,  2.91301456e-02,\n",
       "        -1.31194699e-01,  3.40963902e-02],\n",
       "       [-1.39237822e-02,  2.41259086e-02, -2.05901654e-03,\n",
       "        -1.88303469e-03, -1.54874979e-01, -7.99595035e-02,\n",
       "        -5.71711800e-03,  6.32643444e-02,  3.88346187e-01,\n",
       "        -6.32695898e-02, -6.52607748e-02,  2.51927774e-01,\n",
       "         9.19868375e-02, -6.05669462e-02, -4.28894673e-01,\n",
       "         9.64393041e-02,  6.02154705e-01,  2.77142553e-02,\n",
       "        -6.08516494e-02,  4.12088171e-01],\n",
       "       [ 4.29377674e-03,  9.43350757e-03,  6.65394355e-03,\n",
       "         1.03562812e-03,  1.15404508e-01,  4.55301541e-03,\n",
       "         5.22663203e-03, -6.94718377e-01,  2.11096380e-01,\n",
       "         4.33625183e-01, -7.78116788e-03,  3.92925274e-02,\n",
       "        -2.96196299e-02,  3.66316168e-02, -3.13532484e-02,\n",
       "         1.42450323e-01,  2.53417777e-01, -4.45594046e-03,\n",
       "         5.05117503e-02, -4.23514159e-01],\n",
       "       [ 1.56867120e-02, -5.53480930e-02,  3.21387050e-03,\n",
       "        -2.05376241e-02, -1.92666563e-01,  5.05428868e-02,\n",
       "         4.20062555e-03,  3.63004638e-01, -1.25831798e-01,\n",
       "        -2.64300990e-01,  7.98934826e-02,  1.93284166e-01,\n",
       "         5.36281457e-03,  3.90073505e-02, -9.17782472e-02,\n",
       "        -1.82345318e-02,  3.55770853e-01,  8.93317512e-03,\n",
       "         1.45363137e-02, -7.47123093e-01],\n",
       "       [-2.94716791e-03, -4.72365634e-04, -3.16185010e-03,\n",
       "         5.48205842e-02,  7.41837860e-02,  1.67429812e-02,\n",
       "        -3.71053745e-04,  1.46316953e-01, -3.66066975e-01,\n",
       "         1.74609729e-01,  4.19753214e-04, -2.90095062e-02,\n",
       "        -1.11316711e-02,  2.03241646e-02, -3.25119609e-01,\n",
       "         8.28924932e-01, -1.01362014e-01,  2.72404367e-03,\n",
       "        -2.35657215e-02,  1.59631167e-02],\n",
       "       [ 1.18228812e-02,  8.22200754e-03,  2.38775317e-03,\n",
       "        -2.51685794e-02,  3.03756261e-02, -1.62453079e-02,\n",
       "         5.28840527e-03,  1.81365202e-01,  6.42033121e-01,\n",
       "        -1.72795658e-01, -8.34613630e-04,  5.86469141e-02,\n",
       "        -2.63450028e-03,  1.55882771e-02,  5.16157114e-01,\n",
       "         4.79558251e-01, -1.18256711e-01,  2.17805389e-02,\n",
       "         4.15467952e-02, -8.19215891e-02],\n",
       "       [ 1.30031181e-02, -1.57692368e-02, -8.49998758e-03,\n",
       "         1.10997898e-02,  3.34242239e-02,  9.84795329e-01,\n",
       "        -1.16957199e-03,  1.14992001e-03,  2.60962321e-02,\n",
       "         2.53824091e-02, -1.63054070e-02,  1.23085261e-01,\n",
       "        -1.82743891e-02,  2.33205306e-02,  1.56278187e-02,\n",
       "        -5.07450167e-03,  3.14566365e-02, -2.44441240e-02,\n",
       "         2.66634148e-02,  9.08746699e-02],\n",
       "       [ 9.99062566e-01,  3.71977519e-03, -6.29199214e-03,\n",
       "        -1.99223536e-03, -7.75710161e-03, -1.39991075e-02,\n",
       "        -2.74102732e-02, -7.73973099e-03, -7.35448103e-03,\n",
       "         1.41316443e-03,  6.01737563e-03, -5.18989780e-03,\n",
       "        -2.39414458e-03, -3.65075445e-03, -4.69373022e-03,\n",
       "         8.74807947e-04,  8.12849487e-03,  1.06183928e-03,\n",
       "        -6.00092877e-03,  2.20209634e-02],\n",
       "       [ 2.69775525e-02,  4.85586524e-04, -1.73164105e-02,\n",
       "         1.21098919e-03, -8.37984846e-03,  1.30905829e-03,\n",
       "         9.99309231e-01, -1.58306013e-04, -2.55481734e-03,\n",
       "        -1.58670685e-03, -1.40709238e-03, -9.65341965e-03,\n",
       "         4.36649016e-03,  3.70206821e-03, -3.44841617e-03,\n",
       "        -9.46093220e-04,  4.45242098e-03,  3.84100172e-03,\n",
       "         2.49465380e-03,  9.44353761e-03],\n",
       "       [ 6.72336477e-03, -3.97319558e-05,  9.99713753e-01,\n",
       "        -7.35254393e-04,  5.41154206e-03,  7.24263870e-03,\n",
       "         1.71045946e-02,  2.51149588e-03, -5.90974882e-03,\n",
       "        -3.57258267e-03, -1.93836371e-03,  3.81286591e-03,\n",
       "         4.92374129e-04,  2.77243587e-04,  3.05164751e-04,\n",
       "         1.26493287e-03,  1.60966524e-03, -8.24992199e-04,\n",
       "         5.41683651e-04,  8.63074193e-03]])"
      ]
     },
     "execution_count": 10,
     "metadata": {},
     "output_type": "execute_result"
    }
   ],
   "source": [
    "# components\n",
    "pca.components_"
   ]
  },
  {
   "cell_type": "code",
   "execution_count": 11,
   "metadata": {},
   "outputs": [
    {
     "data": {
      "text/plain": [
       "0     0.202138\n",
       "1     0.162117\n",
       "2     0.106687\n",
       "3     0.085758\n",
       "4     0.082566\n",
       "5     0.068185\n",
       "6     0.047992\n",
       "7     0.043136\n",
       "8     0.036431\n",
       "9     0.029964\n",
       "10    0.028262\n",
       "11    0.027105\n",
       "12    0.021593\n",
       "13    0.020527\n",
       "14    0.015046\n",
       "15    0.014450\n",
       "16    0.006671\n",
       "17    0.000745\n",
       "18    0.000372\n",
       "19    0.000254\n",
       "dtype: float64"
      ]
     },
     "execution_count": 11,
     "metadata": {},
     "output_type": "execute_result"
    }
   ],
   "source": [
    "pd.Series(pca.explained_variance_ratio_) "
   ]
  },
  {
   "cell_type": "code",
   "execution_count": 12,
   "metadata": {},
   "outputs": [
    {
     "data": {
      "image/png": "[encoded data removed]",
      "text/plain": [
       "<Figure size 1080x576 with 1 Axes>"
      ]
     },
     "metadata": {
      "needs_background": "light"
     },
     "output_type": "display_data"
    }
   ],
   "source": [
    "plt.style.use(\"seaborn-pastel\")\n",
    "plt.figure(figsize=(15,8))\n",
    "\n",
    "exp_var = pd.Series(pca.explained_variance_ratio_) \n",
    "exp_var.plot(kind=\"bar\", alpha=0.7) # plot bar chart\n",
    "\n",
    "# Calculate the amount of variance explained added by each additional component\n",
    "total = 0\n",
    "var_ls = []\n",
    "for x in exp_var:\n",
    "    total = total+x\n",
    "    var_ls.append(total)\n",
    "\n",
    "pd.Series(var_ls).plot(marker=\"o\", alpha=0.7, color = 'red' ) #plot line chart of increasing variances\n",
    "\n",
    "plt.xlabel(\"Principle Components\", fontsize=\"x-large\")\n",
    "plt.ylabel(\"Percentage Variance Explained\", fontsize=\"x-large\")\n",
    "plt.title(\"Diabetes Scree Plot\", fontsize=\"xx-large\")\n",
    "plt.show();"
   ]
  },
  {
   "cell_type": "code",
   "execution_count": 13,
   "metadata": {},
   "outputs": [],
   "source": [
    "# Instantiate Standard Scaler\n",
    "scaler = StandardScaler()\n",
    "\n",
    "# Fit & transform data\n",
    "X_train_sc = scaler.fit_transform(X_train)\n",
    "\n",
    "X_test_sc = scaler.transform(X_test)"
   ]
  },
  {
   "cell_type": "code",
   "execution_count": 16,
   "metadata": {},
   "outputs": [],
   "source": [
    "# Fit PCA\n",
    "pca = PCA(n_components = 9)\n",
    "X_train_pca = pca.fit_transform(X_train_sc)\n",
    "X_test_pca = pca.transform(X_test_sc)\n",
    "\n",
    "# Created two model to compare training time\n",
    "logreg_noPCA = LogisticRegression(max_iter=1230) # Set max_iter so model reaches convergence\n",
    "\n",
    "logreg = LogisticRegression()"
   ]
  },
  {
   "cell_type": "code",
   "execution_count": 17,
   "metadata": {},
   "outputs": [
    {
     "name": "stdout",
     "output_type": "stream",
     "text": [
      "Measure how long it takes to train WITHOUT PCA\n",
      "13.5 ms ± 44.2 µs per loop (mean ± std. dev. of 7 runs, 100 loops each)\n",
      "\n",
      "Measure how long it takes to train WITH PCA\n",
      "3.92 ms ± 17.5 µs per loop (mean ± std. dev. of 7 runs, 100 loops each)\n"
     ]
    }
   ],
   "source": [
    "# Measure how long it takes to train WITHOUT PCA\n",
    "\n",
    "print('Measure how long it takes to train WITHOUT PCA')\n",
    "%timeit logreg_noPCA.fit(X_train, y_train)\n",
    "\n",
    "print()\n",
    "\n",
    "# Measure how long it takes to train with PCA\n",
    "\n",
    "print('Measure how long it takes to train WITH PCA')\n",
    "%timeit logreg.fit(X_train_pca, y_train)"
   ]
  },
  {
   "cell_type": "code",
   "execution_count": 18,
   "metadata": {},
   "outputs": [
    {
     "name": "stdout",
     "output_type": "stream",
     "text": [
      "PCA Training accuracy: 0.9350515463917526\n",
      "PCA Testing accuracy: 0.9259259259259259\n"
     ]
    }
   ],
   "source": [
    "# PCA Model\n",
    "print('PCA Training accuracy:',logreg.score(X_train_pca, y_train)) \n",
    "print('PCA Testing accuracy:', logreg.score(X_test_pca, y_test))"
   ]
  },
  {
   "cell_type": "markdown",
   "metadata": {},
   "source": [
    "## KMeans"
   ]
  },
  {
   "cell_type": "code",
   "execution_count": null,
   "metadata": {},
   "outputs": [],
   "source": [
    "df1 = df[['Report cybercrime', 'Victim of cybercrime', 'Bank']]"
   ]
  },
  {
   "cell_type": "code",
   "execution_count": null,
   "metadata": {},
   "outputs": [],
   "source": [
    "X = df.iloc[:,[0,1]].values\n",
    "X"
   ]
  },
  {
   "cell_type": "code",
   "execution_count": null,
   "metadata": {},
   "outputs": [],
   "source": [
    "y= df[['Victim of cybercrime']]\n",
    "y"
   ]
  },
  {
   "cell_type": "code",
   "execution_count": null,
   "metadata": {},
   "outputs": [],
   "source": [
    "X1 =df.drop('Victim of cybercrime',axis=1)\n",
    "X1"
   ]
  },
  {
   "cell_type": "code",
   "execution_count": null,
   "metadata": {},
   "outputs": [],
   "source": [
    "# Initial EDA to determine possible number of clusters in our data \"customer groups\"\n",
    "\n",
    "plt.scatter(X[:,0], X[:,1])\n",
    "\n",
    "plt.xlabel('Report cybercrime')\n",
    "plt.ylabel('Victim of cybercrime')\n",
    "plt.title('Report vs victim of cybercrime')\n",
    "plt.show()"
   ]
  },
  {
   "cell_type": "markdown",
   "metadata": {},
   "source": [
    "### Elbow Graph"
   ]
  },
  {
   "cell_type": "code",
   "execution_count": 21,
   "metadata": {},
   "outputs": [
    {
     "data": {
      "image/png": "[encoded data removed]",
      "text/plain": [
       "<Figure size 432x288 with 1 Axes>"
      ]
     },
     "metadata": {
      "needs_background": "light"
     },
     "output_type": "display_data"
    }
   ],
   "source": [
    "# The elbow method depends on WCSS which stands for Within Cluster Sum of Squares\n",
    "\n",
    "wcss = []\n",
    "# Note: We are using K-mean++ to avoid the random initialization trap \n",
    "# Note: We are creating a plot of the WCSS for upto 10 clusters using the for loop\n",
    "# The measurement we are using is the inertia \n",
    "\n",
    "for i in range(1, 11):\n",
    "    kmeans = KMeans(n_clusters = i, init = 'k-means++', random_state = 123)\n",
    "    kmeans.fit(X1)\n",
    "    wcss.append(kmeans.inertia_)\n",
    "    \n",
    "plt.plot(range(1, 11), wcss)\n",
    "plt.title('The Elbow Method')\n",
    "plt.xlabel('Number of clusters')\n",
    "plt.ylabel('WCSS')\n",
    "plt.show()\n",
    "\n",
    "# From the plot we can see that the optimal number of clusters in 3  "
   ]
  },
  {
   "cell_type": "code",
   "execution_count": null,
   "metadata": {},
   "outputs": [],
   "source": [
    "kmeans = KMeans(n_clusters = 3, init = 'k-means++', random_state = 123)\n",
    "\n",
    "y_kmeans = kmeans.fit_predict(X1)"
   ]
  },
  {
   "cell_type": "code",
   "execution_count": null,
   "metadata": {},
   "outputs": [],
   "source": [
    "y_kmeans"
   ]
  },
  {
   "cell_type": "code",
   "execution_count": null,
   "metadata": {},
   "outputs": [],
   "source": [
    "# This prints the Report cybercrime in the 1st cluster --> cluster 0\n",
    "print (X[y_kmeans == 0, 0])\n",
    "\n",
    "print('\\n')\n",
    "\n",
    "# This prints the sVictim of cybercrime in the 1st cluster --> cluster 0\n",
    "print (X[y_kmeans == 0, 1])"
   ]
  },
  {
   "cell_type": "code",
   "execution_count": null,
   "metadata": {},
   "outputs": [],
   "source": [
    "# Cluster centeriods\n",
    "\n",
    "print (kmeans.cluster_centers_)"
   ]
  },
  {
   "cell_type": "code",
   "execution_count": null,
   "metadata": {},
   "outputs": [],
   "source": [
    "# The Report cybercrime for the centriods\n",
    "print (kmeans.cluster_centers_[:, 0])\n",
    "\n",
    "# The Victim of cybercrime for the centriods\n",
    "print (kmeans.cluster_centers_[:, 1])"
   ]
  },
  {
   "cell_type": "code",
   "execution_count": null,
   "metadata": {},
   "outputs": [],
   "source": [
    "plt.scatter(X[y_kmeans == 0, 0], X[y_kmeans == 0, 1], s = 100, c = 'red', label = 'Cluster 1')\n",
    "\n",
    "plt.scatter(X[y_kmeans == 1, 0], X[y_kmeans == 1, 1], s = 100, c = 'blue', label = 'Cluster 2')\n",
    "\n",
    "plt.scatter(X[y_kmeans == 2, 0], X[y_kmeans == 2, 1], s = 100, c = 'green', label = 'Cluster 3')\n",
    "\n",
    "plt.scatter(X[y_kmeans == 3, 0], X[y_kmeans == 3, 1], s = 100, c = 'orange', label = 'Cluster 4')\n",
    "\n",
    "plt.scatter(X[y_kmeans == 4, 0], X[y_kmeans == 4, 1], s = 100, c = 'grey', label = 'Cluster 5')\n",
    "\n",
    "#plt.scatter(X[y_kmeans == 5, 0], X[y_kmeans == 5, 1], s = 100, c = 'black', label = 'Cluster 6')\n",
    "\n",
    "plt.scatter(kmeans.cluster_centers_[:, 0], kmeans.cluster_centers_[:, 1], s = 200, c = 'brown', label = 'Centroids')\n",
    "plt.title('Clusters of Victims')\n",
    "plt.xlabel('')\n",
    "plt.ylabel('')\n",
    "plt.legend()\n",
    "plt.show()"
   ]
  },
  {
   "cell_type": "code",
   "execution_count": null,
   "metadata": {},
   "outputs": [],
   "source": [
    "#print (np.where(y_kmeans ==0 )[0])"
   ]
  },
  {
   "cell_type": "markdown",
   "metadata": {},
   "source": [
    "# KMeans"
   ]
  },
  {
   "cell_type": "code",
   "execution_count": 19,
   "metadata": {},
   "outputs": [
    {
     "name": "stdout",
     "output_type": "stream",
     "text": [
      "   Age  Education level  Number of use Internet and Internet-related services  \\\n",
      "0    0                3                                                  2      \n",
      "1    0                2                                                  2      \n",
      "2    0                2                                                  2      \n",
      "3    0                2                                                  2      \n",
      "4    0                2                                                  2      \n",
      "\n",
      "   Internet/ Digital devices skills level  Secure of person's digital devices  \\\n",
      "0                                       1                                   3   \n",
      "1                                       1                                   4   \n",
      "2                                       1                                   4   \n",
      "3                                       1                                   4   \n",
      "4                                       1                                   4   \n",
      "\n",
      "   Legitimacy of a website  Password with personal information  \\\n",
      "0                        4                                   0   \n",
      "1                        0                                   4   \n",
      "2                        3                                   3   \n",
      "3                        2                                   0   \n",
      "4                        3                                   1   \n",
      "\n",
      "   Aware of the danger of clicking pop-up screens  \\\n",
      "0                                               4   \n",
      "1                                               4   \n",
      "2                                               4   \n",
      "3                                               3   \n",
      "4                                               4   \n",
      "\n",
      "   Attention to person's account privacy  \\\n",
      "0                                      4   \n",
      "1                                      4   \n",
      "2                                      4   \n",
      "3                                      1   \n",
      "4                                      3   \n",
      "\n",
      "   Protection of social media services for personal info  ...  etc.1  \\\n",
      "0                                                  2      ...      1   \n",
      "1                                                  3      ...      1   \n",
      "2                                                  3      ...      1   \n",
      "3                                                  3      ...      1   \n",
      "4                                                  2      ...      1   \n",
      "\n",
      "   Government websites (e.g. CERT)1  \\\n",
      "0                                 0   \n",
      "1                                 0   \n",
      "2                                 0   \n",
      "3                                 0   \n",
      "4                                 0   \n",
      "\n",
      "   I do not feel that I keep myself updated1  Rely on automatic updates1  \\\n",
      "0                                          0                           0   \n",
      "1                                          0                           0   \n",
      "2                                          0                           0   \n",
      "3                                          0                           0   \n",
      "4                                          0                           0   \n",
      "\n",
      "   Internet service provider ISPs1  \\\n",
      "0                                0   \n",
      "1                                0   \n",
      "2                                0   \n",
      "3                                0   \n",
      "4                                0   \n",
      "\n",
      "   Other- Messages from Communication Company1  Others: Twitter1  \\\n",
      "0                                            0                 0   \n",
      "1                                            0                 0   \n",
      "2                                            0                 0   \n",
      "3                                            0                 0   \n",
      "4                                            0                 0   \n",
      "\n",
      "   Other- Twitter1  etc..1  Cluster  \n",
      "0                0       0        1  \n",
      "1                0       0        0  \n",
      "2                0       0        2  \n",
      "3                0       0        1  \n",
      "4                0       0        0  \n",
      "\n",
      "[5 rows x 225 columns]\n"
     ]
    }
   ],
   "source": [
    "df1 = df.copy()\n",
    "\n",
    "X1= df1.drop('Victim of cybercrime',axis=1)\n",
    "\n",
    "\n",
    "kmeans = KMeans(n_clusters=3)\n",
    "\n",
    "y = kmeans.fit_predict(X1)\n",
    "\n",
    "df1['Cluster'] = y\n",
    "\n",
    "print(df1.head())"
   ]
  },
  {
   "cell_type": "code",
   "execution_count": 20,
   "metadata": {},
   "outputs": [
    {
     "data": {
      "text/plain": [
       "<AxesSubplot:xlabel='component1', ylabel='component2'>"
      ]
     },
     "execution_count": 20,
     "metadata": {},
     "output_type": "execute_result"
    },
    {
     "data": {
      "image/png": "[encoded data removed]",
      "text/plain": [
       "<Figure size 432x288 with 1 Axes>"
      ]
     },
     "metadata": {
      "needs_background": "light"
     },
     "output_type": "display_data"
    }
   ],
   "source": [
    "\n",
    "embedding = MDS(n_components=2)\n",
    "mds = pd.DataFrame(embedding.fit_transform(df1.drop(['Cluster','Victim of cybercrime'],axis=1)),\n",
    "             columns = ['component1','component2'])\n",
    "mds['cluster'] = df1['Cluster'] \n",
    "\n",
    "sns.scatterplot(data=mds,x = \"component1\",y=\"component2\",hue=\"cluster\")"
   ]
  }
 ],
 "metadata": {
  "interpreter": {
   "hash": "95d73d6fd1cff5fb2f41ff3c75621fd967f90acca1c16714a7d5860f4cfbfbc9"
  },
  "kernelspec": {
   "display_name": "Python 3 (ipykernel)",
   "language": "python",
   "name": "python3"
  },
  "language_info": {
   "codemirror_mode": {
    "name": "ipython",
    "version": 3
   },
   "file_extension": ".py",
   "mimetype": "text/x-python",
   "name": "python",
   "nbconvert_exporter": "python",
   "pygments_lexer": "ipython3",
   "version": "3.7.7"
  },
  "varInspector": {
   "cols": {
    "lenName": 16,
    "lenType": 16,
    "lenVar": 40
   },
   "kernels_config": {
    "python": {
     "delete_cmd_postfix": "",
     "delete_cmd_prefix": "del ",
     "library": "var_list.py",
     "varRefreshCmd": "print(var_dic_list())"
    },
    "r": {
     "delete_cmd_postfix": ") ",
     "delete_cmd_prefix": "rm(",
     "library": "var_list.r",
     "varRefreshCmd": "cat(var_dic_list()) "
    }
   },
   "types_to_exclude": [
    "module",
    "function",
    "builtin_function_or_method",
    "instance",
    "_Feature"
   ],
   "window_display": false
  }
 },
 "nbformat": 4,
 "nbformat_minor": 2
}
