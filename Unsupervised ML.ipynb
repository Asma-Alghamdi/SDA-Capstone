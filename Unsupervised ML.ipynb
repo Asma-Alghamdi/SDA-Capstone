{
 "cells": [
  {
   "cell_type": "code",
   "execution_count": 1,
   "metadata": {},
   "outputs": [],
   "source": [
    "import matplotlib.pyplot as plt\n",
    "import pandas as pd\n",
    "import seaborn as sns\n",
    "import scipy.cluster.hierarchy as sch\n",
    "import seaborn as sns\n",
    "\n",
    "from sklearn.model_selection import train_test_split\n",
    "from sklearn.linear_model import LogisticRegression\n",
    "from sklearn.preprocessing import LabelEncoder, StandardScaler\n",
    "from sklearn.decomposition import PCA\n",
    "from sklearn.metrics import accuracy_score, roc_auc_score\n",
    "from sklearn.cluster import KMeans\n",
    "from sklearn.manifold import MDS"
   ]
  },
  {
   "cell_type": "code",
   "execution_count": 2,
   "metadata": {},
   "outputs": [
    {
     "data": {
      "text/html": [
       "<div>\n",
       "<style scoped>\n",
       "    .dataframe tbody tr th:only-of-type {\n",
       "        vertical-align: middle;\n",
       "    }\n",
       "\n",
       "    .dataframe tbody tr th {\n",
       "        vertical-align: top;\n",
       "    }\n",
       "\n",
       "    .dataframe thead th {\n",
       "        text-align: right;\n",
       "    }\n",
       "</style>\n",
       "<table border=\"1\" class=\"dataframe\">\n",
       "  <thead>\n",
       "    <tr style=\"text-align: right;\">\n",
       "      <th></th>\n",
       "      <th>Age</th>\n",
       "      <th>Education level</th>\n",
       "      <th>Number of use Internet and Internet-related services</th>\n",
       "      <th>Internet/ Digital devices skills level</th>\n",
       "      <th>Secure of person's digital devices</th>\n",
       "      <th>Legitimacy of a website</th>\n",
       "      <th>Password with personal information</th>\n",
       "      <th>Aware of the danger of clicking pop-up screens</th>\n",
       "      <th>Attention to person's account privacy</th>\n",
       "      <th>Protection of social media services for personal info</th>\n",
       "      <th>...</th>\n",
       "      <th>blogs1</th>\n",
       "      <th>etc.1</th>\n",
       "      <th>Government websites (e.g. CERT)1</th>\n",
       "      <th>I do not feel that I keep myself updated1</th>\n",
       "      <th>Rely on automatic updates1</th>\n",
       "      <th>Internet service provider ISPs1</th>\n",
       "      <th>Other- Messages from Communication Company1</th>\n",
       "      <th>Others: Twitter1</th>\n",
       "      <th>Other- Twitter1</th>\n",
       "      <th>etc..1</th>\n",
       "    </tr>\n",
       "  </thead>\n",
       "  <tbody>\n",
       "    <tr>\n",
       "      <th>0</th>\n",
       "      <td>0</td>\n",
       "      <td>3</td>\n",
       "      <td>2</td>\n",
       "      <td>1</td>\n",
       "      <td>3</td>\n",
       "      <td>4</td>\n",
       "      <td>0</td>\n",
       "      <td>4</td>\n",
       "      <td>4</td>\n",
       "      <td>2</td>\n",
       "      <td>...</td>\n",
       "      <td>1</td>\n",
       "      <td>1</td>\n",
       "      <td>0</td>\n",
       "      <td>0</td>\n",
       "      <td>0</td>\n",
       "      <td>0</td>\n",
       "      <td>0</td>\n",
       "      <td>0</td>\n",
       "      <td>0</td>\n",
       "      <td>0</td>\n",
       "    </tr>\n",
       "    <tr>\n",
       "      <th>1</th>\n",
       "      <td>0</td>\n",
       "      <td>2</td>\n",
       "      <td>2</td>\n",
       "      <td>1</td>\n",
       "      <td>4</td>\n",
       "      <td>0</td>\n",
       "      <td>4</td>\n",
       "      <td>4</td>\n",
       "      <td>4</td>\n",
       "      <td>3</td>\n",
       "      <td>...</td>\n",
       "      <td>1</td>\n",
       "      <td>1</td>\n",
       "      <td>0</td>\n",
       "      <td>0</td>\n",
       "      <td>0</td>\n",
       "      <td>0</td>\n",
       "      <td>0</td>\n",
       "      <td>0</td>\n",
       "      <td>0</td>\n",
       "      <td>0</td>\n",
       "    </tr>\n",
       "    <tr>\n",
       "      <th>2</th>\n",
       "      <td>0</td>\n",
       "      <td>2</td>\n",
       "      <td>2</td>\n",
       "      <td>1</td>\n",
       "      <td>4</td>\n",
       "      <td>3</td>\n",
       "      <td>3</td>\n",
       "      <td>4</td>\n",
       "      <td>4</td>\n",
       "      <td>3</td>\n",
       "      <td>...</td>\n",
       "      <td>1</td>\n",
       "      <td>1</td>\n",
       "      <td>0</td>\n",
       "      <td>0</td>\n",
       "      <td>0</td>\n",
       "      <td>0</td>\n",
       "      <td>0</td>\n",
       "      <td>0</td>\n",
       "      <td>0</td>\n",
       "      <td>0</td>\n",
       "    </tr>\n",
       "    <tr>\n",
       "      <th>3</th>\n",
       "      <td>0</td>\n",
       "      <td>2</td>\n",
       "      <td>2</td>\n",
       "      <td>1</td>\n",
       "      <td>4</td>\n",
       "      <td>2</td>\n",
       "      <td>0</td>\n",
       "      <td>3</td>\n",
       "      <td>1</td>\n",
       "      <td>3</td>\n",
       "      <td>...</td>\n",
       "      <td>1</td>\n",
       "      <td>1</td>\n",
       "      <td>0</td>\n",
       "      <td>0</td>\n",
       "      <td>0</td>\n",
       "      <td>0</td>\n",
       "      <td>0</td>\n",
       "      <td>0</td>\n",
       "      <td>0</td>\n",
       "      <td>0</td>\n",
       "    </tr>\n",
       "    <tr>\n",
       "      <th>4</th>\n",
       "      <td>0</td>\n",
       "      <td>2</td>\n",
       "      <td>2</td>\n",
       "      <td>1</td>\n",
       "      <td>4</td>\n",
       "      <td>3</td>\n",
       "      <td>1</td>\n",
       "      <td>4</td>\n",
       "      <td>3</td>\n",
       "      <td>2</td>\n",
       "      <td>...</td>\n",
       "      <td>1</td>\n",
       "      <td>1</td>\n",
       "      <td>0</td>\n",
       "      <td>0</td>\n",
       "      <td>0</td>\n",
       "      <td>0</td>\n",
       "      <td>0</td>\n",
       "      <td>0</td>\n",
       "      <td>0</td>\n",
       "      <td>0</td>\n",
       "    </tr>\n",
       "  </tbody>\n",
       "</table>\n",
       "<p>5 rows × 224 columns</p>\n",
       "</div>"
      ],
      "text/plain": [
       "   Age  Education level  Number of use Internet and Internet-related services  \\\n",
       "0    0                3                                                  2      \n",
       "1    0                2                                                  2      \n",
       "2    0                2                                                  2      \n",
       "3    0                2                                                  2      \n",
       "4    0                2                                                  2      \n",
       "\n",
       "   Internet/ Digital devices skills level  Secure of person's digital devices  \\\n",
       "0                                       1                                   3   \n",
       "1                                       1                                   4   \n",
       "2                                       1                                   4   \n",
       "3                                       1                                   4   \n",
       "4                                       1                                   4   \n",
       "\n",
       "   Legitimacy of a website  Password with personal information  \\\n",
       "0                        4                                   0   \n",
       "1                        0                                   4   \n",
       "2                        3                                   3   \n",
       "3                        2                                   0   \n",
       "4                        3                                   1   \n",
       "\n",
       "   Aware of the danger of clicking pop-up screens  \\\n",
       "0                                               4   \n",
       "1                                               4   \n",
       "2                                               4   \n",
       "3                                               3   \n",
       "4                                               4   \n",
       "\n",
       "   Attention to person's account privacy  \\\n",
       "0                                      4   \n",
       "1                                      4   \n",
       "2                                      4   \n",
       "3                                      1   \n",
       "4                                      3   \n",
       "\n",
       "   Protection of social media services for personal info  ...  blogs1  etc.1  \\\n",
       "0                                                  2      ...       1      1   \n",
       "1                                                  3      ...       1      1   \n",
       "2                                                  3      ...       1      1   \n",
       "3                                                  3      ...       1      1   \n",
       "4                                                  2      ...       1      1   \n",
       "\n",
       "   Government websites (e.g. CERT)1  \\\n",
       "0                                 0   \n",
       "1                                 0   \n",
       "2                                 0   \n",
       "3                                 0   \n",
       "4                                 0   \n",
       "\n",
       "   I do not feel that I keep myself updated1  Rely on automatic updates1  \\\n",
       "0                                          0                           0   \n",
       "1                                          0                           0   \n",
       "2                                          0                           0   \n",
       "3                                          0                           0   \n",
       "4                                          0                           0   \n",
       "\n",
       "   Internet service provider ISPs1  \\\n",
       "0                                0   \n",
       "1                                0   \n",
       "2                                0   \n",
       "3                                0   \n",
       "4                                0   \n",
       "\n",
       "   Other- Messages from Communication Company1  Others: Twitter1  \\\n",
       "0                                            0                 0   \n",
       "1                                            0                 0   \n",
       "2                                            0                 0   \n",
       "3                                            0                 0   \n",
       "4                                            0                 0   \n",
       "\n",
       "   Other- Twitter1  etc..1  \n",
       "0                0       0  \n",
       "1                0       0  \n",
       "2                0       0  \n",
       "3                0       0  \n",
       "4                0       0  \n",
       "\n",
       "[5 rows x 224 columns]"
      ]
     },
     "execution_count": 2,
     "metadata": {},
     "output_type": "execute_result"
    }
   ],
   "source": [
    "df = pd.read_csv('Enumerated dataset.csv')\n",
    "df.head()"
   ]
  },
  {
   "cell_type": "code",
   "execution_count": 3,
   "metadata": {},
   "outputs": [
    {
     "data": {
      "text/plain": [
       "(1213, 224)"
      ]
     },
     "execution_count": 3,
     "metadata": {},
     "output_type": "execute_result"
    }
   ],
   "source": [
    "df.shape"
   ]
  },
  {
   "cell_type": "code",
   "execution_count": 4,
   "metadata": {},
   "outputs": [
    {
     "data": {
      "text/plain": [
       "Victim of cybercrime                                                                                 1.000000\n",
       "Bank                                                                                                 0.145149\n",
       "Online personal information is not secure enough                                                     0.135610\n",
       "No one                                                                                               0.109586\n",
       "Responsibility of those offering online/Internet-based servicesin raising awareness of cybercrime    0.105763\n",
       "                                                                                                       ...   \n",
       "I don't know.1                                                                                      -0.086462\n",
       "Don’t know but will ask my friends for advice                                                       -0.106505\n",
       "Well protected against cybercrime                                                                   -0.106858\n",
       "Laws are effective in managing the cybercrime problem                                               -0.121328\n",
       "Report cybercrime                                                                                   -0.897771\n",
       "Length: 224, dtype: float64"
      ]
     },
     "execution_count": 4,
     "metadata": {},
     "output_type": "execute_result"
    }
   ],
   "source": [
    "# Checking the correlation for the data of our target ( Victim of cybercrime )\n",
    "#The dataset contain too many columns, correlation map will not be useful\n",
    "\n",
    "df.corrwith(df[\"Victim of cybercrime\"]).sort_values( ascending=False)"
   ]
  },
  {
   "cell_type": "code",
   "execution_count": 5,
   "metadata": {},
   "outputs": [
    {
     "data": {
      "text/plain": [
       "['Bank',\n",
       " 'Online personal information is not secure enough',\n",
       " 'No one',\n",
       " 'Responsibility of those offering online/Internet-based servicesin raising awareness of cybercrime',\n",
       " 'Education level',\n",
       " 'Role of the government in combating cybercrimes_No role',\n",
       " 'Apple store',\n",
       " 'Education',\n",
       " 'Government or professional reports',\n",
       " 'PIN)']"
      ]
     },
     "execution_count": 5,
     "metadata": {},
     "output_type": "execute_result"
    }
   ],
   "source": [
    "# Finding the best features to use for the traning and store it\n",
    "\n",
    "corrArray=df.corrwith(df['Victim of cybercrime']).sort_values( ascending=False)\n",
    "\n",
    "# pick the best 20 columns. 10 from the top and 10 from the last\n",
    "first10=corrArray[1:11]\n",
    "first10= list(first10.index)\n",
    "first10"
   ]
  },
  {
   "cell_type": "code",
   "execution_count": 6,
   "metadata": {},
   "outputs": [
    {
     "data": {
      "text/plain": [
       "['Legitimacy of a website',\n",
       " 'Role of the government in combating cybercrimes_Have stricter laws and punishments for cyber crimes',\n",
       " 'Concerned about encountering material promotes hatred or religious extremism',\n",
       " 'Concerned about receiving phishing emails',\n",
       " 'I do not feel that I keep myself updated',\n",
       " \"I don't know.1\",\n",
       " 'Don’t know but will ask my friends for advice',\n",
       " 'Well protected against cybercrime',\n",
       " 'Laws are effective in managing the cybercrime problem',\n",
       " 'Report cybercrime']"
      ]
     },
     "execution_count": 6,
     "metadata": {},
     "output_type": "execute_result"
    }
   ],
   "source": [
    "# Finding the best features to use for the traning and store it\n",
    "\n",
    "corrArray=df.corrwith(df['Victim of cybercrime']).sort_values( ascending=False)\n",
    "\n",
    "# pick the best 20 columns. 10 from the top and 10 from the last\n",
    "last10=corrArray[-10:]\n",
    "last10= list(last10.index)\n",
    "last10"
   ]
  },
  {
   "cell_type": "markdown",
   "metadata": {},
   "source": [
    "## PCA"
   ]
  },
  {
   "cell_type": "code",
   "execution_count": 7,
   "metadata": {},
   "outputs": [],
   "source": [
    "# Selecting features\n",
    "# Save X data\n",
    "X = df[first10 + last10]\n",
    "\n",
    "# Encode our target\n",
    "le = LabelEncoder()\n",
    "y = le.fit_transform(df['Victim of cybercrime'])"
   ]
  },
  {
   "cell_type": "code",
   "execution_count": 8,
   "metadata": {},
   "outputs": [],
   "source": [
    "# Train test split\n",
    "X_train, X_test, y_train, y_test = train_test_split(X, y, test_size= 0.20)"
   ]
  },
  {
   "cell_type": "code",
   "execution_count": 9,
   "metadata": {},
   "outputs": [
    {
     "data": {
      "text/plain": [
       "PCA()"
      ]
     },
     "execution_count": 9,
     "metadata": {},
     "output_type": "execute_result"
    }
   ],
   "source": [
    "# Instantiate & fit data using PCA\n",
    "pca = PCA()\n",
    "pca.fit(X_train)"
   ]
  },
  {
   "cell_type": "code",
   "execution_count": 10,
   "metadata": {},
   "outputs": [
    {
     "data": {
      "text/plain": [
       "array([[ 1.19283394e-03, -1.16299418e-02,  4.77764630e-04,\n",
       "        -9.11989399e-02,  7.97634201e-02,  3.15501862e-03,\n",
       "         3.76295062e-03,  5.98885265e-02,  1.01724273e-02,\n",
       "         5.90909337e-02, -3.46573423e-01, -6.89264022e-02,\n",
       "         7.67673494e-02,  8.98258943e-02,  5.22402967e-02,\n",
       "         7.93048456e-03,  5.20983729e-02, -6.76306336e-01,\n",
       "        -6.10647621e-01, -5.80070222e-02],\n",
       "       [ 7.48432265e-04, -7.35048296e-01,  1.29775609e-03,\n",
       "        -3.58869321e-01, -6.01521670e-02,  3.47230838e-03,\n",
       "        -3.88619049e-03, -7.82855351e-02, -7.20590085e-02,\n",
       "        -4.20343919e-02, -2.26453523e-01, -1.93552234e-02,\n",
       "         2.79834833e-01,  2.61816901e-01,  7.48590944e-02,\n",
       "         4.66658019e-02,  2.36149598e-02,  3.11977625e-01,\n",
       "        -8.95378273e-02,  4.45348800e-02],\n",
       "       [-2.57319226e-03, -3.64845791e-01,  1.29777327e-03,\n",
       "         2.83990080e-01,  1.02372544e-01,  2.09100070e-02,\n",
       "         4.52743006e-03,  7.72990560e-02,  1.66996405e-01,\n",
       "         9.03400962e-02,  4.92629003e-01, -7.96557687e-02,\n",
       "        -2.63609763e-01, -2.04850037e-01, -9.18980543e-02,\n",
       "        -4.71929076e-02, -6.76736010e-02,  1.95413513e-01,\n",
       "        -5.63908722e-01, -3.67843630e-02],\n",
       "       [-4.45078836e-03,  3.03457699e-01,  2.30871895e-03,\n",
       "        -3.17870538e-01, -4.31661123e-02,  4.19316345e-02,\n",
       "         6.04517681e-04, -1.78589903e-02, -3.73618939e-02,\n",
       "        -5.70479866e-02, -4.56273616e-01, -8.35424006e-02,\n",
       "        -3.61476492e-01, -3.20111323e-01,  2.96167473e-02,\n",
       "         4.65953011e-04,  3.33122616e-02,  4.86874410e-01,\n",
       "        -3.21273725e-01, -8.77684778e-02],\n",
       "       [ 5.34488287e-03, -4.28318586e-01,  1.61919388e-03,\n",
       "         4.72501894e-01,  1.55037885e-02, -2.95845512e-02,\n",
       "         1.93407688e-03,  4.45455106e-02, -2.70110842e-02,\n",
       "         2.73884104e-02, -4.89329925e-01,  4.19135267e-02,\n",
       "        -3.19067205e-01, -3.57604410e-01,  6.78117822e-02,\n",
       "         1.78572527e-03,  1.57716264e-02, -1.49956021e-01,\n",
       "         3.00566183e-01, -1.03949316e-02],\n",
       "       [-2.60904218e-03, -1.98013388e-01,  4.93454968e-04,\n",
       "        -6.02947094e-01, -1.50455889e-01, -6.34032133e-03,\n",
       "         4.46145163e-03, -1.01645556e-01, -5.53039572e-02,\n",
       "        -2.20874786e-02,  3.07093991e-01,  7.77574816e-02,\n",
       "        -2.42132460e-01, -4.76920157e-01,  8.04689486e-03,\n",
       "         1.01650430e-01, -2.36221036e-02, -3.60582992e-01,\n",
       "         1.70728166e-01,  6.40741086e-02],\n",
       "       [ 7.91319999e-03, -4.73097117e-02, -1.39413928e-03,\n",
       "        -2.79354710e-01,  4.55421618e-01, -2.46586029e-02,\n",
       "         6.09019111e-03,  4.21228368e-01,  3.34526703e-01,\n",
       "         3.56363180e-01, -1.18229624e-01,  5.67406214e-02,\n",
       "        -4.03190169e-02,  4.29293785e-02, -3.97101953e-01,\n",
       "        -1.94020559e-01, -1.74818618e-01,  1.21982435e-02,\n",
       "         1.90887141e-01, -1.10088767e-01],\n",
       "       [ 4.82357112e-03,  4.73062160e-02,  3.48921847e-03,\n",
       "         8.19647859e-02, -4.99386380e-02,  5.01502626e-02,\n",
       "         1.00584997e-04,  5.42276045e-02, -7.56683914e-04,\n",
       "         1.60401825e-01, -3.64478902e-02, -3.95511480e-02,\n",
       "         7.26195122e-01, -6.15937426e-01,  2.12212650e-02,\n",
       "        -7.67922350e-03, -1.43284811e-01,  7.69936119e-02,\n",
       "        -5.59031709e-02, -1.32685857e-01],\n",
       "       [ 4.74855940e-03, -2.41971647e-02,  7.58309637e-03,\n",
       "         5.40077705e-02, -3.63417597e-01,  6.83886178e-02,\n",
       "        -1.22319286e-03, -2.73377829e-01,  2.93939013e-01,\n",
       "        -3.24078696e-01, -1.18977068e-01, -4.99118523e-02,\n",
       "        -7.98541158e-03,  6.76993823e-02, -5.11519280e-01,\n",
       "         6.15282059e-02, -5.12644320e-01, -7.27442752e-02,\n",
       "        -1.33686750e-02, -1.96209385e-01],\n",
       "       [-9.54613932e-03,  2.77660743e-02, -1.74328132e-03,\n",
       "         4.04908079e-02, -6.17039991e-01, -7.70885920e-02,\n",
       "        -2.93356518e-03,  1.08823472e-01,  2.02265668e-01,\n",
       "         4.75586179e-01, -5.86239553e-02,  4.16370974e-01,\n",
       "        -1.07616027e-02,  5.24393506e-02, -1.76196891e-01,\n",
       "         4.88563287e-02,  2.76843571e-01,  4.33375997e-02,\n",
       "        -9.07265511e-02,  1.78936425e-01],\n",
       "       [ 2.19629684e-03,  1.91413209e-02, -3.80065397e-03,\n",
       "         2.73348189e-02,  3.08771961e-01, -1.07580340e-01,\n",
       "         1.14885511e-02, -1.22079928e-01, -1.41712470e-01,\n",
       "        -2.26184135e-01, -2.44570819e-02,  8.59098332e-01,\n",
       "         4.19697220e-02, -4.74115335e-02, -1.18624167e-02,\n",
       "         4.38294999e-02, -1.86354512e-01,  4.33436690e-02,\n",
       "        -1.52911882e-01,  3.11198575e-02],\n",
       "       [ 1.31428181e-02,  1.41154104e-02,  7.02609827e-03,\n",
       "        -1.61708714e-02, -1.74211547e-01,  2.66547551e-02,\n",
       "         5.58351609e-03, -3.24890496e-02, -2.85844595e-01,\n",
       "         4.66058271e-01,  2.81242824e-02,  4.34241633e-02,\n",
       "        -1.50769860e-01,  1.64568240e-01,  3.93038532e-01,\n",
       "        -1.37843981e-01, -6.14586219e-01,  5.28968764e-05,\n",
       "         4.60995721e-03, -2.54055596e-01],\n",
       "       [-4.09341641e-03, -8.80094476e-03, -9.65713221e-03,\n",
       "        -6.16720531e-03, -2.73266918e-01,  9.42996792e-03,\n",
       "        -4.82036668e-03,  7.66557882e-01, -2.09500910e-01,\n",
       "        -3.93976228e-01,  1.45698467e-02,  8.75271504e-03,\n",
       "         7.77554915e-03, -3.07213814e-03,  2.99034568e-02,\n",
       "        -1.08426591e-01, -2.31585822e-01, -7.14902776e-03,\n",
       "        -4.55027464e-02,  2.63639349e-01],\n",
       "       [ 1.96452833e-02, -6.41078607e-02,  5.27688556e-03,\n",
       "        -1.24994457e-02, -1.33168325e-01,  7.14966649e-02,\n",
       "         6.16623342e-03,  2.21576115e-01, -1.75152650e-01,\n",
       "        -1.45681766e-01,  9.67455824e-02,  1.42797887e-01,\n",
       "        -1.82118774e-02,  5.00748903e-02, -6.96608122e-02,\n",
       "        -1.99472094e-02,  3.41618939e-01, -1.54688987e-02,\n",
       "         4.52699499e-02, -8.45343822e-01],\n",
       "       [ 1.37264775e-02,  2.00223365e-02, -2.64956592e-03,\n",
       "        -4.15552507e-02, -1.97835542e-02, -1.30983677e-02,\n",
       "         5.95240573e-03,  1.52447311e-01,  6.98900448e-01,\n",
       "        -1.56136261e-01,  4.21020215e-03,  9.35429474e-02,\n",
       "         2.25770629e-03,  2.54257561e-02,  5.77474689e-01,\n",
       "         3.01220763e-01, -7.15544805e-02,  1.57172129e-02,\n",
       "         4.88994718e-02, -1.40032572e-01],\n",
       "       [ 5.78884762e-03,  2.40686556e-02, -6.20340700e-03,\n",
       "         4.54376223e-02,  1.10656631e-01,  4.75086917e-02,\n",
       "        -9.71385829e-04,  1.69232383e-01, -2.38206078e-01,\n",
       "         1.67731438e-01,  3.07260269e-04, -7.59032253e-02,\n",
       "        -2.81288627e-02,  4.63913333e-02, -1.80096789e-01,\n",
       "         9.03554060e-01, -1.01144065e-01,  3.72464492e-02,\n",
       "        -4.72661549e-03, -8.73566955e-03],\n",
       "       [ 2.77058554e-02, -1.08134753e-02, -1.27354571e-02,\n",
       "         9.24432993e-03,  3.50488582e-02,  9.80927104e-01,\n",
       "        -8.05612626e-04, -7.13489981e-03,  2.86955602e-02,\n",
       "         2.85909561e-02, -9.81234394e-03,  1.34214267e-01,\n",
       "        -1.84997653e-02,  1.96172854e-02,  2.21000910e-02,\n",
       "        -3.23302807e-02,  3.82494631e-02, -2.14466458e-02,\n",
       "         2.05533020e-02,  1.04943102e-01],\n",
       "       [ 9.98543634e-01,  4.10983539e-03, -1.57326930e-02,\n",
       "        -2.08205936e-03, -6.04507871e-03, -2.97142828e-02,\n",
       "        -2.91054656e-02, -5.21221283e-03, -4.07483149e-03,\n",
       "        -1.68074305e-03,  2.44254754e-03, -6.12349976e-03,\n",
       "        -1.96734467e-03, -3.14095477e-03, -7.84611401e-03,\n",
       "        -5.06355203e-03,  8.05635662e-03,  3.63287401e-03,\n",
       "        -7.40142281e-03,  2.34814381e-02],\n",
       "       [ 6.09921919e-03,  1.54603304e-03,  9.49715314e-01,\n",
       "        -6.10940204e-04,  6.39942586e-03,  9.71887306e-03,\n",
       "        -3.12377587e-01,  9.46068704e-03,  6.30792916e-04,\n",
       "        -2.25187421e-03,  2.06307122e-03,  8.31946837e-03,\n",
       "        -1.55646875e-03,  8.62391300e-04,  2.27893879e-03,\n",
       "         5.12584330e-03,  2.34572131e-03, -1.66552637e-03,\n",
       "        -1.92937203e-04,  8.61979459e-03],\n",
       "       [ 3.22531719e-02,  1.32186141e-03,  3.11952304e-01,\n",
       "         1.45383164e-03, -6.68634849e-03,  3.94700005e-03,\n",
       "         9.49310643e-01,  3.03393261e-03, -2.98414692e-03,\n",
       "        -2.67971586e-03, -1.33507869e-03, -8.49699074e-03,\n",
       "         4.16033078e-03,  4.26276863e-03, -3.15637387e-03,\n",
       "         1.77797941e-03,  5.47388320e-03,  3.69385911e-03,\n",
       "         2.73085691e-03,  1.38458343e-02]])"
      ]
     },
     "execution_count": 10,
     "metadata": {},
     "output_type": "execute_result"
    }
   ],
   "source": [
    "# components\n",
    "pca.components_"
   ]
  },
  {
   "cell_type": "code",
   "execution_count": 11,
   "metadata": {},
   "outputs": [
    {
     "data": {
      "text/plain": [
       "0     0.200573\n",
       "1     0.167901\n",
       "2     0.103961\n",
       "3     0.086771\n",
       "4     0.084029\n",
       "5     0.066328\n",
       "6     0.047250\n",
       "7     0.042364\n",
       "8     0.035266\n",
       "9     0.029947\n",
       "10    0.028501\n",
       "11    0.026934\n",
       "12    0.021733\n",
       "13    0.020974\n",
       "14    0.014550\n",
       "15    0.014227\n",
       "16    0.007190\n",
       "17    0.000748\n",
       "18    0.000383\n",
       "19    0.000373\n",
       "dtype: float64"
      ]
     },
     "execution_count": 11,
     "metadata": {},
     "output_type": "execute_result"
    }
   ],
   "source": [
    "pd.Series(pca.explained_variance_ratio_) "
   ]
  },
  {
   "cell_type": "code",
   "execution_count": 12,
   "metadata": {},
   "outputs": [
    {
     "data": {
      "image/png": "[encoded data removed]",
      "text/plain": [
       "<Figure size 1080x576 with 1 Axes>"
      ]
     },
     "metadata": {
      "needs_background": "light"
     },
     "output_type": "display_data"
    }
   ],
   "source": [
    "plt.style.use(\"seaborn-pastel\")\n",
    "plt.figure(figsize=(15,8))\n",
    "\n",
    "exp_var = pd.Series(pca.explained_variance_ratio_) \n",
    "exp_var.plot(kind=\"bar\", alpha=0.7) # plot bar chart\n",
    "\n",
    "# Calculate the amount of variance explained added by each additional component\n",
    "total = 0\n",
    "var_ls = []\n",
    "for x in exp_var:\n",
    "    total = total+x\n",
    "    var_ls.append(total)\n",
    "\n",
    "pd.Series(var_ls).plot(marker=\"o\", alpha=0.7, color = 'red' ) #plot line chart of increasing variances\n",
    "\n",
    "plt.xlabel(\"Principle Components\", fontsize=\"x-large\")\n",
    "plt.ylabel(\"Percentage Variance Explained\", fontsize=\"x-large\")\n",
    "plt.title(\"Diabetes Scree Plot\", fontsize=\"xx-large\")\n",
    "plt.show();"
   ]
  },
  {
   "cell_type": "code",
   "execution_count": 13,
   "metadata": {},
   "outputs": [],
   "source": [
    "# Instantiate Standard Scaler\n",
    "scaler = StandardScaler()\n",
    "\n",
    "# Fit & transform data\n",
    "X_train_sc = scaler.fit_transform(X_train)\n",
    "\n",
    "X_test_sc = scaler.transform(X_test)"
   ]
  },
  {
   "cell_type": "code",
   "execution_count": 14,
   "metadata": {},
   "outputs": [],
   "source": [
    "# Fit PCA\n",
    "pca = PCA(n_components = 9)\n",
    "X_train_pca = pca.fit_transform(X_train_sc)\n",
    "X_test_pca = pca.transform(X_test_sc)\n",
    "\n",
    "# Created two model to compare training time\n",
    "logreg_noPCA = LogisticRegression(max_iter=1230) # Set max_iter so model reaches convergence\n",
    "\n",
    "logreg = LogisticRegression()"
   ]
  },
  {
   "cell_type": "code",
   "execution_count": 15,
   "metadata": {},
   "outputs": [
    {
     "name": "stdout",
     "output_type": "stream",
     "text": [
      "Measure how long it takes to train WITHOUT PCA\n",
      "15.8 ms ± 472 µs per loop (mean ± std. dev. of 7 runs, 100 loops each)\n",
      "\n",
      "Measure how long it takes to train WITH PCA\n",
      "4.3 ms ± 94.8 µs per loop (mean ± std. dev. of 7 runs, 100 loops each)\n"
     ]
    }
   ],
   "source": [
    "# Measure how long it takes to train WITHOUT PCA\n",
    "\n",
    "print('Measure how long it takes to train WITHOUT PCA')\n",
    "%timeit logreg_noPCA.fit(X_train, y_train)\n",
    "\n",
    "print()\n",
    "\n",
    "# Measure how long it takes to train with PCA\n",
    "\n",
    "print('Measure how long it takes to train WITH PCA')\n",
    "%timeit logreg.fit(X_train_pca, y_train)"
   ]
  },
  {
   "cell_type": "code",
   "execution_count": 16,
   "metadata": {},
   "outputs": [
    {
     "name": "stdout",
     "output_type": "stream",
     "text": [
      "PCA Training accuracy: 0.9350515463917526\n",
      "PCA Testing accuracy: 0.9300411522633745\n"
     ]
    }
   ],
   "source": [
    "# PCA Model\n",
    "print('PCA Training accuracy:',logreg.score(X_train_pca, y_train)) \n",
    "print('PCA Testing accuracy:', logreg.score(X_test_pca, y_test))"
   ]
  },
  {
   "cell_type": "markdown",
   "metadata": {},
   "source": [
    "## KMeans"
   ]
  },
  {
   "cell_type": "markdown",
   "metadata": {},
   "source": [
    "### Elbow Graph"
   ]
  },
  {
   "cell_type": "code",
   "execution_count": 18,
   "metadata": {},
   "outputs": [],
   "source": [
    "df1 = df.copy()\n",
    "\n",
    "X1= df1.drop('Victim of cybercrime',axis=1)"
   ]
  },
  {
   "cell_type": "code",
   "execution_count": 19,
   "metadata": {},
   "outputs": [
    {
     "data": {
      "image/png": "[encoded data removed]",
      "text/plain": [
       "<Figure size 432x288 with 1 Axes>"
      ]
     },
     "metadata": {
      "needs_background": "light"
     },
     "output_type": "display_data"
    }
   ],
   "source": [
    "# The elbow method depends on WCSS which stands for Within Cluster Sum of Squares\n",
    "\n",
    "wcss = []\n",
    "# Note: We are using K-mean++ to avoid the random initialization trap \n",
    "# Note: We are creating a plot of the WCSS for upto 10 clusters using the for loop\n",
    "# The measurement we are using is the inertia \n",
    "\n",
    "for i in range(1, 11):\n",
    "    kmeans = KMeans(n_clusters = i, init = 'k-means++', random_state = 123)\n",
    "    kmeans.fit(X1)\n",
    "    wcss.append(kmeans.inertia_)\n",
    "    \n",
    "plt.plot(range(1, 11), wcss)\n",
    "plt.title('The Elbow Method')\n",
    "plt.xlabel('Number of clusters')\n",
    "plt.ylabel('WCSS')\n",
    "plt.show()\n",
    "\n",
    "# From the plot we can see that the optimal number of clusters in 3  "
   ]
  },
  {
   "cell_type": "code",
   "execution_count": 20,
   "metadata": {},
   "outputs": [
    {
     "name": "stdout",
     "output_type": "stream",
     "text": [
      "   Age  Education level  Number of use Internet and Internet-related services  \\\n",
      "0    0                3                                                  2      \n",
      "1    0                2                                                  2      \n",
      "2    0                2                                                  2      \n",
      "3    0                2                                                  2      \n",
      "4    0                2                                                  2      \n",
      "\n",
      "   Internet/ Digital devices skills level  Secure of person's digital devices  \\\n",
      "0                                       1                                   3   \n",
      "1                                       1                                   4   \n",
      "2                                       1                                   4   \n",
      "3                                       1                                   4   \n",
      "4                                       1                                   4   \n",
      "\n",
      "   Legitimacy of a website  Password with personal information  \\\n",
      "0                        4                                   0   \n",
      "1                        0                                   4   \n",
      "2                        3                                   3   \n",
      "3                        2                                   0   \n",
      "4                        3                                   1   \n",
      "\n",
      "   Aware of the danger of clicking pop-up screens  \\\n",
      "0                                               4   \n",
      "1                                               4   \n",
      "2                                               4   \n",
      "3                                               3   \n",
      "4                                               4   \n",
      "\n",
      "   Attention to person's account privacy  \\\n",
      "0                                      4   \n",
      "1                                      4   \n",
      "2                                      4   \n",
      "3                                      1   \n",
      "4                                      3   \n",
      "\n",
      "   Protection of social media services for personal info  ...  etc.1  \\\n",
      "0                                                  2      ...      1   \n",
      "1                                                  3      ...      1   \n",
      "2                                                  3      ...      1   \n",
      "3                                                  3      ...      1   \n",
      "4                                                  2      ...      1   \n",
      "\n",
      "   Government websites (e.g. CERT)1  \\\n",
      "0                                 0   \n",
      "1                                 0   \n",
      "2                                 0   \n",
      "3                                 0   \n",
      "4                                 0   \n",
      "\n",
      "   I do not feel that I keep myself updated1  Rely on automatic updates1  \\\n",
      "0                                          0                           0   \n",
      "1                                          0                           0   \n",
      "2                                          0                           0   \n",
      "3                                          0                           0   \n",
      "4                                          0                           0   \n",
      "\n",
      "   Internet service provider ISPs1  \\\n",
      "0                                0   \n",
      "1                                0   \n",
      "2                                0   \n",
      "3                                0   \n",
      "4                                0   \n",
      "\n",
      "   Other- Messages from Communication Company1  Others: Twitter1  \\\n",
      "0                                            0                 0   \n",
      "1                                            0                 0   \n",
      "2                                            0                 0   \n",
      "3                                            0                 0   \n",
      "4                                            0                 0   \n",
      "\n",
      "   Other- Twitter1  etc..1  Cluster  \n",
      "0                0       0        0  \n",
      "1                0       0        1  \n",
      "2                0       0        2  \n",
      "3                0       0        0  \n",
      "4                0       0        1  \n",
      "\n",
      "[5 rows x 225 columns]\n"
     ]
    }
   ],
   "source": [
    "kmeans = KMeans(n_clusters=3)\n",
    "\n",
    "y = kmeans.fit_predict(X1)\n",
    "\n",
    "df1['Cluster'] = y\n",
    "\n",
    "print(df1.head())"
   ]
  },
  {
   "cell_type": "code",
   "execution_count": 21,
   "metadata": {},
   "outputs": [
    {
     "data": {
      "text/plain": [
       "<AxesSubplot:xlabel='component1', ylabel='component2'>"
      ]
     },
     "execution_count": 21,
     "metadata": {},
     "output_type": "execute_result"
    },
    {
     "data": {
      "image/png": "[encoded data removed]",
      "text/plain": [
       "<Figure size 432x288 with 1 Axes>"
      ]
     },
     "metadata": {
      "needs_background": "light"
     },
     "output_type": "display_data"
    }
   ],
   "source": [
    "\n",
    "embedding = MDS(n_components=2)\n",
    "mds = pd.DataFrame(embedding.fit_transform(df1.drop(['Cluster','Victim of cybercrime'],axis=1)),\n",
    "             columns = ['component1','component2'])\n",
    "mds['cluster'] = df1['Cluster'] \n",
    "\n",
    "sns.scatterplot(data=mds,x = \"component1\",y=\"component2\",hue=\"cluster\")"
   ]
  }
 ],
 "metadata": {
  "interpreter": {
   "hash": "95d73d6fd1cff5fb2f41ff3c75621fd967f90acca1c16714a7d5860f4cfbfbc9"
  },
  "kernelspec": {
   "display_name": "Python 3 (ipykernel)",
   "language": "python",
   "name": "python3"
  },
  "language_info": {
   "codemirror_mode": {
    "name": "ipython",
    "version": 3
   },
   "file_extension": ".py",
   "mimetype": "text/x-python",
   "name": "python",
   "nbconvert_exporter": "python",
   "pygments_lexer": "ipython3",
   "version": "3.7.7"
  },
  "varInspector": {
   "cols": {
    "lenName": 16,
    "lenType": 16,
    "lenVar": 40
   },
   "kernels_config": {
    "python": {
     "delete_cmd_postfix": "",
     "delete_cmd_prefix": "del ",
     "library": "var_list.py",
     "varRefreshCmd": "print(var_dic_list())"
    },
    "r": {
     "delete_cmd_postfix": ") ",
     "delete_cmd_prefix": "rm(",
     "library": "var_list.r",
     "varRefreshCmd": "cat(var_dic_list()) "
    }
   },
   "types_to_exclude": [
    "module",
    "function",
    "builtin_function_or_method",
    "instance",
    "_Feature"
   ],
   "window_display": false
  }
 },
 "nbformat": 4,
 "nbformat_minor": 2
}
