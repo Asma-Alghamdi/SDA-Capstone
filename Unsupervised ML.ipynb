{
 "cells": [
  {
   "cell_type": "code",
   "execution_count": 100,
   "metadata": {},
   "outputs": [],
   "source": [
    "import matplotlib.pyplot as plt\n",
    "import pandas as pd\n",
    "import seaborn as sns\n",
    "from sklearn.tree import DecisionTreeClassifier\n",
    "from sklearn.model_selection import train_test_split\n",
    "from sklearn.linear_model import LogisticRegression\n",
    "from sklearn import metrics\n",
    "from sklearn.ensemble import RandomForestClassifier\n",
    "\n",
    "from sklearn.preprocessing import LabelEncoder, StandardScaler\n",
    "from sklearn.decomposition import PCA\n",
    "\n",
    "from sklearn.metrics import accuracy_score, roc_auc_score\n",
    "from sklearn import datasets\n",
    "\n",
    "from sklearn.cluster import KMeans\n",
    "\n",
    "from sklearn.cluster import AgglomerativeClustering\n",
    "\n",
    "import scipy.cluster.hierarchy as sch\n",
    "import seaborn as sns"
   ]
  },
  {
   "cell_type": "code",
   "execution_count": 2,
   "metadata": {},
   "outputs": [
    {
     "data": {
      "text/html": [
       "<div>\n",
       "<style scoped>\n",
       "    .dataframe tbody tr th:only-of-type {\n",
       "        vertical-align: middle;\n",
       "    }\n",
       "\n",
       "    .dataframe tbody tr th {\n",
       "        vertical-align: top;\n",
       "    }\n",
       "\n",
       "    .dataframe thead th {\n",
       "        text-align: right;\n",
       "    }\n",
       "</style>\n",
       "<table border=\"1\" class=\"dataframe\">\n",
       "  <thead>\n",
       "    <tr style=\"text-align: right;\">\n",
       "      <th></th>\n",
       "      <th>Age</th>\n",
       "      <th>Education level</th>\n",
       "      <th>Number of use Internet and Internet-related services</th>\n",
       "      <th>Internet/ Digital devices skills level</th>\n",
       "      <th>Secure of person's digital devices</th>\n",
       "      <th>Legitimacy of a website</th>\n",
       "      <th>Password with personal information</th>\n",
       "      <th>Aware of the danger of clicking pop-up screens</th>\n",
       "      <th>Attention to person's account privacy</th>\n",
       "      <th>Protection of social media services for personal info</th>\n",
       "      <th>...</th>\n",
       "      <th>blogs1</th>\n",
       "      <th>etc.1</th>\n",
       "      <th>Government websites (e.g. CERT)1</th>\n",
       "      <th>I do not feel that I keep myself updated1</th>\n",
       "      <th>Rely on automatic updates1</th>\n",
       "      <th>Internet service provider ISPs1</th>\n",
       "      <th>Other- Messages from Communication Company1</th>\n",
       "      <th>Others: Twitter1</th>\n",
       "      <th>Other- Twitter1</th>\n",
       "      <th>etc..1</th>\n",
       "    </tr>\n",
       "  </thead>\n",
       "  <tbody>\n",
       "    <tr>\n",
       "      <th>0</th>\n",
       "      <td>0</td>\n",
       "      <td>3</td>\n",
       "      <td>2</td>\n",
       "      <td>1</td>\n",
       "      <td>3</td>\n",
       "      <td>4</td>\n",
       "      <td>0</td>\n",
       "      <td>4</td>\n",
       "      <td>4</td>\n",
       "      <td>2</td>\n",
       "      <td>...</td>\n",
       "      <td>1</td>\n",
       "      <td>1</td>\n",
       "      <td>0</td>\n",
       "      <td>0</td>\n",
       "      <td>0</td>\n",
       "      <td>0</td>\n",
       "      <td>0</td>\n",
       "      <td>0</td>\n",
       "      <td>0</td>\n",
       "      <td>0</td>\n",
       "    </tr>\n",
       "    <tr>\n",
       "      <th>1</th>\n",
       "      <td>0</td>\n",
       "      <td>2</td>\n",
       "      <td>2</td>\n",
       "      <td>1</td>\n",
       "      <td>4</td>\n",
       "      <td>0</td>\n",
       "      <td>4</td>\n",
       "      <td>4</td>\n",
       "      <td>4</td>\n",
       "      <td>3</td>\n",
       "      <td>...</td>\n",
       "      <td>1</td>\n",
       "      <td>1</td>\n",
       "      <td>0</td>\n",
       "      <td>0</td>\n",
       "      <td>0</td>\n",
       "      <td>0</td>\n",
       "      <td>0</td>\n",
       "      <td>0</td>\n",
       "      <td>0</td>\n",
       "      <td>0</td>\n",
       "    </tr>\n",
       "    <tr>\n",
       "      <th>2</th>\n",
       "      <td>0</td>\n",
       "      <td>2</td>\n",
       "      <td>2</td>\n",
       "      <td>1</td>\n",
       "      <td>4</td>\n",
       "      <td>3</td>\n",
       "      <td>3</td>\n",
       "      <td>4</td>\n",
       "      <td>4</td>\n",
       "      <td>3</td>\n",
       "      <td>...</td>\n",
       "      <td>1</td>\n",
       "      <td>1</td>\n",
       "      <td>0</td>\n",
       "      <td>0</td>\n",
       "      <td>0</td>\n",
       "      <td>0</td>\n",
       "      <td>0</td>\n",
       "      <td>0</td>\n",
       "      <td>0</td>\n",
       "      <td>0</td>\n",
       "    </tr>\n",
       "    <tr>\n",
       "      <th>3</th>\n",
       "      <td>0</td>\n",
       "      <td>2</td>\n",
       "      <td>2</td>\n",
       "      <td>1</td>\n",
       "      <td>4</td>\n",
       "      <td>2</td>\n",
       "      <td>0</td>\n",
       "      <td>3</td>\n",
       "      <td>1</td>\n",
       "      <td>3</td>\n",
       "      <td>...</td>\n",
       "      <td>1</td>\n",
       "      <td>1</td>\n",
       "      <td>0</td>\n",
       "      <td>0</td>\n",
       "      <td>0</td>\n",
       "      <td>0</td>\n",
       "      <td>0</td>\n",
       "      <td>0</td>\n",
       "      <td>0</td>\n",
       "      <td>0</td>\n",
       "    </tr>\n",
       "    <tr>\n",
       "      <th>4</th>\n",
       "      <td>0</td>\n",
       "      <td>2</td>\n",
       "      <td>2</td>\n",
       "      <td>1</td>\n",
       "      <td>4</td>\n",
       "      <td>3</td>\n",
       "      <td>1</td>\n",
       "      <td>4</td>\n",
       "      <td>3</td>\n",
       "      <td>2</td>\n",
       "      <td>...</td>\n",
       "      <td>1</td>\n",
       "      <td>1</td>\n",
       "      <td>0</td>\n",
       "      <td>0</td>\n",
       "      <td>0</td>\n",
       "      <td>0</td>\n",
       "      <td>0</td>\n",
       "      <td>0</td>\n",
       "      <td>0</td>\n",
       "      <td>0</td>\n",
       "    </tr>\n",
       "  </tbody>\n",
       "</table>\n",
       "<p>5 rows × 224 columns</p>\n",
       "</div>"
      ],
      "text/plain": [
       "   Age  Education level  Number of use Internet and Internet-related services  \\\n",
       "0    0                3                                                  2      \n",
       "1    0                2                                                  2      \n",
       "2    0                2                                                  2      \n",
       "3    0                2                                                  2      \n",
       "4    0                2                                                  2      \n",
       "\n",
       "   Internet/ Digital devices skills level  Secure of person's digital devices  \\\n",
       "0                                       1                                   3   \n",
       "1                                       1                                   4   \n",
       "2                                       1                                   4   \n",
       "3                                       1                                   4   \n",
       "4                                       1                                   4   \n",
       "\n",
       "   Legitimacy of a website  Password with personal information  \\\n",
       "0                        4                                   0   \n",
       "1                        0                                   4   \n",
       "2                        3                                   3   \n",
       "3                        2                                   0   \n",
       "4                        3                                   1   \n",
       "\n",
       "   Aware of the danger of clicking pop-up screens  \\\n",
       "0                                               4   \n",
       "1                                               4   \n",
       "2                                               4   \n",
       "3                                               3   \n",
       "4                                               4   \n",
       "\n",
       "   Attention to person's account privacy  \\\n",
       "0                                      4   \n",
       "1                                      4   \n",
       "2                                      4   \n",
       "3                                      1   \n",
       "4                                      3   \n",
       "\n",
       "   Protection of social media services for personal info  ...  blogs1  etc.1  \\\n",
       "0                                                  2      ...       1      1   \n",
       "1                                                  3      ...       1      1   \n",
       "2                                                  3      ...       1      1   \n",
       "3                                                  3      ...       1      1   \n",
       "4                                                  2      ...       1      1   \n",
       "\n",
       "   Government websites (e.g. CERT)1  \\\n",
       "0                                 0   \n",
       "1                                 0   \n",
       "2                                 0   \n",
       "3                                 0   \n",
       "4                                 0   \n",
       "\n",
       "   I do not feel that I keep myself updated1  Rely on automatic updates1  \\\n",
       "0                                          0                           0   \n",
       "1                                          0                           0   \n",
       "2                                          0                           0   \n",
       "3                                          0                           0   \n",
       "4                                          0                           0   \n",
       "\n",
       "   Internet service provider ISPs1  \\\n",
       "0                                0   \n",
       "1                                0   \n",
       "2                                0   \n",
       "3                                0   \n",
       "4                                0   \n",
       "\n",
       "   Other- Messages from Communication Company1  Others: Twitter1  \\\n",
       "0                                            0                 0   \n",
       "1                                            0                 0   \n",
       "2                                            0                 0   \n",
       "3                                            0                 0   \n",
       "4                                            0                 0   \n",
       "\n",
       "   Other- Twitter1  etc..1  \n",
       "0                0       0  \n",
       "1                0       0  \n",
       "2                0       0  \n",
       "3                0       0  \n",
       "4                0       0  \n",
       "\n",
       "[5 rows x 224 columns]"
      ]
     },
     "execution_count": 2,
     "metadata": {},
     "output_type": "execute_result"
    }
   ],
   "source": [
    "df = pd.read_csv('Enumerated dataset.csv')\n",
    "df.head()"
   ]
  },
  {
   "cell_type": "code",
   "execution_count": 3,
   "metadata": {},
   "outputs": [
    {
     "data": {
      "text/plain": [
       "(1213, 224)"
      ]
     },
     "execution_count": 3,
     "metadata": {},
     "output_type": "execute_result"
    }
   ],
   "source": [
    "df.shape"
   ]
  },
  {
   "cell_type": "code",
   "execution_count": 4,
   "metadata": {},
   "outputs": [
    {
     "data": {
      "text/plain": [
       "Victim of cybercrime                                                                                 1.000000\n",
       "Bank                                                                                                 0.145149\n",
       "Online personal information is not secure enough                                                     0.135610\n",
       "No one                                                                                               0.109586\n",
       "Responsibility of those offering online/Internet-based servicesin raising awareness of cybercrime    0.105763\n",
       "                                                                                                       ...   \n",
       "I don't know.1                                                                                      -0.086462\n",
       "Don’t know but will ask my friends for advice                                                       -0.106505\n",
       "Well protected against cybercrime                                                                   -0.106858\n",
       "Laws are effective in managing the cybercrime problem                                               -0.121328\n",
       "Report cybercrime                                                                                   -0.897771\n",
       "Length: 224, dtype: float64"
      ]
     },
     "execution_count": 4,
     "metadata": {},
     "output_type": "execute_result"
    }
   ],
   "source": [
    "# Checking the correlation for the data of our target ( Victim of cybercrime )\n",
    "#The dataset contain too many columns, correlation map will not be useful\n",
    "df.corrwith(df[\"Victim of cybercrime\"]).sort_values( ascending=False)"
   ]
  },
  {
   "cell_type": "code",
   "execution_count": 5,
   "metadata": {},
   "outputs": [
    {
     "data": {
      "text/plain": [
       "['Bank',\n",
       " 'Online personal information is not secure enough',\n",
       " 'No one',\n",
       " 'Responsibility of those offering online/Internet-based servicesin raising awareness of cybercrime',\n",
       " 'Education level',\n",
       " 'Role of the government in combating cybercrimes_No role',\n",
       " 'Apple store',\n",
       " 'Education',\n",
       " 'Government or professional reports',\n",
       " 'PIN)']"
      ]
     },
     "execution_count": 5,
     "metadata": {},
     "output_type": "execute_result"
    }
   ],
   "source": [
    "# Finding the best features to use for the traning and store it\n",
    "corrArray=df.corrwith(df['Victim of cybercrime']).sort_values( ascending=False)\n",
    "# pick the best 10 columns. 5 from the top and 5 from the last\n",
    "first5=corrArray[1:11]\n",
    "first5= list(first5.index)\n",
    "first5"
   ]
  },
  {
   "cell_type": "code",
   "execution_count": 6,
   "metadata": {},
   "outputs": [
    {
     "data": {
      "text/plain": [
       "['Legitimacy of a website',\n",
       " 'Role of the government in combating cybercrimes_Have stricter laws and punishments for cyber crimes',\n",
       " 'Concerned about encountering material promotes hatred or religious extremism',\n",
       " 'Concerned about receiving phishing emails',\n",
       " 'I do not feel that I keep myself updated',\n",
       " \"I don't know.1\",\n",
       " 'Don’t know but will ask my friends for advice',\n",
       " 'Well protected against cybercrime',\n",
       " 'Laws are effective in managing the cybercrime problem',\n",
       " 'Report cybercrime']"
      ]
     },
     "execution_count": 6,
     "metadata": {},
     "output_type": "execute_result"
    }
   ],
   "source": [
    "# Finding the best features to use for the traning and store it\n",
    "corrArray=df.corrwith(df['Victim of cybercrime']).sort_values( ascending=False)\n",
    "# pick the best 20 columns. 10 from the top and 10 from the last\n",
    "last5=corrArray[-10:]\n",
    "last5= list(last5.index)\n",
    "last5"
   ]
  },
  {
   "cell_type": "markdown",
   "metadata": {},
   "source": [
    "## PCA"
   ]
  },
  {
   "cell_type": "code",
   "execution_count": 7,
   "metadata": {},
   "outputs": [],
   "source": [
    "# Selecting features\n",
    "# Save X data\n",
    "X = df[first5 + last5]\n",
    "\n",
    "# Encode our target\n",
    "le = LabelEncoder()\n",
    "y = le.fit_transform(df['Victim of cybercrime'])"
   ]
  },
  {
   "cell_type": "code",
   "execution_count": 8,
   "metadata": {},
   "outputs": [],
   "source": [
    "# Train test split\n",
    "X_train, X_test, y_train, y_test = train_test_split(X, y, test_size= 0.20)"
   ]
  },
  {
   "cell_type": "code",
   "execution_count": 9,
   "metadata": {},
   "outputs": [
    {
     "data": {
      "text/plain": [
       "PCA()"
      ]
     },
     "execution_count": 9,
     "metadata": {},
     "output_type": "execute_result"
    }
   ],
   "source": [
    "# Instantiate & fit data using PCA\n",
    "pca = PCA()\n",
    "pca.fit(X_train)"
   ]
  },
  {
   "cell_type": "code",
   "execution_count": 10,
   "metadata": {},
   "outputs": [
    {
     "data": {
      "text/plain": [
       "array([[ 9.35010246e-04,  6.57006753e-02,  5.11011496e-04,\n",
       "        -6.11542016e-03,  7.46754662e-02,  5.22695096e-03,\n",
       "         4.30790650e-03,  7.17949904e-02,  2.51238815e-02,\n",
       "         5.59258609e-02, -2.98836162e-01, -7.04717257e-02,\n",
       "         3.80984964e-02,  8.19206893e-02,  3.00978329e-02,\n",
       "         3.35415142e-03,  4.20552203e-02, -7.13128729e-01,\n",
       "        -6.03067056e-01, -6.12299910e-02],\n",
       "       [ 1.50866245e-03, -7.19374115e-01, -1.29222558e-04,\n",
       "        -3.80082626e-01, -4.93201590e-02,  6.90054907e-04,\n",
       "        -3.22962459e-03, -6.86220367e-02, -8.28068455e-02,\n",
       "        -3.07299493e-02, -2.92590929e-01, -1.25777876e-02,\n",
       "         2.73161303e-01,  2.65749495e-01,  8.22564983e-02,\n",
       "         4.75778690e-02,  3.02041907e-02,  2.30366648e-01,\n",
       "        -1.65416279e-01,  4.12450513e-02],\n",
       "       [-2.82916391e-03, -3.78728143e-01, -7.40280090e-04,\n",
       "         2.18216602e-01,  1.14373085e-01,  1.55132242e-02,\n",
       "         4.48067253e-03,  9.01886237e-02,  1.54585541e-01,\n",
       "         9.77882525e-02,  5.53516887e-01, -5.22734564e-02,\n",
       "        -2.19476650e-01, -2.17179339e-01, -1.05137448e-01,\n",
       "        -6.38374736e-02, -7.14523041e-02,  1.86270226e-01,\n",
       "        -5.41505301e-01, -3.73275748e-02],\n",
       "       [ 6.24547543e-03, -5.22633872e-01, -4.30728525e-04,\n",
       "         6.11465864e-01,  2.30636273e-02, -4.59096787e-02,\n",
       "         5.32464981e-04,  6.12088114e-02,  2.20786771e-02,\n",
       "         5.68624607e-02, -7.43171559e-02,  7.74636195e-02,\n",
       "         4.37176037e-02, -3.66665866e-02,  1.83991608e-02,\n",
       "        -3.03419675e-02, -1.73852760e-02, -3.80551123e-01,\n",
       "         4.25612503e-01,  2.26055312e-02],\n",
       "       [-1.87082883e-05, -8.41175554e-02,  2.56038449e-03,\n",
       "         5.21489255e-02, -7.07602473e-02,  8.93428005e-03,\n",
       "         2.79910712e-03, -1.77696251e-02, -3.82526544e-02,\n",
       "        -1.49916944e-02, -5.97338664e-01, -2.30084132e-02,\n",
       "        -5.20615289e-01, -5.46939480e-01,  4.74396069e-02,\n",
       "         1.48873316e-02,  3.83838575e-02,  2.09841109e-01,\n",
       "        -6.96460941e-02, -5.23874588e-02],\n",
       "       [-2.84854130e-03, -2.03840792e-01,  4.91764020e-04,\n",
       "        -5.81229077e-01, -1.46257942e-01, -1.63167915e-02,\n",
       "         4.05348155e-03, -6.16983672e-02, -7.20861142e-02,\n",
       "        -2.28441007e-02,  3.37938545e-01,  9.59565760e-02,\n",
       "        -1.69839498e-01, -4.09659053e-01,  4.42035253e-02,\n",
       "         9.71493917e-02,  4.26828278e-03, -4.46714078e-01,\n",
       "         2.32589627e-01,  6.53959976e-02],\n",
       "       [-7.43538765e-03,  6.14725836e-02,  2.76542874e-03,\n",
       "         2.82509322e-01, -4.74768706e-01,  3.74931733e-02,\n",
       "        -5.03762736e-03, -3.67449769e-01, -2.78337273e-01,\n",
       "        -2.62056005e-01,  1.13620675e-01, -1.71405310e-02,\n",
       "         3.55437619e-01, -2.73137865e-01,  3.46914298e-01,\n",
       "         1.52139875e-01,  3.64245124e-02,  2.57359390e-02,\n",
       "        -2.17062143e-01,  4.00141604e-02],\n",
       "       [ 8.94788060e-03,  5.32857973e-02,  2.19637906e-03,\n",
       "        -7.41669567e-02,  1.94550306e-01,  1.80669419e-02,\n",
       "         3.10759456e-03,  1.81495082e-01,  1.78834810e-01,\n",
       "         2.31628403e-01, -1.23275889e-01,  3.26477842e-02,\n",
       "         6.57033884e-01, -5.49317719e-01, -1.70460782e-01,\n",
       "        -6.25972036e-02, -1.72671883e-01,  6.76690478e-02,\n",
       "         1.80221087e-02, -1.31961986e-01],\n",
       "       [ 2.89907424e-03, -2.75150437e-02,  6.29986132e-03,\n",
       "        -4.35192236e-04, -3.21773966e-01,  4.16001281e-02,\n",
       "         5.07421242e-04, -2.52632343e-01,  2.88024304e-01,\n",
       "        -3.18331920e-01, -9.03984009e-02,  1.18679892e-01,\n",
       "        -4.82359814e-02,  8.76662202e-02, -5.06269661e-01,\n",
       "         1.52356923e-02, -5.81830691e-01, -6.61620880e-02,\n",
       "        -2.60318730e-02, -1.15831872e-01],\n",
       "       [ 6.90831881e-04,  4.51362567e-02,  3.19347509e-03,\n",
       "         7.58291940e-03, -6.21158404e-01, -5.49394384e-02,\n",
       "        -6.49860219e-04,  2.46814318e-01,  2.80274288e-02,\n",
       "         6.16994056e-01, -2.00489735e-02,  3.76277082e-01,\n",
       "        -3.87895519e-02,  1.10661330e-01,  8.52903320e-03,\n",
       "        -3.54455406e-02, -1.40305478e-02,  4.80180476e-02,\n",
       "        -6.87058389e-02,  4.86243843e-02],\n",
       "       [-2.45869886e-03, -3.48607002e-02,  8.14556123e-03,\n",
       "        -2.21392871e-02, -3.58597811e-01,  1.04127019e-01,\n",
       "        -1.09501981e-02,  1.08223691e-02,  2.47570126e-01,\n",
       "         1.71411011e-01,  1.95662950e-02, -8.22323206e-01,\n",
       "         1.97111259e-02,  1.11825308e-02, -1.26994385e-01,\n",
       "         1.71338800e-02,  1.96583158e-01, -3.16189543e-02,\n",
       "         1.28097138e-01, -1.35244375e-01],\n",
       "       [-1.48408014e-02,  6.23894344e-03, -8.53211686e-03,\n",
       "         3.93712855e-02, -9.73566855e-02, -7.81590193e-02,\n",
       "        -6.87335106e-03,  6.14607580e-02,  3.40575640e-01,\n",
       "        -2.65899980e-01, -3.68546009e-02,  2.01104921e-01,\n",
       "         9.79022350e-02, -8.21700256e-02, -3.78249071e-01,\n",
       "         1.32166798e-01,  6.05757670e-01,  1.39215760e-02,\n",
       "        -6.39067557e-02,  4.49569425e-01],\n",
       "       [ 1.89655201e-03, -2.31705806e-03,  2.90663920e-03,\n",
       "         1.93810261e-02,  1.94466141e-01, -6.98846947e-03,\n",
       "         6.88100410e-03, -7.22358285e-01,  1.61705892e-01,\n",
       "         4.11621505e-01,  4.24942963e-03,  1.70573854e-01,\n",
       "        -2.49105960e-02,  2.91714793e-02, -1.00060947e-01,\n",
       "         2.27415307e-01,  2.53210719e-01, -6.25430968e-03,\n",
       "         1.42693327e-02, -2.96036857e-01],\n",
       "       [ 1.52232072e-02, -4.38053397e-02,  5.54553851e-03,\n",
       "        -6.88225919e-03, -1.27581784e-01,  7.76231587e-02,\n",
       "         5.25660572e-03,  2.82733335e-01, -1.48733442e-01,\n",
       "        -2.79662828e-01,  6.00429007e-02,  2.06345652e-01,\n",
       "         1.95618068e-02,  2.74338674e-02, -1.43816500e-01,\n",
       "        -9.19536219e-04,  3.48392179e-01,  8.86346752e-03,\n",
       "         1.84915924e-02, -7.78054918e-01],\n",
       "       [ 8.77404154e-03,  9.29300316e-03,  5.46042950e-04,\n",
       "        -4.69641174e-02, -2.39988984e-02, -2.23449715e-02,\n",
       "         6.61947872e-03,  8.12135842e-02,  7.31774300e-01,\n",
       "        -1.63412814e-01, -3.24415339e-03,  1.20785095e-01,\n",
       "        -1.89290239e-02,  3.37223189e-02,  6.14735936e-01,\n",
       "         8.45690293e-02, -4.68532115e-02,  1.91598703e-02,\n",
       "         3.48192648e-02, -1.50985706e-01],\n",
       "       [ 5.87223221e-04,  1.08203232e-02, -6.03698612e-03,\n",
       "         5.75707600e-02,  7.48778069e-02,  3.53213845e-02,\n",
       "        -5.76640531e-04,  2.62910166e-01, -8.02568830e-02,\n",
       "         4.90167334e-02,  3.59966163e-03, -5.45421341e-02,\n",
       "        -2.29885261e-02,  3.34605559e-02, -5.03183796e-02,\n",
       "         9.36529142e-01, -1.61797204e-01,  3.52625146e-02,\n",
       "        -5.33834670e-04,  5.90218592e-03],\n",
       "       [ 1.33825559e-02, -1.30309706e-02, -1.44634768e-02,\n",
       "         9.32003808e-03,  2.88738013e-02,  9.82675529e-01,\n",
       "        -1.92665184e-03,  3.92529579e-03,  2.76121951e-02,\n",
       "         3.45229458e-02, -8.60260406e-03,  1.15301238e-01,\n",
       "        -1.44254223e-02,  1.20874080e-02,  2.41540296e-02,\n",
       "        -2.76437544e-02,  3.18489738e-02, -2.02598272e-02,\n",
       "         2.21672893e-02,  1.17942308e-01],\n",
       "       [ 9.98589055e-01,  3.41271034e-03, -2.42914606e-02,\n",
       "        -7.46928926e-04, -5.00869547e-03, -1.51105092e-02,\n",
       "        -3.65083114e-02, -7.10314279e-03, -3.33251745e-03,\n",
       "        -2.64488776e-03,  4.65027477e-03, -6.14019783e-03,\n",
       "        -3.43692434e-03, -1.81937464e-03, -3.99003050e-03,\n",
       "         2.40653628e-03,  6.85974426e-03,  1.63301329e-03,\n",
       "        -6.00558972e-03,  1.95151721e-02],\n",
       "       [ 1.51463404e-02, -1.64601863e-04,  9.71966058e-01,\n",
       "         4.75402034e-04,  9.98468513e-03,  1.11462601e-02,\n",
       "        -2.33645102e-01,  3.69386708e-03,  1.02201001e-04,\n",
       "        -1.51155931e-03,  1.83085910e-03,  8.27016704e-03,\n",
       "        -1.52443299e-03,  7.75477033e-04,  1.75775964e-03,\n",
       "         4.93592150e-03,  3.24094151e-03, -5.66474256e-04,\n",
       "        -1.11760765e-03,  1.04024195e-02],\n",
       "       [ 4.08646901e-02,  5.46732553e-04,  2.32803469e-01,\n",
       "         1.79236039e-03, -6.49266032e-03,  4.53857629e-03,\n",
       "         9.71430795e-01,  1.49913947e-03, -3.06815107e-03,\n",
       "        -2.81818916e-03, -6.04324906e-04, -8.90806979e-03,\n",
       "         4.25339669e-03,  4.31822646e-03, -3.61068385e-03,\n",
       "         1.68848600e-03,  5.30725447e-03,  4.03451830e-03,\n",
       "         2.50580557e-03,  1.36343895e-02]])"
      ]
     },
     "execution_count": 10,
     "metadata": {},
     "output_type": "execute_result"
    }
   ],
   "source": [
    "# components\n",
    "pca.components_"
   ]
  },
  {
   "cell_type": "code",
   "execution_count": 11,
   "metadata": {},
   "outputs": [
    {
     "data": {
      "text/plain": [
       "0     0.191901\n",
       "1     0.172050\n",
       "2     0.103858\n",
       "3     0.086352\n",
       "4     0.081011\n",
       "5     0.068874\n",
       "6     0.049265\n",
       "7     0.042651\n",
       "8     0.036432\n",
       "9     0.030943\n",
       "10    0.029719\n",
       "11    0.027468\n",
       "12    0.021128\n",
       "13    0.020460\n",
       "14    0.015137\n",
       "15    0.015005\n",
       "16    0.006363\n",
       "17    0.000628\n",
       "18    0.000383\n",
       "19    0.000373\n",
       "dtype: float64"
      ]
     },
     "execution_count": 11,
     "metadata": {},
     "output_type": "execute_result"
    }
   ],
   "source": [
    "pd.Series(pca.explained_variance_ratio_) "
   ]
  },
  {
   "cell_type": "code",
   "execution_count": 12,
   "metadata": {},
   "outputs": [
    {
     "data": {
      "image/png": "[encoded data removed]",
      "text/plain": [
       "<Figure size 1080x576 with 1 Axes>"
      ]
     },
     "metadata": {
      "needs_background": "light"
     },
     "output_type": "display_data"
    }
   ],
   "source": [
    "plt.style.use(\"seaborn-pastel\")\n",
    "plt.figure(figsize=(15,8))\n",
    "\n",
    "exp_var = pd.Series(pca.explained_variance_ratio_) \n",
    "exp_var.plot(kind=\"bar\", alpha=0.7) # plot bar chart\n",
    "\n",
    "# Calculate the amount of variance explained added by each additional component\n",
    "total = 0\n",
    "var_ls = []\n",
    "for x in exp_var:\n",
    "    total = total+x\n",
    "    var_ls.append(total)\n",
    "\n",
    "pd.Series(var_ls).plot(marker=\"o\", alpha=0.7, color = 'red' ) #plot line chart of increasing variances\n",
    "\n",
    "plt.xlabel(\"Principle Components\", fontsize=\"x-large\")\n",
    "plt.ylabel(\"Percentage Variance Explained\", fontsize=\"x-large\")\n",
    "plt.title(\"Diabetes Scree Plot\", fontsize=\"xx-large\")\n",
    "plt.show();"
   ]
  },
  {
   "cell_type": "code",
   "execution_count": 13,
   "metadata": {},
   "outputs": [],
   "source": [
    "# Instantiate Standard Scaler\n",
    "scaler = StandardScaler()\n",
    "\n",
    "# Fit & transform data\n",
    "X_train_sc = scaler.fit_transform(X_train)\n",
    "\n",
    "X_test_sc = scaler.transform(X_test)"
   ]
  },
  {
   "cell_type": "code",
   "execution_count": 14,
   "metadata": {},
   "outputs": [],
   "source": [
    "# Fit PCA\n",
    "pca = PCA(n_components = 9)\n",
    "X_train_pca = pca.fit_transform(X_train_sc)\n",
    "X_test_pca = pca.transform(X_test_sc)\n",
    "\n",
    "# Created two model to compare training time\n",
    "logreg_noPCA = LogisticRegression(max_iter=1230) # Set max_iter so model reaches convergence\n",
    "\n",
    "logreg = LogisticRegression()"
   ]
  },
  {
   "cell_type": "code",
   "execution_count": 15,
   "metadata": {},
   "outputs": [
    {
     "name": "stdout",
     "output_type": "stream",
     "text": [
      "Measure how long it takes to train WITHOUT PCA\n",
      "18.7 ms ± 942 µs per loop (mean ± std. dev. of 7 runs, 100 loops each)\n",
      "\n",
      "Measure how long it takes to train WITH PCA\n",
      "4.33 ms ± 32.6 µs per loop (mean ± std. dev. of 7 runs, 100 loops each)\n"
     ]
    }
   ],
   "source": [
    "# Measure how long it takes to train WITHOUT PCA\n",
    "\n",
    "print('Measure how long it takes to train WITHOUT PCA')\n",
    "%timeit logreg_noPCA.fit(X_train, y_train)\n",
    "\n",
    "print()\n",
    "\n",
    "# Measure how long it takes to train with PCA\n",
    "\n",
    "print('Measure how long it takes to train WITH PCA')\n",
    "%timeit logreg.fit(X_train_pca, y_train)"
   ]
  },
  {
   "cell_type": "code",
   "execution_count": 16,
   "metadata": {},
   "outputs": [
    {
     "name": "stdout",
     "output_type": "stream",
     "text": [
      "PCA Training accuracy: 0.9237113402061856\n",
      "PCA Testing accuracy: 0.9053497942386831\n"
     ]
    }
   ],
   "source": [
    "# PCA Model\n",
    "print('PCA Training accuracy:',logreg.score(X_train_pca, y_train)) \n",
    "print('PCA Testing accuracy:', logreg.score(X_test_pca, y_test))"
   ]
  },
  {
   "cell_type": "markdown",
   "metadata": {},
   "source": [
    "## KMeans"
   ]
  },
  {
   "cell_type": "code",
   "execution_count": 107,
   "metadata": {},
   "outputs": [],
   "source": [
    "df1 = df[['Report cybercrime', 'Victim of cybercrime', 'Bank']]"
   ]
  },
  {
   "cell_type": "code",
   "execution_count": 108,
   "metadata": {},
   "outputs": [
    {
     "data": {
      "text/plain": [
       "array([[0, 3],\n",
       "       [0, 2],\n",
       "       [0, 2],\n",
       "       ...,\n",
       "       [0, 2],\n",
       "       [0, 2],\n",
       "       [0, 2]])"
      ]
     },
     "execution_count": 108,
     "metadata": {},
     "output_type": "execute_result"
    }
   ],
   "source": [
    "X = df.iloc[:,[0,1]].values\n",
    "X"
   ]
  },
  {
   "cell_type": "code",
   "execution_count": 110,
   "metadata": {},
   "outputs": [
    {
     "data": {
      "image/png": "[encoded data removed]",
      "text/plain": [
       "<Figure size 432x288 with 1 Axes>"
      ]
     },
     "metadata": {
      "needs_background": "light"
     },
     "output_type": "display_data"
    }
   ],
   "source": [
    "# Initial EDA to determine possible number of clusters in our data \"customer groups\"\n",
    "\n",
    "plt.scatter(X[:,0], X[:,1])\n",
    "\n",
    "plt.xlabel('Report cybercrime')\n",
    "plt.ylabel('Victim of cybercrime')\n",
    "plt.title('Report vs victim of cybercrime')\n",
    "plt.show()"
   ]
  },
  {
   "cell_type": "markdown",
   "metadata": {},
   "source": [
    "### Elbow Graph"
   ]
  },
  {
   "cell_type": "code",
   "execution_count": 92,
   "metadata": {},
   "outputs": [
    {
     "data": {
      "image/png": "[encoded data removed]",
      "text/plain": [
       "<Figure size 432x288 with 1 Axes>"
      ]
     },
     "metadata": {
      "needs_background": "light"
     },
     "output_type": "display_data"
    }
   ],
   "source": [
    "# The elbow method depends on WCSS which stands for Within Cluster Sum of Squares\n",
    "\n",
    "wcss = []\n",
    "# Note: We are using K-mean++ to avoid the random initialization trap \n",
    "# Note: We are creating a plot of the WCSS for upto 10 clusters using the for loop\n",
    "# The measurement we are using is the inertia \n",
    "\n",
    "for i in range(1, 11):\n",
    "    kmeans = KMeans(n_clusters = i, init = 'k-means++', random_state = 123)\n",
    "    kmeans.fit(X)\n",
    "    wcss.append(kmeans.inertia_)\n",
    "    \n",
    "plt.plot(range(1, 11), wcss)\n",
    "plt.title('The Elbow Method')\n",
    "plt.xlabel('Number of clusters')\n",
    "plt.ylabel('WCSS')\n",
    "plt.show()\n",
    "\n",
    "# From the plot we can see that the optimal number of clusters in 5 \n",
    "# Note: This is also based on your judgment and your understanding of the dataset "
   ]
  },
  {
   "cell_type": "code",
   "execution_count": 93,
   "metadata": {},
   "outputs": [],
   "source": [
    "kmeans = KMeans(n_clusters = 5, init = 'k-means++', random_state = 123)\n",
    "\n",
    "y_kmeans = kmeans.fit_predict(X)"
   ]
  },
  {
   "cell_type": "code",
   "execution_count": 94,
   "metadata": {},
   "outputs": [
    {
     "data": {
      "text/plain": [
       "array([1, 1, 1, ..., 1, 1, 1], dtype=int32)"
      ]
     },
     "execution_count": 94,
     "metadata": {},
     "output_type": "execute_result"
    }
   ],
   "source": [
    "y_kmeans"
   ]
  },
  {
   "cell_type": "code",
   "execution_count": 111,
   "metadata": {},
   "outputs": [
    {
     "name": "stdout",
     "output_type": "stream",
     "text": [
      "[2 2 2 2 2 2 3 2 3 2 3 3 2 2 2 2 2 2 3 2 2 3 2 2 2 2 2 2 2 2 2 2 2 2 3 2 2\n",
      " 2 2 2 2 2 3 2 2 3 2 2 2 2 2 2 2 2 3 2 2 2 2 2 2 2 2 2 2 2 2 2 2 2 2 2 2 2\n",
      " 3 2 2 2 2 2 2 3 3 3 2 2 3 2 2 3 2 2 2 2 2 3 2 2 3 2 3 3 2 3 2 2 2 2 2 3 2\n",
      " 2 3 2 2 2 2 2 2 2 2 2 2 3 2 2 2 2 2 2 2 2 2 2 2 2 3 2 2 2 2 2 2 2 3 2 2 2\n",
      " 2 2 2 2 3 2 2 2 2 2 2 2 3 3 3 2 3 3 2 3 2 2 2 2 2 3 2 3 2 2 2 2 2 2 2 2 3\n",
      " 2 3 3 2 2 2 2 2 3 2 2 2 2 2 2 2 2 2 2 2 2 2 2 2 2 2 2 2 2 2 2 2 2 2 2 2 2\n",
      " 2 2 2 2 2 2 2 2 2 2 2 2 2 2 2 2 2 2 2 2 2 2 2 2 2 2 2 2 2 2 2 2 2 2 2 2 2\n",
      " 2 2 2]\n",
      "\n",
      "\n",
      "[2 2 2 2 2 2 2 2 2 2 2 2 2 2 2 1 2 2 2 2 2 2 2 2 2 2 2 2 2 2 2 2 2 2 2 2 2\n",
      " 2 2 2 2 2 2 2 2 2 2 2 2 2 2 2 2 2 2 2 2 2 2 1 1 2 2 2 2 2 2 2 2 2 2 2 2 2\n",
      " 2 1 2 2 2 2 2 2 2 2 2 2 2 2 2 1 2 2 2 2 2 1 2 2 2 2 2 2 1 2 2 2 2 2 2 1 2\n",
      " 2 2 2 2 2 2 2 2 2 2 2 2 2 2 1 2 2 2 2 1 2 2 2 2 1 2 2 2 1 2 2 2 2 1 2 2 1\n",
      " 2 2 2 2 1 2 1 1 2 2 2 2 2 2 1 2 2 1 2 2 2 2 2 2 2 2 2 2 2 2 2 2 2 2 2 1 2\n",
      " 1 2 2 2 2 2 1 2 2 2 0 1 2 2 2 2 2 2 1 2 2 2 2 2 2 2 2 2 2 2 2 2 2 2 2 2 2\n",
      " 2 2 2 2 2 2 2 1 2 2 2 2 2 2 2 2 2 2 1 2 2 2 2 2 2 1 2 2 2 2 2 2 2 2 2 1 2\n",
      " 2 1 2]\n"
     ]
    }
   ],
   "source": [
    "# This prints the Report cybercrime in the 1st cluster --> cluster 0\n",
    "print (X[y_kmeans == 0, 0])\n",
    "\n",
    "print('\\n')\n",
    "\n",
    "# This prints the sVictim of cybercrime in the 1st cluster --> cluster 0\n",
    "print (X[y_kmeans == 0, 1])"
   ]
  },
  {
   "cell_type": "code",
   "execution_count": 96,
   "metadata": {},
   "outputs": [
    {
     "name": "stdout",
     "output_type": "stream",
     "text": [
      "[[2.14885496e+00 1.88167939e+00]\n",
      " [6.66133815e-16 2.04395604e+00]\n",
      " [1.00000000e+00 2.31736527e+00]\n",
      " [2.17391304e+00 3.00000000e+00]\n",
      " [1.46341463e-01 9.83739837e-01]]\n"
     ]
    }
   ],
   "source": [
    "# Cluster centeriods\n",
    "\n",
    "print (kmeans.cluster_centers_)"
   ]
  },
  {
   "cell_type": "code",
   "execution_count": 97,
   "metadata": {},
   "outputs": [
    {
     "name": "stdout",
     "output_type": "stream",
     "text": [
      "[2.14885496e+00 6.66133815e-16 1.00000000e+00 2.17391304e+00\n",
      " 1.46341463e-01]\n",
      "[1.88167939 2.04395604 2.31736527 3.         0.98373984]\n"
     ]
    }
   ],
   "source": [
    "# The Report cybercrime for the centriods\n",
    "print (kmeans.cluster_centers_[:, 0])\n",
    "\n",
    "# The Victim of cybercrime for the centriods\n",
    "print (kmeans.cluster_centers_[:, 1])"
   ]
  },
  {
   "cell_type": "code",
   "execution_count": 98,
   "metadata": {},
   "outputs": [
    {
     "data": {
      "image/png": "[encoded data removed]",
      "text/plain": [
       "<Figure size 432x288 with 1 Axes>"
      ]
     },
     "metadata": {
      "needs_background": "light"
     },
     "output_type": "display_data"
    }
   ],
   "source": [
    "plt.scatter(X[y_kmeans == 0, 0], X[y_kmeans == 0, 1], s = 100, c = 'red', label = 'Cluster 1')\n",
    "\n",
    "plt.scatter(X[y_kmeans == 1, 0], X[y_kmeans == 1, 1], s = 100, c = 'blue', label = 'Cluster 2')\n",
    "\n",
    "plt.scatter(X[y_kmeans == 2, 0], X[y_kmeans == 2, 1], s = 100, c = 'green', label = 'Cluster 3')\n",
    "\n",
    "plt.scatter(X[y_kmeans == 3, 0], X[y_kmeans == 3, 1], s = 100, c = 'orange', label = 'Cluster 4')\n",
    "\n",
    "plt.scatter(X[y_kmeans == 4, 0], X[y_kmeans == 4, 1], s = 100, c = 'grey', label = 'Cluster 5')\n",
    "\n",
    "#plt.scatter(X[y_kmeans == 5, 0], X[y_kmeans == 5, 1], s = 100, c = 'black', label = 'Cluster 6')\n",
    "\n",
    "plt.scatter(kmeans.cluster_centers_[:, 0], kmeans.cluster_centers_[:, 1], s = 200, c = 'brown', label = 'Centroids')\n",
    "plt.title('Clusters of customers')\n",
    "plt.xlabel('Annual Income (k$)')\n",
    "plt.ylabel('Spending Score (1-100)')\n",
    "plt.legend()\n",
    "plt.show()"
   ]
  },
  {
   "cell_type": "code",
   "execution_count": 99,
   "metadata": {},
   "outputs": [
    {
     "name": "stdout",
     "output_type": "stream",
     "text": [
      "[   7   12   13   16   21   22   25   27   28   31   33   34   38   40\n",
      "   43   49   50   51   53   55   62   64   66   68   70   72   76   89\n",
      "   95   97   98   99  102  109  110  113  116  119  138  139  140  141\n",
      "  142  149  158  165  167  171  176  181  190  192  195  196  203  223\n",
      "  224  225  235  237  238  244  247  255  258  259  263  264  267  280\n",
      "  281  283  285  286  288  290  291  294  303  305  307  309  311  315\n",
      "  319  321  324  331  335  336  341  346  350  353  363  364  369  370\n",
      "  373  380  382  386  387  388  392  393  396  397  401  402  407  408\n",
      "  410  412  414  417  419  421  422  424  426  438  439  443  444  447\n",
      "  458  459  460  464  500  501  503  504  506  516  517  523  524  526\n",
      "  527  529  533  537  539  551  554  556  557  563  564  565  569  571\n",
      "  573  575  576  579  583  589  591  593  603  606  608  615  616  620\n",
      "  622  627  628  630  633  634  653  654  655  667  670  672  675  676\n",
      "  677  679  680  684  688  692  693  735  739  755  760  761  768  779\n",
      "  780  784  793  797  806  811  813  814  822  827  837  838  848  852\n",
      "  857  870  885  890  891  893  896  902  906  922  924  933  947  955\n",
      "  958  963  968  969  975  992 1003 1020 1027 1034 1035 1036 1049 1064\n",
      " 1065 1075 1076 1077 1085 1087 1101 1109 1120 1123 1127 1130 1133 1138\n",
      " 1146 1147 1152 1163 1166 1173 1174 1180 1187 1188]\n"
     ]
    }
   ],
   "source": [
    "#print (np.where(y_kmeans ==0 )[0])"
   ]
  }
 ],
 "metadata": {
  "interpreter": {
   "hash": "95d73d6fd1cff5fb2f41ff3c75621fd967f90acca1c16714a7d5860f4cfbfbc9"
  },
  "kernelspec": {
   "display_name": "Python 3",
   "language": "python",
   "name": "python3"
  },
  "language_info": {
   "codemirror_mode": {
    "name": "ipython",
    "version": 3
   },
   "file_extension": ".py",
   "mimetype": "text/x-python",
   "name": "python",
   "nbconvert_exporter": "python",
   "pygments_lexer": "ipython3",
   "version": "3.7.1"
  },
  "varInspector": {
   "cols": {
    "lenName": 16,
    "lenType": 16,
    "lenVar": 40
   },
   "kernels_config": {
    "python": {
     "delete_cmd_postfix": "",
     "delete_cmd_prefix": "del ",
     "library": "var_list.py",
     "varRefreshCmd": "print(var_dic_list())"
    },
    "r": {
     "delete_cmd_postfix": ") ",
     "delete_cmd_prefix": "rm(",
     "library": "var_list.r",
     "varRefreshCmd": "cat(var_dic_list()) "
    }
   },
   "types_to_exclude": [
    "module",
    "function",
    "builtin_function_or_method",
    "instance",
    "_Feature"
   ],
   "window_display": false
  }
 },
 "nbformat": 4,
 "nbformat_minor": 2
}
